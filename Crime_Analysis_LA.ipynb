{
 "cells": [
  {
   "cell_type": "markdown",
   "id": "61e13ad2-9cda-4ab5-83a1-9a79af8f1505",
   "metadata": {},
   "source": [
    "# Introduction\n",
    "\n",
    "Welcome to this project analyzing crime data from Los Angeles, California, known as the \"City of Angels.\" 🌴✨\n",
    "\n",
    "Los Angeles is famous for its sunny weather, palm trees, and entertainment industry. However, like any major city, it also faces challenges, including a high crime rate. This project aims to explore a crime dataset to identify patterns in criminal behavior and provide valuable insights to the Los Angeles Police Department (LAPD).\n",
    "\n",
    "By analyzing the `crimes.csv` file, we will address the following questions:\n",
    "\n",
    "- **Which hour has the highest frequency of crimes?** \n",
    "- **Which area has the largest frequency of night crimes (crimes committed between 10 PM and 3:59 AM)?** \n",
    "- **What is the number of crimes committed against victims of different age groups?** \n",
    "\n",
    "These analyses will assist the LAPD in effectively allocating resources to tackle crime in various areas. Let’s dive into the data!"
   ]
  },
  {
   "cell_type": "code",
   "execution_count": 2,
   "id": "888ef591-f40f-47e1-8574-083b48159ea3",
   "metadata": {},
   "outputs": [
    {
     "data": {
      "text/html": [
       "<div>\n",
       "<style scoped>\n",
       "    .dataframe tbody tr th:only-of-type {\n",
       "        vertical-align: middle;\n",
       "    }\n",
       "\n",
       "    .dataframe tbody tr th {\n",
       "        vertical-align: top;\n",
       "    }\n",
       "\n",
       "    .dataframe thead th {\n",
       "        text-align: right;\n",
       "    }\n",
       "</style>\n",
       "<table border=\"1\" class=\"dataframe\">\n",
       "  <thead>\n",
       "    <tr style=\"text-align: right;\">\n",
       "      <th></th>\n",
       "      <th>DR_NO</th>\n",
       "      <th>Date Rptd</th>\n",
       "      <th>DATE OCC</th>\n",
       "      <th>TIME OCC</th>\n",
       "      <th>AREA NAME</th>\n",
       "      <th>Crm Cd Desc</th>\n",
       "      <th>Vict Age</th>\n",
       "      <th>Vict Sex</th>\n",
       "      <th>Vict Descent</th>\n",
       "      <th>Weapon Desc</th>\n",
       "      <th>Status Desc</th>\n",
       "      <th>LOCATION</th>\n",
       "    </tr>\n",
       "  </thead>\n",
       "  <tbody>\n",
       "    <tr>\n",
       "      <th>0</th>\n",
       "      <td>220314085</td>\n",
       "      <td>2022-07-22</td>\n",
       "      <td>2020-05-12</td>\n",
       "      <td>1110</td>\n",
       "      <td>Southwest</td>\n",
       "      <td>THEFT OF IDENTITY</td>\n",
       "      <td>27</td>\n",
       "      <td>F</td>\n",
       "      <td>B</td>\n",
       "      <td>NaN</td>\n",
       "      <td>Invest Cont</td>\n",
       "      <td>2500 S  SYCAMORE                     AV</td>\n",
       "    </tr>\n",
       "    <tr>\n",
       "      <th>1</th>\n",
       "      <td>222013040</td>\n",
       "      <td>2022-08-06</td>\n",
       "      <td>2020-06-04</td>\n",
       "      <td>1620</td>\n",
       "      <td>Olympic</td>\n",
       "      <td>THEFT OF IDENTITY</td>\n",
       "      <td>60</td>\n",
       "      <td>M</td>\n",
       "      <td>H</td>\n",
       "      <td>NaN</td>\n",
       "      <td>Invest Cont</td>\n",
       "      <td>3300    SAN MARINO                   ST</td>\n",
       "    </tr>\n",
       "    <tr>\n",
       "      <th>2</th>\n",
       "      <td>220614831</td>\n",
       "      <td>2022-08-18</td>\n",
       "      <td>2020-08-17</td>\n",
       "      <td>1200</td>\n",
       "      <td>Hollywood</td>\n",
       "      <td>THEFT OF IDENTITY</td>\n",
       "      <td>28</td>\n",
       "      <td>M</td>\n",
       "      <td>H</td>\n",
       "      <td>NaN</td>\n",
       "      <td>Invest Cont</td>\n",
       "      <td>1900    TRANSIENT</td>\n",
       "    </tr>\n",
       "    <tr>\n",
       "      <th>3</th>\n",
       "      <td>231207725</td>\n",
       "      <td>2023-02-27</td>\n",
       "      <td>2020-01-27</td>\n",
       "      <td>0635</td>\n",
       "      <td>77th Street</td>\n",
       "      <td>THEFT OF IDENTITY</td>\n",
       "      <td>37</td>\n",
       "      <td>M</td>\n",
       "      <td>H</td>\n",
       "      <td>NaN</td>\n",
       "      <td>Invest Cont</td>\n",
       "      <td>6200    4TH                          AV</td>\n",
       "    </tr>\n",
       "    <tr>\n",
       "      <th>4</th>\n",
       "      <td>220213256</td>\n",
       "      <td>2022-07-14</td>\n",
       "      <td>2020-07-14</td>\n",
       "      <td>0900</td>\n",
       "      <td>Rampart</td>\n",
       "      <td>THEFT OF IDENTITY</td>\n",
       "      <td>79</td>\n",
       "      <td>M</td>\n",
       "      <td>B</td>\n",
       "      <td>NaN</td>\n",
       "      <td>Invest Cont</td>\n",
       "      <td>1200 W  7TH                          ST</td>\n",
       "    </tr>\n",
       "  </tbody>\n",
       "</table>\n",
       "</div>"
      ],
      "text/plain": [
       "       DR_NO  Date Rptd   DATE OCC TIME OCC    AREA NAME        Crm Cd Desc  \\\n",
       "0  220314085 2022-07-22 2020-05-12     1110    Southwest  THEFT OF IDENTITY   \n",
       "1  222013040 2022-08-06 2020-06-04     1620      Olympic  THEFT OF IDENTITY   \n",
       "2  220614831 2022-08-18 2020-08-17     1200    Hollywood  THEFT OF IDENTITY   \n",
       "3  231207725 2023-02-27 2020-01-27     0635  77th Street  THEFT OF IDENTITY   \n",
       "4  220213256 2022-07-14 2020-07-14     0900      Rampart  THEFT OF IDENTITY   \n",
       "\n",
       "   Vict Age Vict Sex Vict Descent Weapon Desc  Status Desc  \\\n",
       "0        27        F            B         NaN  Invest Cont   \n",
       "1        60        M            H         NaN  Invest Cont   \n",
       "2        28        M            H         NaN  Invest Cont   \n",
       "3        37        M            H         NaN  Invest Cont   \n",
       "4        79        M            B         NaN  Invest Cont   \n",
       "\n",
       "                                  LOCATION  \n",
       "0  2500 S  SYCAMORE                     AV  \n",
       "1  3300    SAN MARINO                   ST  \n",
       "2                        1900    TRANSIENT  \n",
       "3  6200    4TH                          AV  \n",
       "4  1200 W  7TH                          ST  "
      ]
     },
     "execution_count": 2,
     "metadata": {},
     "output_type": "execute_result"
    }
   ],
   "source": [
    "import pandas as pd\n",
    "import numpy as np\n",
    "import matplotlib.pyplot as plt\n",
    "import seaborn as sns\n",
    "crimes = pd.read_csv(\"Dataset/crimes.csv\", parse_dates=[\"Date Rptd\", \"DATE OCC\"], dtype={\"TIME OCC\": str})\n",
    "crimes.head()"
   ]
  },
  {
   "cell_type": "code",
   "execution_count": 4,
   "id": "2232de35-c9a2-4f20-85a9-41265941f97b",
   "metadata": {},
   "outputs": [
    {
     "data": {
      "text/plain": [
       "(185715, 12)"
      ]
     },
     "execution_count": 4,
     "metadata": {},
     "output_type": "execute_result"
    }
   ],
   "source": [
    "crimes.shape"
   ]
  },
  {
   "cell_type": "markdown",
   "id": "8bb54ab1-8120-448c-b9a2-050c2115b961",
   "metadata": {},
   "source": [
    "## 1 Which hour has the highest frequency of crimes?"
   ]
  },
  {
   "cell_type": "markdown",
   "id": "699a7352-8130-4978-9cee-c08ce3a6bc68",
   "metadata": {},
   "source": [
    "To achieve this, we need to retain only the first two elements from each row in the 'TIME OCC' column, as we have already transformed this column into a string type."
   ]
  },
  {
   "cell_type": "code",
   "execution_count": 19,
   "id": "3dfa7dde-4204-451b-899f-54444b21ee0b",
   "metadata": {},
   "outputs": [],
   "source": [
    "hour_crimes = crimes[\"TIME OCC\"].str[:2]"
   ]
  },
  {
   "cell_type": "code",
   "execution_count": 26,
   "id": "d1218937-d649-4cd4-ab56-5bf0f87fa585",
   "metadata": {},
   "outputs": [],
   "source": [
    "hour_crimes = hour_crimes"
   ]
  },
  {
   "cell_type": "code",
   "execution_count": 38,
   "id": "e350be04-938f-4245-aca1-982466f32bb0",
   "metadata": {},
   "outputs": [],
   "source": [
    "hour_crimes_count = hour_crimes.value_counts()"
   ]
  },
  {
   "cell_type": "code",
   "execution_count": 39,
   "id": "5d4e4183-06d0-4339-ad9d-93726bf288a8",
   "metadata": {},
   "outputs": [
    {
     "data": {
      "text/plain": [
       "TIME OCC\n",
       "12    13663\n",
       "18    10125\n",
       "17     9964\n",
       "20     9579\n",
       "15     9393\n",
       "19     9262\n",
       "16     9224\n",
       "14     8872\n",
       "11     8787\n",
       "0      8728\n",
       "21     8701\n",
       "22     8531\n",
       "13     8474\n",
       "10     8440\n",
       "8      7523\n",
       "23     7419\n",
       "9      7092\n",
       "1      5836\n",
       "6      5621\n",
       "7      5403\n",
       "2      4726\n",
       "3      3943\n",
       "4      3238\n",
       "5      3171\n",
       "Name: count, dtype: int64"
      ]
     },
     "execution_count": 39,
     "metadata": {},
     "output_type": "execute_result"
    }
   ],
   "source": [
    "hour_crimes_count"
   ]
  },
  {
   "cell_type": "markdown",
   "id": "7d134b2e-5c1c-4785-ac34-9be610305af7",
   "metadata": {},
   "source": [
    "but its more clear with frequency "
   ]
  },
  {
   "cell_type": "code",
   "execution_count": 29,
   "id": "160a049f-fd68-4c7f-820d-c17ce3b32a3f",
   "metadata": {},
   "outputs": [],
   "source": [
    "hour_crimes = pd.to_numeric(hour_crimes)"
   ]
  },
  {
   "cell_type": "code",
   "execution_count": 37,
   "id": "2d18a873-c805-4a77-a584-6318fecd7726",
   "metadata": {},
   "outputs": [
    {
     "data": {
      "text/plain": [
       "0         11\n",
       "1         16\n",
       "2         12\n",
       "3          6\n",
       "4          9\n",
       "          ..\n",
       "185710    11\n",
       "185711    18\n",
       "185712    10\n",
       "185713    16\n",
       "185714     9\n",
       "Name: TIME OCC, Length: 185715, dtype: int64"
      ]
     },
     "execution_count": 37,
     "metadata": {},
     "output_type": "execute_result"
    }
   ],
   "source": [
    "hour_crimes"
   ]
  },
  {
   "cell_type": "code",
   "execution_count": 30,
   "id": "45a5451f-f47b-4cad-b442-99c9a042442e",
   "metadata": {},
   "outputs": [],
   "source": [
    "total_counts = hour_crimes.value_counts().sum()"
   ]
  },
  {
   "cell_type": "code",
   "execution_count": 36,
   "id": "45d4cfb9-17bf-4238-8be6-79090041245e",
   "metadata": {},
   "outputs": [
    {
     "data": {
      "text/plain": [
       "185715"
      ]
     },
     "execution_count": 36,
     "metadata": {},
     "output_type": "execute_result"
    }
   ],
   "source": [
    "total_counts"
   ]
  },
  {
   "cell_type": "code",
   "execution_count": 40,
   "id": "a9c774c3-44a3-43b0-a81e-496c5f5d3537",
   "metadata": {},
   "outputs": [],
   "source": [
    "percentage_crimes = (hour_crimes_count / total_counts) * 100"
   ]
  },
  {
   "cell_type": "code",
   "execution_count": 41,
   "id": "4a1bb546-7720-46ad-909c-65e7995350b3",
   "metadata": {},
   "outputs": [
    {
     "data": {
      "text/plain": [
       "TIME OCC\n",
       "12    7.356972\n",
       "18    5.451902\n",
       "17    5.365210\n",
       "20    5.157903\n",
       "15    5.057750\n",
       "19    4.987212\n",
       "16    4.966750\n",
       "14    4.777212\n",
       "11    4.731443\n",
       "0     4.699674\n",
       "21    4.685136\n",
       "22    4.593598\n",
       "13    4.562906\n",
       "10    4.544598\n",
       "8     4.050831\n",
       "23    3.994831\n",
       "9     3.818755\n",
       "1     3.142449\n",
       "6     3.026681\n",
       "7     2.909297\n",
       "2     2.544759\n",
       "3     2.123146\n",
       "4     1.743532\n",
       "5     1.707455\n",
       "Name: count, dtype: float64"
      ]
     },
     "execution_count": 41,
     "metadata": {},
     "output_type": "execute_result"
    }
   ],
   "source": [
    "percentage_crimes"
   ]
  },
  {
   "cell_type": "code",
   "execution_count": 42,
   "id": "589a696f-6cbb-4546-8c08-fc765c66bfbd",
   "metadata": {},
   "outputs": [
    {
     "data": {
      "text/plain": [
       "100.0"
      ]
     },
     "execution_count": 42,
     "metadata": {},
     "output_type": "execute_result"
    }
   ],
   "source": [
    "percentage_crimes.sum()"
   ]
  },
  {
   "cell_type": "markdown",
   "id": "9ab774b4-b83f-4c54-ac85-6b40a594f634",
   "metadata": {},
   "source": [
    "It is observed that the highest frequency of offenses occurs at 12 AM, accounting for 7% of all recorded incidents. Conversely, the lowest frequency is noted at 5 AM, representing only 1.7% of the total offenses."
   ]
  },
  {
   "cell_type": "code",
   "execution_count": null,
   "id": "30b653eb-b68a-45fa-a7bd-e7857944db6a",
   "metadata": {},
   "outputs": [],
   "source": []
  }
 ],
 "metadata": {
  "kernelspec": {
   "display_name": "Python 3 (ipykernel)",
   "language": "python",
   "name": "python3"
  },
  "language_info": {
   "codemirror_mode": {
    "name": "ipython",
    "version": 3
   },
   "file_extension": ".py",
   "mimetype": "text/x-python",
   "name": "python",
   "nbconvert_exporter": "python",
   "pygments_lexer": "ipython3",
   "version": "3.12.3"
  }
 },
 "nbformat": 4,
 "nbformat_minor": 5
}
