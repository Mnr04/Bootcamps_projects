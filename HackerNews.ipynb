{
 "cells": [
  {
   "cell_type": "markdown",
   "id": "f7a1a14a-c19c-4641-884f-1bed34215eaa",
   "metadata": {},
   "source": [
    "# Hacker News Projects "
   ]
  },
  {
   "cell_type": "markdown",
   "id": "c0dd5d17-321b-411b-bb55-8fc6975d1e76",
   "metadata": {},
   "source": [
    "* In this project, we will analyze a subset of Hacker News data using string manipulation, object-oriented programming, and date handling techniques. \n",
    "\n",
    "* We will compare \"Ask HN\" and \"Show HN\" posts to determine which type receives more comments on average and explore trends in post timing. \n",
    "\n",
    "* The goal is to practice data analysis in a real-world context. 📊"
   ]
  },
  {
   "cell_type": "code",
   "execution_count": 2,
   "id": "f686df40-00b9-43ae-bedb-d815f1d50a70",
   "metadata": {},
   "outputs": [],
   "source": [
    "from csv import reader\n",
    "\n",
    "openedFile = open(\"Dataset/hacker_news.csv\")\n",
    "readFile = reader(openedFile)\n",
    "hn = list(readFile)"
   ]
  },
  {
   "cell_type": "code",
   "execution_count": 3,
   "id": "bc2f7ee9-fe7b-4287-9a88-eb0953bade4d",
   "metadata": {},
   "outputs": [
    {
     "name": "stdout",
     "output_type": "stream",
     "text": [
      "[['id', 'title', 'url', 'num_points', 'num_comments', 'author', 'created_at'], ['12224879', 'Interactive Dynamic Video', 'http://www.interactivedynamicvideo.com/', '386', '52', 'ne0phyte', '8/4/2016 11:52'], ['10975351', 'How to Use Open Source and Shut the Fuck Up at the Same Time', 'http://hueniverse.com/2016/01/26/how-to-use-open-source-and-shut-the-fuck-up-at-the-same-time/', '39', '10', 'josep2', '1/26/2016 19:30'], ['11964716', \"Florida DJs May Face Felony for April Fools' Water Joke\", 'http://www.thewire.com/entertainment/2013/04/florida-djs-april-fools-water-joke/63798/', '2', '1', 'vezycash', '6/23/2016 22:20'], ['11919867', 'Technology ventures: From Idea to Enterprise', 'https://www.amazon.com/Technology-Ventures-Enterprise-Thomas-Byers/dp/0073523429', '3', '1', 'hswarna', '6/17/2016 0:01']]\n"
     ]
    }
   ],
   "source": [
    "print(hn[:5])"
   ]
  },
  {
   "cell_type": "code",
   "execution_count": 4,
   "id": "ed1263d2-4640-46e6-8d89-50068e000ff6",
   "metadata": {},
   "outputs": [],
   "source": [
    "header = hn[1:]"
   ]
  },
  {
   "cell_type": "code",
   "execution_count": 5,
   "id": "383ddcf9-69b0-4000-8660-34cd76f913f4",
   "metadata": {},
   "outputs": [
    {
     "name": "stdout",
     "output_type": "stream",
     "text": [
      "[['12224879', 'Interactive Dynamic Video', 'http://www.interactivedynamicvideo.com/', '386', '52', 'ne0phyte', '8/4/2016 11:52'], ['10975351', 'How to Use Open Source and Shut the Fuck Up at the Same Time', 'http://hueniverse.com/2016/01/26/how-to-use-open-source-and-shut-the-fuck-up-at-the-same-time/', '39', '10', 'josep2', '1/26/2016 19:30'], ['11964716', \"Florida DJs May Face Felony for April Fools' Water Joke\", 'http://www.thewire.com/entertainment/2013/04/florida-djs-april-fools-water-joke/63798/', '2', '1', 'vezycash', '6/23/2016 22:20'], ['11919867', 'Technology ventures: From Idea to Enterprise', 'https://www.amazon.com/Technology-Ventures-Enterprise-Thomas-Byers/dp/0073523429', '3', '1', 'hswarna', '6/17/2016 0:01'], ['10301696', 'Note by Note: The Making of Steinway L1037 (2007)', 'http://www.nytimes.com/2007/11/07/movies/07stein.html?_r=0', '8', '2', 'walterbell', '9/30/2015 4:12']]\n"
     ]
    }
   ],
   "source": [
    "print(header[:5])"
   ]
  },
  {
   "cell_type": "markdown",
   "id": "d5cdf1be-772a-4711-8e0f-dbbf8485217f",
   "metadata": {},
   "source": [
    "### Extracting Ask HN and Show HN Posts "
   ]
  },
  {
   "cell_type": "code",
   "execution_count": 6,
   "id": "eeee4e67-f03d-49ad-bf30-1f4870ce8655",
   "metadata": {},
   "outputs": [],
   "source": [
    "ask_posts = []\n",
    "show_posts = []\n",
    "other_posts = []"
   ]
  },
  {
   "cell_type": "code",
   "execution_count": 7,
   "id": "0f021588-f3e4-48f0-9b8b-4374680b4b59",
   "metadata": {},
   "outputs": [],
   "source": [
    "for row in hn:\n",
    "    title = row[1]\n",
    "    lowerTitle = title.lower()\n",
    "    if lowerTitle.startswith('ask hn'):\n",
    "        ask_posts.append(row)\n",
    "    elif lowerTitle.startswith('show hn'):\n",
    "        show_posts.append(row)\n",
    "    else :\n",
    "        other_posts.append(row)\n",
    "        \n",
    "     \n",
    "        \n",
    "    "
   ]
  },
  {
   "cell_type": "code",
   "execution_count": 90,
   "id": "59cc93bc-a87b-49d9-804d-a426c53601ed",
   "metadata": {},
   "outputs": [
    {
     "name": "stdout",
     "output_type": "stream",
     "text": [
      "Ask posts contain  1744\n",
      "show_posts contain  1162\n",
      "other_posts contain  17195\n"
     ]
    },
    {
     "data": {
      "text/plain": [
       "(None, ' articles')"
      ]
     },
     "execution_count": 90,
     "metadata": {},
     "output_type": "execute_result"
    }
   ],
   "source": [
    "print (\"Ask posts contain \", len(ask_posts)), \" articles\"\n",
    "print (\"show_posts contain \", len(show_posts)), \" articles\"\n",
    "print (\"other_posts contain \", len(other_posts)), \" articles\"\n",
    "\n"
   ]
  },
  {
   "cell_type": "markdown",
   "id": "16dcb251-463b-4a2e-a25b-8977df1c7ea8",
   "metadata": {},
   "source": [
    "## Let's determine if ask posts or show posts receive more comments on average."
   ]
  },
  {
   "cell_type": "markdown",
   "id": "b2ae42db-db7e-43bf-91f4-099af0815b47",
   "metadata": {},
   "source": [
    "### For ask post"
   ]
  },
  {
   "cell_type": "code",
   "execution_count": 9,
   "id": "63d4de8c-cf40-4f61-822c-7c68442acdb3",
   "metadata": {},
   "outputs": [],
   "source": [
    "total_ask_comments = 0\n",
    "for post in ask_posts:\n",
    "    numComments = post[4]\n",
    "    numComments = int(numComments)\n",
    "    total_ask_comments += numComments\n",
    "avg_ask_comments = total_ask_comments / len(ask_posts)"
   ]
  },
  {
   "cell_type": "code",
   "execution_count": 10,
   "id": "b2e6df28-7b8b-4784-b8b4-36b09165093d",
   "metadata": {},
   "outputs": [
    {
     "name": "stdout",
     "output_type": "stream",
     "text": [
      "the average number of comments on ask posts is 14\n"
     ]
    }
   ],
   "source": [
    "print(\"the average number of comments on ask posts is\", int(avg_ask_comments))"
   ]
  },
  {
   "cell_type": "markdown",
   "id": "a077ca11-fb1e-49dc-9e36-0e93f406e8b3",
   "metadata": {},
   "source": [
    "### For show posts"
   ]
  },
  {
   "cell_type": "code",
   "execution_count": 11,
   "id": "ca1b5893-99c1-4f73-8074-45ace1ada23b",
   "metadata": {},
   "outputs": [],
   "source": [
    "total_show_comments = 0\n",
    "\n",
    "for post in show_posts:\n",
    "    numComments = post[4]\n",
    "    numComments = int(numComments)\n",
    "    total_show_comments += numComments\n",
    "avg_show_comments = total_show_comments / len(show_posts)\n"
   ]
  },
  {
   "cell_type": "code",
   "execution_count": 12,
   "id": "62f06e43-209c-4f3a-bad7-25225a4cbcdf",
   "metadata": {},
   "outputs": [
    {
     "name": "stdout",
     "output_type": "stream",
     "text": [
      "the average number of comments on show posts is 10\n"
     ]
    }
   ],
   "source": [
    "print(\"the average number of comments on show posts is\", int(avg_show_comments))"
   ]
  },
  {
   "cell_type": "markdown",
   "id": "6f54c6ea-43b3-41c7-a4c9-726c658194ed",
   "metadata": {},
   "source": [
    "* You should've determined that, on average, ask posts receive more comments than show posts. Since ask posts are more likely to receive comments, we'll focus our remaining analysis just on these posts.\n"
   ]
  },
  {
   "cell_type": "markdown",
   "id": "127a73ae-e504-4ec3-b3f2-c4c2fd07f440",
   "metadata": {},
   "source": [
    "### we'll determine if ask posts created at a certain time are more likely to attract comments"
   ]
  },
  {
   "cell_type": "code",
   "execution_count": 14,
   "id": "9d630452-990e-4ba7-83f7-e4bd41d47e8b",
   "metadata": {},
   "outputs": [],
   "source": [
    "import datetime as dt\n",
    "\n",
    "result_list = []\n",
    "for element in ask_posts:\n",
    "    created_time = element[6]\n",
    "    num_comment = int(element[4])\n",
    "    result_list.append((created_time, num_comment))\n"
   ]
  },
  {
   "cell_type": "code",
   "execution_count": 17,
   "id": "22613f07-af9d-4bb0-8d22-272c2892609f",
   "metadata": {},
   "outputs": [
    {
     "name": "stdout",
     "output_type": "stream",
     "text": [
      "[('8/16/2016 9:55', 6), ('11/22/2015 13:43', 29), ('5/2/2016 10:14', 1), ('8/2/2016 14:20', 3), ('10/15/2015 16:38', 17)]\n"
     ]
    }
   ],
   "source": [
    "print(result_list[:5])"
   ]
  },
  {
   "cell_type": "code",
   "execution_count": 73,
   "id": "30aba696-f895-45f2-a305-3f4c0c1e15ac",
   "metadata": {},
   "outputs": [],
   "source": [
    "counts_by_hour = {}\n",
    "comments_by_hour = {}\n",
    "\n",
    "for rdv in result_list:\n",
    "    rdv_hour = rdv[0]\n",
    "    datetime = dt.datetime.strptime(rdv_hour, \"%m/%d/%Y %H:%M\")\n",
    "    h_rdv = datetime.hour\n",
    "    if h_rdv not in counts_by_hour:\n",
    "        counts_by_hour[h_rdv] = 1\n",
    "        comments_by_hour[h_rdv] = int(rdv[1])\n",
    "    else:\n",
    "        counts_by_hour[h_rdv] += 1\n",
    "        comments_by_hour[h_rdv] += int(rdv[1])\n",
    "        "
   ]
  },
  {
   "cell_type": "code",
   "execution_count": 74,
   "id": "29044887-152b-4124-af11-e50d9751184a",
   "metadata": {},
   "outputs": [
    {
     "name": "stdout",
     "output_type": "stream",
     "text": [
      "Nombre de Ask Post par h ➡️ {9: 45, 13: 85, 10: 59, 14: 107, 16: 108, 23: 68, 12: 73, 17: 100, 15: 116, 21: 109, 20: 80, 2: 58, 18: 109, 3: 54, 5: 46, 19: 110, 1: 60, 22: 71, 8: 48, 4: 47, 0: 55, 6: 44, 7: 34, 11: 58}\n",
      "Nombre de Commentaire par h ➡️ {9: 251, 13: 1253, 10: 793, 14: 1416, 16: 1814, 23: 543, 12: 687, 17: 1146, 15: 4477, 21: 1745, 20: 1722, 2: 1381, 18: 1439, 3: 421, 5: 464, 19: 1188, 1: 683, 22: 479, 8: 492, 4: 337, 0: 447, 6: 397, 7: 267, 11: 641}\n"
     ]
    }
   ],
   "source": [
    "print(\"Nombre de Ask Post par h ➡️\", counts_by_hour)\n",
    "print(\"Nombre de Commentaire par h ➡️\",comments_by_hour)"
   ]
  },
  {
   "cell_type": "markdown",
   "id": "d20978e6-bada-4546-bdda-dd05f20c3185",
   "metadata": {},
   "source": [
    "###  Calculating the Average Number of Comments for Ask HN Posts by Hour"
   ]
  },
  {
   "cell_type": "code",
   "execution_count": 77,
   "id": "d70ef162-b34c-4bfe-8dcd-0f1e06da69ae",
   "metadata": {},
   "outputs": [
    {
     "name": "stdout",
     "output_type": "stream",
     "text": [
      "[[9, 5.58], [13, 14.74], [10, 13.44], [14, 13.23], [16, 16.8], [23, 7.99], [12, 9.41], [17, 11.46], [15, 38.59], [21, 16.01], [20, 21.52], [2, 23.81], [18, 13.2], [3, 7.8], [5, 10.09], [19, 10.8], [1, 11.38], [22, 6.75], [8, 10.25], [4, 7.17], [0, 8.13], [6, 9.02], [7, 7.85], [11, 11.05]]\n"
     ]
    }
   ],
   "source": [
    "\n",
    "avg_by_hour = []\n",
    "\n",
    "for hour in counts_by_hour:\n",
    "    if hour in comments_by_hour:\n",
    "        avg_by_hour.append([hour, round(comments_by_hour[hour] / counts_by_hour[hour], 2)])\n",
    "\n",
    "\n",
    "print(avg_by_hour)"
   ]
  },
  {
   "cell_type": "markdown",
   "id": "b73d4b4d-19a1-4cea-bee9-73a56546089d",
   "metadata": {},
   "source": [
    "### Sorting and Printing Values"
   ]
  },
  {
   "cell_type": "code",
   "execution_count": 82,
   "id": "6931c5f9-ae0b-480a-a329-094fddbc1b94",
   "metadata": {},
   "outputs": [],
   "source": [
    "swap_avg_by_hour = []\n",
    "for row in avg_by_hour:\n",
    "    swap_avg_by_hour.append([row[1], row[0]])"
   ]
  },
  {
   "cell_type": "code",
   "execution_count": 83,
   "id": "01ccd487-2527-4880-850f-bdb93faaf10b",
   "metadata": {},
   "outputs": [
    {
     "name": "stdout",
     "output_type": "stream",
     "text": [
      "[[5.58, 9], [14.74, 13], [13.44, 10], [13.23, 14], [16.8, 16], [7.99, 23], [9.41, 12], [11.46, 17], [38.59, 15], [16.01, 21], [21.52, 20], [23.81, 2], [13.2, 18], [7.8, 3], [10.09, 5], [10.8, 19], [11.38, 1], [6.75, 22], [10.25, 8], [7.17, 4], [8.13, 0], [9.02, 6], [7.85, 7], [11.05, 11]]\n"
     ]
    }
   ],
   "source": [
    "print(swap_avg_by_hour)"
   ]
  },
  {
   "cell_type": "code",
   "execution_count": 84,
   "id": "83643766-478a-4a28-9b93-1940d658768d",
   "metadata": {},
   "outputs": [],
   "source": [
    "sorted_swap = sorted(swap_avg_by_hour, reverse=True)"
   ]
  },
  {
   "cell_type": "markdown",
   "id": "b8bd155c-72fc-4964-af94-bc0649bacfc1",
   "metadata": {},
   "source": [
    "### Top 5 Hours for Ask Posts Comments"
   ]
  },
  {
   "cell_type": "code",
   "execution_count": 85,
   "id": "d260d015-535c-4f2f-997f-f2608c0f27a6",
   "metadata": {},
   "outputs": [
    {
     "name": "stdout",
     "output_type": "stream",
     "text": [
      "[[38.59, 15], [23.81, 2], [21.52, 20], [16.8, 16], [16.01, 21], [14.74, 13], [13.44, 10], [13.23, 14], [13.2, 18], [11.46, 17], [11.38, 1], [11.05, 11], [10.8, 19], [10.25, 8], [10.09, 5], [9.41, 12], [9.02, 6], [8.13, 0], [7.99, 23], [7.85, 7], [7.8, 3], [7.17, 4], [6.75, 22], [5.58, 9]]\n"
     ]
    }
   ],
   "source": [
    "print(sorted_swap)\n",
    "    "
   ]
  },
  {
   "cell_type": "code",
   "execution_count": 89,
   "id": "d31a2e6e-9c8a-4f2a-a3e2-77fd4a8c2d3a",
   "metadata": {},
   "outputs": [
    {
     "name": "stdout",
     "output_type": "stream",
     "text": [
      "15 H: 38.59 average comments per post\n",
      "2 H: 23.81 average comments per post\n",
      "20 H: 21.52 average comments per post\n",
      "16 H: 16.8 average comments per post\n",
      "21 H: 16.01 average comments per post\n"
     ]
    }
   ],
   "source": [
    "for data in sorted_swap[:5]:\n",
    "    print(data[1], \"H:\", data[0], \"average comments per post\")"
   ]
  },
  {
   "cell_type": "markdown",
   "id": "3d4e0e67-8614-4668-bce1-f99c2eae0987",
   "metadata": {},
   "source": [
    "### In conclusion, \"ask\" posts tend to generate the highest number of comments. Among the different times of day, 3 PM is the best time to post, with an average of 38.59 comments per post."
   ]
  }
 ],
 "metadata": {
  "kernelspec": {
   "display_name": "Python 3 (ipykernel)",
   "language": "python",
   "name": "python3"
  },
  "language_info": {
   "codemirror_mode": {
    "name": "ipython",
    "version": 3
   },
   "file_extension": ".py",
   "mimetype": "text/x-python",
   "name": "python",
   "nbconvert_exporter": "python",
   "pygments_lexer": "ipython3",
   "version": "3.12.3"
  }
 },
 "nbformat": 4,
 "nbformat_minor": 5
}
