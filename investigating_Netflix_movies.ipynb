{
 "cells": [
  {
   "cell_type": "markdown",
   "id": "34bcce5c-b1e8-4dc1-95d4-3aa468a4de7c",
   "metadata": {},
   "source": [
    "# Investigating Netflix Movies"
   ]
  },
  {
   "cell_type": "markdown",
   "id": "4b655456-1192-4274-b69c-157be7236789",
   "metadata": {},
   "source": [
    "## Introduction\n",
    "\n",
    "Netflix started in 1997 as a DVD rental service and has grown into a major entertainment company. This workbook focuses on the nostalgic films of the 1990s, allowing you to explore Netflix data through exploratory data analysis. As part of a production company specializing in nostalgic styles, you’ll uncover trends and insights from this iconic decade in cinema.\n",
    "\n",
    "- What was the most frequent movie duration in the 1990s? Save an approximate answer as an integer called duration (use 1990 as the decade's start year).\n",
    "\n",
    "- A movie is considered short if it is less than 90 minutes. Count the number of short action movies released in the 1990s and save this integer as short_movie_count.\n"
   ]
  },
  {
   "cell_type": "code",
   "execution_count": 1,
   "id": "817fe71e-b110-4a35-a62b-48a88d5e4126",
   "metadata": {},
   "outputs": [],
   "source": [
    "import pandas as pd\n",
    "import matplotlib.pyplot as plt\n",
    "\n",
    "df = pd.read_csv(\"Dataset/netflix_data.csv\")"
   ]
  },
  {
   "cell_type": "code",
   "execution_count": 2,
   "id": "dbafa87a-a02d-48ba-af03-b562f18e2a2b",
   "metadata": {},
   "outputs": [
    {
     "data": {
      "text/html": [
       "<div>\n",
       "<style scoped>\n",
       "    .dataframe tbody tr th:only-of-type {\n",
       "        vertical-align: middle;\n",
       "    }\n",
       "\n",
       "    .dataframe tbody tr th {\n",
       "        vertical-align: top;\n",
       "    }\n",
       "\n",
       "    .dataframe thead th {\n",
       "        text-align: right;\n",
       "    }\n",
       "</style>\n",
       "<table border=\"1\" class=\"dataframe\">\n",
       "  <thead>\n",
       "    <tr style=\"text-align: right;\">\n",
       "      <th></th>\n",
       "      <th>show_id</th>\n",
       "      <th>type</th>\n",
       "      <th>title</th>\n",
       "      <th>director</th>\n",
       "      <th>cast</th>\n",
       "      <th>country</th>\n",
       "      <th>date_added</th>\n",
       "      <th>release_year</th>\n",
       "      <th>duration</th>\n",
       "      <th>description</th>\n",
       "      <th>genre</th>\n",
       "    </tr>\n",
       "  </thead>\n",
       "  <tbody>\n",
       "    <tr>\n",
       "      <th>0</th>\n",
       "      <td>s2</td>\n",
       "      <td>Movie</td>\n",
       "      <td>7:19</td>\n",
       "      <td>Jorge Michel Grau</td>\n",
       "      <td>Demián Bichir, Héctor Bonilla, Oscar Serrano, ...</td>\n",
       "      <td>Mexico</td>\n",
       "      <td>December 23, 2016</td>\n",
       "      <td>2016</td>\n",
       "      <td>93</td>\n",
       "      <td>After a devastating earthquake hits Mexico Cit...</td>\n",
       "      <td>Dramas</td>\n",
       "    </tr>\n",
       "    <tr>\n",
       "      <th>1</th>\n",
       "      <td>s3</td>\n",
       "      <td>Movie</td>\n",
       "      <td>23:59</td>\n",
       "      <td>Gilbert Chan</td>\n",
       "      <td>Tedd Chan, Stella Chung, Henley Hii, Lawrence ...</td>\n",
       "      <td>Singapore</td>\n",
       "      <td>December 20, 2018</td>\n",
       "      <td>2011</td>\n",
       "      <td>78</td>\n",
       "      <td>When an army recruit is found dead, his fellow...</td>\n",
       "      <td>Horror Movies</td>\n",
       "    </tr>\n",
       "    <tr>\n",
       "      <th>2</th>\n",
       "      <td>s4</td>\n",
       "      <td>Movie</td>\n",
       "      <td>9</td>\n",
       "      <td>Shane Acker</td>\n",
       "      <td>Elijah Wood, John C. Reilly, Jennifer Connelly...</td>\n",
       "      <td>United States</td>\n",
       "      <td>November 16, 2017</td>\n",
       "      <td>2009</td>\n",
       "      <td>80</td>\n",
       "      <td>In a postapocalyptic world, rag-doll robots hi...</td>\n",
       "      <td>Action</td>\n",
       "    </tr>\n",
       "    <tr>\n",
       "      <th>3</th>\n",
       "      <td>s5</td>\n",
       "      <td>Movie</td>\n",
       "      <td>21</td>\n",
       "      <td>Robert Luketic</td>\n",
       "      <td>Jim Sturgess, Kevin Spacey, Kate Bosworth, Aar...</td>\n",
       "      <td>United States</td>\n",
       "      <td>January 1, 2020</td>\n",
       "      <td>2008</td>\n",
       "      <td>123</td>\n",
       "      <td>A brilliant group of students become card-coun...</td>\n",
       "      <td>Dramas</td>\n",
       "    </tr>\n",
       "    <tr>\n",
       "      <th>4</th>\n",
       "      <td>s6</td>\n",
       "      <td>TV Show</td>\n",
       "      <td>46</td>\n",
       "      <td>Serdar Akar</td>\n",
       "      <td>Erdal Beşikçioğlu, Yasemin Allen, Melis Birkan...</td>\n",
       "      <td>Turkey</td>\n",
       "      <td>July 1, 2017</td>\n",
       "      <td>2016</td>\n",
       "      <td>1</td>\n",
       "      <td>A genetics professor experiments with a treatm...</td>\n",
       "      <td>International TV</td>\n",
       "    </tr>\n",
       "  </tbody>\n",
       "</table>\n",
       "</div>"
      ],
      "text/plain": [
       "  show_id     type  title           director  \\\n",
       "0      s2    Movie   7:19  Jorge Michel Grau   \n",
       "1      s3    Movie  23:59       Gilbert Chan   \n",
       "2      s4    Movie      9        Shane Acker   \n",
       "3      s5    Movie     21     Robert Luketic   \n",
       "4      s6  TV Show     46        Serdar Akar   \n",
       "\n",
       "                                                cast        country  \\\n",
       "0  Demián Bichir, Héctor Bonilla, Oscar Serrano, ...         Mexico   \n",
       "1  Tedd Chan, Stella Chung, Henley Hii, Lawrence ...      Singapore   \n",
       "2  Elijah Wood, John C. Reilly, Jennifer Connelly...  United States   \n",
       "3  Jim Sturgess, Kevin Spacey, Kate Bosworth, Aar...  United States   \n",
       "4  Erdal Beşikçioğlu, Yasemin Allen, Melis Birkan...         Turkey   \n",
       "\n",
       "          date_added  release_year  duration  \\\n",
       "0  December 23, 2016          2016        93   \n",
       "1  December 20, 2018          2011        78   \n",
       "2  November 16, 2017          2009        80   \n",
       "3    January 1, 2020          2008       123   \n",
       "4       July 1, 2017          2016         1   \n",
       "\n",
       "                                         description             genre  \n",
       "0  After a devastating earthquake hits Mexico Cit...            Dramas  \n",
       "1  When an army recruit is found dead, his fellow...     Horror Movies  \n",
       "2  In a postapocalyptic world, rag-doll robots hi...            Action  \n",
       "3  A brilliant group of students become card-coun...            Dramas  \n",
       "4  A genetics professor experiments with a treatm...  International TV  "
      ]
     },
     "execution_count": 2,
     "metadata": {},
     "output_type": "execute_result"
    }
   ],
   "source": [
    "df.head()"
   ]
  },
  {
   "cell_type": "code",
   "execution_count": 3,
   "id": "ed06c4ba-c296-4d6f-aa11-facef90a990c",
   "metadata": {},
   "outputs": [
    {
     "name": "stdout",
     "output_type": "stream",
     "text": [
      "<class 'pandas.core.frame.DataFrame'>\n",
      "RangeIndex: 4812 entries, 0 to 4811\n",
      "Data columns (total 11 columns):\n",
      " #   Column        Non-Null Count  Dtype \n",
      "---  ------        --------------  ----- \n",
      " 0   show_id       4812 non-null   object\n",
      " 1   type          4812 non-null   object\n",
      " 2   title         4812 non-null   object\n",
      " 3   director      4812 non-null   object\n",
      " 4   cast          4812 non-null   object\n",
      " 5   country       4812 non-null   object\n",
      " 6   date_added    4812 non-null   object\n",
      " 7   release_year  4812 non-null   int64 \n",
      " 8   duration      4812 non-null   int64 \n",
      " 9   description   4812 non-null   object\n",
      " 10  genre         4812 non-null   object\n",
      "dtypes: int64(2), object(9)\n",
      "memory usage: 413.7+ KB\n"
     ]
    }
   ],
   "source": [
    "df.info()"
   ]
  },
  {
   "cell_type": "markdown",
   "id": "c5c3e456-f3a1-461d-842e-fc4384c99592",
   "metadata": {},
   "source": [
    "### Question 1 :  What was the most frequent movie duration in the 1990s?"
   ]
  },
  {
   "cell_type": "markdown",
   "id": "3b459aaa-3d8d-4e08-a875-c5e3873970d6",
   "metadata": {},
   "source": [
    "### Filter Data"
   ]
  },
  {
   "cell_type": "markdown",
   "id": "28b7a725-70ed-4077-8765-259461112556",
   "metadata": {},
   "source": [
    "First, we filter the data to include only the movies with a release date between 1990 and 1999."
   ]
  },
  {
   "cell_type": "code",
   "execution_count": 4,
   "id": "a850e8b0-2ccb-43d5-98c3-e2ff0074eb1c",
   "metadata": {},
   "outputs": [],
   "source": [
    "release_90 = df[(df[\"release_year\"] >= 1990) & (df[\"release_year\"] < 2000)]"
   ]
  },
  {
   "cell_type": "code",
   "execution_count": 5,
   "id": "8a844f76-1355-4e96-9ddc-b3bad4dfaf45",
   "metadata": {
    "scrolled": true
   },
   "outputs": [
    {
     "data": {
      "text/plain": [
       "array([1997, 1993, 1998, 1996, 1990, 1999, 1991, 1994, 1995, 1992])"
      ]
     },
     "execution_count": 5,
     "metadata": {},
     "output_type": "execute_result"
    }
   ],
   "source": [
    "release_90[\"release_year\"].unique()"
   ]
  },
  {
   "cell_type": "code",
   "execution_count": 6,
   "id": "2c1d6706-27c3-454e-bb55-a1f1fc767ba5",
   "metadata": {},
   "outputs": [],
   "source": [
    "release_counts = release_90[\"release_year\"].value_counts()"
   ]
  },
  {
   "cell_type": "code",
   "execution_count": 7,
   "id": "08eac9a8-2bd9-4903-b5ed-86ca46c18255",
   "metadata": {},
   "outputs": [
    {
     "data": {
      "text/plain": [
       "release_year\n",
       "1997    26\n",
       "1998    26\n",
       "1999    26\n",
       "1993    16\n",
       "1995    16\n",
       "1992    16\n",
       "1996    15\n",
       "1990    15\n",
       "1991    14\n",
       "1994    14\n",
       "Name: count, dtype: int64"
      ]
     },
     "execution_count": 7,
     "metadata": {},
     "output_type": "execute_result"
    }
   ],
   "source": [
    "release_counts"
   ]
  },
  {
   "cell_type": "code",
   "execution_count": 8,
   "id": "9f3d241b-5f8e-403a-ac47-ab77c3f4a088",
   "metadata": {},
   "outputs": [
    {
     "name": "stdout",
     "output_type": "stream",
     "text": [
      "There are 184 movies released in the 1990s.\n"
     ]
    }
   ],
   "source": [
    "release_90.shape\n",
    "print(f\"There are {release_90.shape[0]} movies released in the 1990s.\")"
   ]
  },
  {
   "cell_type": "markdown",
   "id": "252fccf1-48d9-4e59-83a3-31b11e66475b",
   "metadata": {},
   "source": [
    "We successfully obtained a new DataFrame ***release_90*** containing all the movies released in the 1990s, totaling 184 films."
   ]
  },
  {
   "cell_type": "markdown",
   "id": "dcbb1abb-cdd9-4eeb-8c88-eadd5b20ae39",
   "metadata": {},
   "source": [
    "### Find the most frequent movie duration"
   ]
  },
  {
   "cell_type": "code",
   "execution_count": 9,
   "id": "32abbc9d-f030-45d2-b65b-51607180ecf9",
   "metadata": {},
   "outputs": [
    {
     "data": {
      "text/html": [
       "<div>\n",
       "<style scoped>\n",
       "    .dataframe tbody tr th:only-of-type {\n",
       "        vertical-align: middle;\n",
       "    }\n",
       "\n",
       "    .dataframe tbody tr th {\n",
       "        vertical-align: top;\n",
       "    }\n",
       "\n",
       "    .dataframe thead th {\n",
       "        text-align: right;\n",
       "    }\n",
       "</style>\n",
       "<table border=\"1\" class=\"dataframe\">\n",
       "  <thead>\n",
       "    <tr style=\"text-align: right;\">\n",
       "      <th></th>\n",
       "      <th>show_id</th>\n",
       "      <th>type</th>\n",
       "      <th>title</th>\n",
       "      <th>director</th>\n",
       "      <th>cast</th>\n",
       "      <th>country</th>\n",
       "      <th>date_added</th>\n",
       "      <th>release_year</th>\n",
       "      <th>duration</th>\n",
       "      <th>description</th>\n",
       "      <th>genre</th>\n",
       "    </tr>\n",
       "  </thead>\n",
       "  <tbody>\n",
       "    <tr>\n",
       "      <th>6</th>\n",
       "      <td>s8</td>\n",
       "      <td>Movie</td>\n",
       "      <td>187</td>\n",
       "      <td>Kevin Reynolds</td>\n",
       "      <td>Samuel L. Jackson, John Heard, Kelly Rowan, Cl...</td>\n",
       "      <td>United States</td>\n",
       "      <td>November 1, 2019</td>\n",
       "      <td>1997</td>\n",
       "      <td>119</td>\n",
       "      <td>After one of his high school students attacks ...</td>\n",
       "      <td>Dramas</td>\n",
       "    </tr>\n",
       "    <tr>\n",
       "      <th>118</th>\n",
       "      <td>s167</td>\n",
       "      <td>Movie</td>\n",
       "      <td>A Dangerous Woman</td>\n",
       "      <td>Stephen Gyllenhaal</td>\n",
       "      <td>Debra Winger, Barbara Hershey, Gabriel Byrne, ...</td>\n",
       "      <td>United States</td>\n",
       "      <td>April 1, 2018</td>\n",
       "      <td>1993</td>\n",
       "      <td>101</td>\n",
       "      <td>At the center of this engrossing melodrama is ...</td>\n",
       "      <td>Dramas</td>\n",
       "    </tr>\n",
       "    <tr>\n",
       "      <th>145</th>\n",
       "      <td>s211</td>\n",
       "      <td>Movie</td>\n",
       "      <td>A Night at the Roxbury</td>\n",
       "      <td>John Fortenberry</td>\n",
       "      <td>Will Ferrell, Chris Kattan, Dan Hedaya, Molly ...</td>\n",
       "      <td>United States</td>\n",
       "      <td>December 1, 2019</td>\n",
       "      <td>1998</td>\n",
       "      <td>82</td>\n",
       "      <td>After a run-in with Richard Grieco, dimwits Do...</td>\n",
       "      <td>Comedies</td>\n",
       "    </tr>\n",
       "    <tr>\n",
       "      <th>167</th>\n",
       "      <td>s239</td>\n",
       "      <td>Movie</td>\n",
       "      <td>A Thin Line Between Love &amp; Hate</td>\n",
       "      <td>Martin Lawrence</td>\n",
       "      <td>Martin Lawrence, Lynn Whitfield, Regina King, ...</td>\n",
       "      <td>United States</td>\n",
       "      <td>December 1, 2020</td>\n",
       "      <td>1996</td>\n",
       "      <td>108</td>\n",
       "      <td>When a philandering club promoter sets out to ...</td>\n",
       "      <td>Comedies</td>\n",
       "    </tr>\n",
       "    <tr>\n",
       "      <th>194</th>\n",
       "      <td>s274</td>\n",
       "      <td>Movie</td>\n",
       "      <td>Aashik Awara</td>\n",
       "      <td>Umesh Mehra</td>\n",
       "      <td>Saif Ali Khan, Mamta Kulkarni, Mohnish Bahl, S...</td>\n",
       "      <td>India</td>\n",
       "      <td>June 1, 2017</td>\n",
       "      <td>1993</td>\n",
       "      <td>154</td>\n",
       "      <td>Raised by a kindly thief, orphaned Jimmy goes ...</td>\n",
       "      <td>Dramas</td>\n",
       "    </tr>\n",
       "  </tbody>\n",
       "</table>\n",
       "</div>"
      ],
      "text/plain": [
       "    show_id   type                            title            director  \\\n",
       "6        s8  Movie                              187      Kevin Reynolds   \n",
       "118    s167  Movie                A Dangerous Woman  Stephen Gyllenhaal   \n",
       "145    s211  Movie           A Night at the Roxbury    John Fortenberry   \n",
       "167    s239  Movie  A Thin Line Between Love & Hate     Martin Lawrence   \n",
       "194    s274  Movie                     Aashik Awara         Umesh Mehra   \n",
       "\n",
       "                                                  cast        country  \\\n",
       "6    Samuel L. Jackson, John Heard, Kelly Rowan, Cl...  United States   \n",
       "118  Debra Winger, Barbara Hershey, Gabriel Byrne, ...  United States   \n",
       "145  Will Ferrell, Chris Kattan, Dan Hedaya, Molly ...  United States   \n",
       "167  Martin Lawrence, Lynn Whitfield, Regina King, ...  United States   \n",
       "194  Saif Ali Khan, Mamta Kulkarni, Mohnish Bahl, S...          India   \n",
       "\n",
       "           date_added  release_year  duration  \\\n",
       "6    November 1, 2019          1997       119   \n",
       "118     April 1, 2018          1993       101   \n",
       "145  December 1, 2019          1998        82   \n",
       "167  December 1, 2020          1996       108   \n",
       "194      June 1, 2017          1993       154   \n",
       "\n",
       "                                           description     genre  \n",
       "6    After one of his high school students attacks ...    Dramas  \n",
       "118  At the center of this engrossing melodrama is ...    Dramas  \n",
       "145  After a run-in with Richard Grieco, dimwits Do...  Comedies  \n",
       "167  When a philandering club promoter sets out to ...  Comedies  \n",
       "194  Raised by a kindly thief, orphaned Jimmy goes ...    Dramas  "
      ]
     },
     "execution_count": 9,
     "metadata": {},
     "output_type": "execute_result"
    }
   ],
   "source": [
    "release_90.head()"
   ]
  },
  {
   "cell_type": "code",
   "execution_count": 10,
   "id": "89dea08c-8bfe-4966-855d-6f60b39f73c3",
   "metadata": {},
   "outputs": [],
   "source": [
    "duration_movie = release_90[\"duration\"]"
   ]
  },
  {
   "cell_type": "code",
   "execution_count": 11,
   "id": "2186e5d6-0922-4efd-bff7-aef7c90b988d",
   "metadata": {},
   "outputs": [
    {
     "data": {
      "text/plain": [
       "6       119\n",
       "118     101\n",
       "145      82\n",
       "167     108\n",
       "194     154\n",
       "       ... \n",
       "4672    106\n",
       "4689    118\n",
       "4718    106\n",
       "4746    191\n",
       "4756    148\n",
       "Name: duration, Length: 184, dtype: int64"
      ]
     },
     "execution_count": 11,
     "metadata": {},
     "output_type": "execute_result"
    }
   ],
   "source": [
    "duration_movie"
   ]
  },
  {
   "cell_type": "code",
   "execution_count": 12,
   "id": "ee29c58f-08cf-40d7-9a69-5aa973785aca",
   "metadata": {},
   "outputs": [
    {
     "data": {
      "text/plain": [
       "Text(0.5, 1.0, 'duration distribution of the movie')"
      ]
     },
     "execution_count": 12,
     "metadata": {},
     "output_type": "execute_result"
    },
    {
     "data": {
      "image/png": "[encoded data removed]",
      "text/plain": [
       "<Figure size 640x480 with 1 Axes>"
      ]
     },
     "metadata": {},
     "output_type": "display_data"
    }
   ],
   "source": [
    "plt.hist(duration_movie, bins=15, edgecolor='black') \n",
    "plt.title(\"duration distribution of the movie\")"
   ]
  },
  {
   "cell_type": "markdown",
   "id": "6172e190-1991-4a1f-9361-79b1df0811b0",
   "metadata": {},
   "source": [
    "We can see that the most frequent duration is between 91.53 and 104 minutes."
   ]
  },
  {
   "cell_type": "markdown",
   "id": "25a2ec16-cb01-436a-b354-0a36095a5c22",
   "metadata": {},
   "source": [
    "Another method to calculate the most frequent duration is to use the mode method from pandas."
   ]
  },
  {
   "cell_type": "code",
   "execution_count": 15,
   "id": "5989cdfd-c6ee-48e9-b561-dcdc10000d45",
   "metadata": {},
   "outputs": [
    {
     "name": "stdout",
     "output_type": "stream",
     "text": [
      "The most frequent movie duration is: 94 minutes.\n"
     ]
    }
   ],
   "source": [
    "most_frequent_duration = release_90[\"duration\"].mode()[0]\n",
    "print(f\"The most frequent movie duration is: {most_frequent_duration} minutes.\")"
   ]
  },
  {
   "cell_type": "markdown",
   "id": "70290590-d111-452c-8f35-369cf4c43695",
   "metadata": {},
   "source": [
    "### Questions 2 :\n",
    "A movie is considered short if it is less than 90 minutes. Count the number of short action movies released in the 1990s and save this integer as short_movie_count."
   ]
  },
  {
   "cell_type": "code",
   "execution_count": 17,
   "id": "2c5f7e96-bdd7-4c05-83de-bc6f3ef03f50",
   "metadata": {},
   "outputs": [],
   "source": [
    "short_movie = release_90[release_90[\"duration\"] <= 90]"
   ]
  },
  {
   "cell_type": "code",
   "execution_count": 20,
   "id": "da616a9f-806a-4d4c-9b37-d65f601fc1c2",
   "metadata": {},
   "outputs": [
    {
     "data": {
      "text/html": [
       "<div>\n",
       "<style scoped>\n",
       "    .dataframe tbody tr th:only-of-type {\n",
       "        vertical-align: middle;\n",
       "    }\n",
       "\n",
       "    .dataframe tbody tr th {\n",
       "        vertical-align: top;\n",
       "    }\n",
       "\n",
       "    .dataframe thead th {\n",
       "        text-align: right;\n",
       "    }\n",
       "</style>\n",
       "<table border=\"1\" class=\"dataframe\">\n",
       "  <thead>\n",
       "    <tr style=\"text-align: right;\">\n",
       "      <th></th>\n",
       "      <th>show_id</th>\n",
       "      <th>type</th>\n",
       "      <th>title</th>\n",
       "      <th>director</th>\n",
       "      <th>cast</th>\n",
       "      <th>country</th>\n",
       "      <th>date_added</th>\n",
       "      <th>release_year</th>\n",
       "      <th>duration</th>\n",
       "      <th>description</th>\n",
       "      <th>genre</th>\n",
       "    </tr>\n",
       "  </thead>\n",
       "  <tbody>\n",
       "    <tr>\n",
       "      <th>145</th>\n",
       "      <td>s211</td>\n",
       "      <td>Movie</td>\n",
       "      <td>A Night at the Roxbury</td>\n",
       "      <td>John Fortenberry</td>\n",
       "      <td>Will Ferrell, Chris Kattan, Dan Hedaya, Molly ...</td>\n",
       "      <td>United States</td>\n",
       "      <td>December 1, 2019</td>\n",
       "      <td>1998</td>\n",
       "      <td>82</td>\n",
       "      <td>After a run-in with Richard Grieco, dimwits Do...</td>\n",
       "      <td>Comedies</td>\n",
       "    </tr>\n",
       "    <tr>\n",
       "      <th>333</th>\n",
       "      <td>s487</td>\n",
       "      <td>Movie</td>\n",
       "      <td>An American Tail: Fievel Goes West</td>\n",
       "      <td>Phil Nibbelink, Simon Wells</td>\n",
       "      <td>Philip Glasser, James Stewart, Erica Yohn, Cat...</td>\n",
       "      <td>United States</td>\n",
       "      <td>April 1, 2018</td>\n",
       "      <td>1991</td>\n",
       "      <td>75</td>\n",
       "      <td>Fievel and his family head west for what turns...</td>\n",
       "      <td>Children</td>\n",
       "    </tr>\n",
       "    <tr>\n",
       "      <th>334</th>\n",
       "      <td>s488</td>\n",
       "      <td>Movie</td>\n",
       "      <td>An American Tail: The Mystery of the Night Mon...</td>\n",
       "      <td>Larry Latham</td>\n",
       "      <td>Thomas Dekker, Lacey Chabert, Jane Singer, Neh...</td>\n",
       "      <td>United States</td>\n",
       "      <td>April 1, 2018</td>\n",
       "      <td>1999</td>\n",
       "      <td>75</td>\n",
       "      <td>When a monster goes on a mouse-napping spree i...</td>\n",
       "      <td>Children</td>\n",
       "    </tr>\n",
       "    <tr>\n",
       "      <th>428</th>\n",
       "      <td>s624</td>\n",
       "      <td>Movie</td>\n",
       "      <td>Auschwitz: Blueprints of Genocide</td>\n",
       "      <td>Mike Rossiter</td>\n",
       "      <td>Roy Marsden</td>\n",
       "      <td>United Kingdom</td>\n",
       "      <td>January 19, 2019</td>\n",
       "      <td>1994</td>\n",
       "      <td>49</td>\n",
       "      <td>Newly released KGB files expose evidence provi...</td>\n",
       "      <td>Documentaries</td>\n",
       "    </tr>\n",
       "    <tr>\n",
       "      <th>430</th>\n",
       "      <td>s627</td>\n",
       "      <td>Movie</td>\n",
       "      <td>Austin Powers: International Man of Mystery</td>\n",
       "      <td>Jay Roach</td>\n",
       "      <td>Mike Myers, Elizabeth Hurley, Michael York, Mi...</td>\n",
       "      <td>United States</td>\n",
       "      <td>December 1, 2019</td>\n",
       "      <td>1997</td>\n",
       "      <td>90</td>\n",
       "      <td>A swingin' fashion photographer by day and a g...</td>\n",
       "      <td>Comedies</td>\n",
       "    </tr>\n",
       "  </tbody>\n",
       "</table>\n",
       "</div>"
      ],
      "text/plain": [
       "    show_id   type                                              title  \\\n",
       "145    s211  Movie                             A Night at the Roxbury   \n",
       "333    s487  Movie                 An American Tail: Fievel Goes West   \n",
       "334    s488  Movie  An American Tail: The Mystery of the Night Mon...   \n",
       "428    s624  Movie                  Auschwitz: Blueprints of Genocide   \n",
       "430    s627  Movie        Austin Powers: International Man of Mystery   \n",
       "\n",
       "                        director  \\\n",
       "145             John Fortenberry   \n",
       "333  Phil Nibbelink, Simon Wells   \n",
       "334                 Larry Latham   \n",
       "428                Mike Rossiter   \n",
       "430                    Jay Roach   \n",
       "\n",
       "                                                  cast         country  \\\n",
       "145  Will Ferrell, Chris Kattan, Dan Hedaya, Molly ...   United States   \n",
       "333  Philip Glasser, James Stewart, Erica Yohn, Cat...   United States   \n",
       "334  Thomas Dekker, Lacey Chabert, Jane Singer, Neh...   United States   \n",
       "428                                        Roy Marsden  United Kingdom   \n",
       "430  Mike Myers, Elizabeth Hurley, Michael York, Mi...   United States   \n",
       "\n",
       "           date_added  release_year  duration  \\\n",
       "145  December 1, 2019          1998        82   \n",
       "333     April 1, 2018          1991        75   \n",
       "334     April 1, 2018          1999        75   \n",
       "428  January 19, 2019          1994        49   \n",
       "430  December 1, 2019          1997        90   \n",
       "\n",
       "                                           description          genre  \n",
       "145  After a run-in with Richard Grieco, dimwits Do...       Comedies  \n",
       "333  Fievel and his family head west for what turns...       Children  \n",
       "334  When a monster goes on a mouse-napping spree i...       Children  \n",
       "428  Newly released KGB files expose evidence provi...  Documentaries  \n",
       "430  A swingin' fashion photographer by day and a g...       Comedies  "
      ]
     },
     "execution_count": 20,
     "metadata": {},
     "output_type": "execute_result"
    }
   ],
   "source": [
    "short_movie.head()"
   ]
  },
  {
   "cell_type": "code",
   "execution_count": 21,
   "id": "60ea49df-d7de-4934-b05f-ebfddf475840",
   "metadata": {},
   "outputs": [
    {
     "data": {
      "text/plain": [
       "genre\n",
       "Comedies         10\n",
       "Children          8\n",
       "Stand-Up          8\n",
       "Action            7\n",
       "Dramas            2\n",
       "Documentaries     1\n",
       "Docuseries        1\n",
       "Name: count, dtype: int64"
      ]
     },
     "execution_count": 21,
     "metadata": {},
     "output_type": "execute_result"
    }
   ],
   "source": [
    "short_movie[\"genre\"].value_counts()"
   ]
  },
  {
   "cell_type": "code",
   "execution_count": 19,
   "id": "ecd5648c-ce89-4d15-be0e-f75de5099658",
   "metadata": {},
   "outputs": [
    {
     "data": {
      "text/plain": [
       "(37, 11)"
      ]
     },
     "execution_count": 19,
     "metadata": {},
     "output_type": "execute_result"
    }
   ],
   "source": [
    "short_movie.shape"
   ]
  },
  {
   "cell_type": "markdown",
   "id": "567cd949-be80-40f9-8fda-f65fbc8a34b4",
   "metadata": {},
   "source": [
    "There are 37 movies that are less than 90 minutes long."
   ]
  },
  {
   "cell_type": "code",
   "execution_count": 23,
   "id": "3d52c2e7-8a66-4ab6-96e3-17222d8a4798",
   "metadata": {},
   "outputs": [],
   "source": [
    "short_movie_action = short_movie[short_movie[\"genre\"] == \"Action\"]"
   ]
  },
  {
   "cell_type": "code",
   "execution_count": 26,
   "id": "013c457e-4e86-4989-a365-cfd8225f916d",
   "metadata": {},
   "outputs": [
    {
     "data": {
      "text/plain": [
       "7"
      ]
     },
     "execution_count": 26,
     "metadata": {},
     "output_type": "execute_result"
    }
   ],
   "source": [
    "short_movie_action.shape[0]"
   ]
  },
  {
   "cell_type": "code",
   "execution_count": 25,
   "id": "5daa4bf3-4af5-4ad3-b3a4-a864c65c1ddf",
   "metadata": {},
   "outputs": [
    {
     "data": {
      "text/html": [
       "<div>\n",
       "<style scoped>\n",
       "    .dataframe tbody tr th:only-of-type {\n",
       "        vertical-align: middle;\n",
       "    }\n",
       "\n",
       "    .dataframe tbody tr th {\n",
       "        vertical-align: top;\n",
       "    }\n",
       "\n",
       "    .dataframe thead th {\n",
       "        text-align: right;\n",
       "    }\n",
       "</style>\n",
       "<table border=\"1\" class=\"dataframe\">\n",
       "  <thead>\n",
       "    <tr style=\"text-align: right;\">\n",
       "      <th></th>\n",
       "      <th>show_id</th>\n",
       "      <th>type</th>\n",
       "      <th>title</th>\n",
       "      <th>director</th>\n",
       "      <th>cast</th>\n",
       "      <th>country</th>\n",
       "      <th>date_added</th>\n",
       "      <th>release_year</th>\n",
       "      <th>duration</th>\n",
       "      <th>description</th>\n",
       "      <th>genre</th>\n",
       "    </tr>\n",
       "  </thead>\n",
       "  <tbody>\n",
       "    <tr>\n",
       "      <th>1288</th>\n",
       "      <td>s2039</td>\n",
       "      <td>Movie</td>\n",
       "      <td>EVANGELION: DEATH (TRUE)²</td>\n",
       "      <td>Hideaki Anno</td>\n",
       "      <td>Megumi Ogata, Kotono Mitsuishi, Megumi Hayashi...</td>\n",
       "      <td>Japan</td>\n",
       "      <td>June 21, 2019</td>\n",
       "      <td>1998</td>\n",
       "      <td>69</td>\n",
       "      <td>Fifteen years after the Second Impact, apathet...</td>\n",
       "      <td>Action</td>\n",
       "    </tr>\n",
       "    <tr>\n",
       "      <th>1698</th>\n",
       "      <td>s2708</td>\n",
       "      <td>Movie</td>\n",
       "      <td>Hero</td>\n",
       "      <td>Corey Yuen</td>\n",
       "      <td>Takeshi Kaneshiro, Yuen Biao, Valerie Chow, Je...</td>\n",
       "      <td>Hong Kong</td>\n",
       "      <td>August 1, 2018</td>\n",
       "      <td>1997</td>\n",
       "      <td>89</td>\n",
       "      <td>A pugilist from Shantung struggles to rise to ...</td>\n",
       "      <td>Action</td>\n",
       "    </tr>\n",
       "    <tr>\n",
       "      <th>2328</th>\n",
       "      <td>s3718</td>\n",
       "      <td>Movie</td>\n",
       "      <td>Look Out, Officer</td>\n",
       "      <td>Sze Yu Lau</td>\n",
       "      <td>Stephen Chow, Bill Tung, Stanley Sui-Fan Fung,...</td>\n",
       "      <td>Hong Kong</td>\n",
       "      <td>August 16, 2018</td>\n",
       "      <td>1990</td>\n",
       "      <td>88</td>\n",
       "      <td>An officer killed on the job returns to Earth ...</td>\n",
       "      <td>Action</td>\n",
       "    </tr>\n",
       "    <tr>\n",
       "      <th>2993</th>\n",
       "      <td>s4787</td>\n",
       "      <td>Movie</td>\n",
       "      <td>Passenger 57</td>\n",
       "      <td>Kevin Hooks</td>\n",
       "      <td>Wesley Snipes, Bruce Payne, Tom Sizemore, Alex...</td>\n",
       "      <td>United States</td>\n",
       "      <td>January 1, 2021</td>\n",
       "      <td>1992</td>\n",
       "      <td>84</td>\n",
       "      <td>Air marshal John Cutter must stop notorious te...</td>\n",
       "      <td>Action</td>\n",
       "    </tr>\n",
       "    <tr>\n",
       "      <th>3297</th>\n",
       "      <td>s5299</td>\n",
       "      <td>Movie</td>\n",
       "      <td>Rumble in the Bronx</td>\n",
       "      <td>Stanley Tong</td>\n",
       "      <td>Jackie Chan, Anita Mui, Françoise Yip, Bill Tu...</td>\n",
       "      <td>Hong Kong</td>\n",
       "      <td>November 1, 2019</td>\n",
       "      <td>1995</td>\n",
       "      <td>89</td>\n",
       "      <td>During a visit to the Bronx to help out at his...</td>\n",
       "      <td>Action</td>\n",
       "    </tr>\n",
       "    <tr>\n",
       "      <th>3806</th>\n",
       "      <td>s6114</td>\n",
       "      <td>Movie</td>\n",
       "      <td>The Bare-Footed Kid</td>\n",
       "      <td>Johnnie To</td>\n",
       "      <td>Aaron Kwok, Lung Ti, Maggie Cheung, Chien-lien...</td>\n",
       "      <td>Hong Kong</td>\n",
       "      <td>August 16, 2018</td>\n",
       "      <td>1993</td>\n",
       "      <td>83</td>\n",
       "      <td>While working at a family friend's business, a...</td>\n",
       "      <td>Action</td>\n",
       "    </tr>\n",
       "    <tr>\n",
       "      <th>3943</th>\n",
       "      <td>s6330</td>\n",
       "      <td>Movie</td>\n",
       "      <td>The End of Evangelion</td>\n",
       "      <td>Hideaki Anno, Kazuya Tsurumaki</td>\n",
       "      <td>Megumi Ogata, Kotono Mitsuishi, Megumi Hayashi...</td>\n",
       "      <td>Japan</td>\n",
       "      <td>June 21, 2019</td>\n",
       "      <td>1997</td>\n",
       "      <td>87</td>\n",
       "      <td>Seele orders an all-out attack on NERV, aiming...</td>\n",
       "      <td>Action</td>\n",
       "    </tr>\n",
       "  </tbody>\n",
       "</table>\n",
       "</div>"
      ],
      "text/plain": [
       "     show_id   type                      title  \\\n",
       "1288   s2039  Movie  EVANGELION: DEATH (TRUE)²   \n",
       "1698   s2708  Movie                       Hero   \n",
       "2328   s3718  Movie          Look Out, Officer   \n",
       "2993   s4787  Movie               Passenger 57   \n",
       "3297   s5299  Movie        Rumble in the Bronx   \n",
       "3806   s6114  Movie        The Bare-Footed Kid   \n",
       "3943   s6330  Movie      The End of Evangelion   \n",
       "\n",
       "                            director  \\\n",
       "1288                    Hideaki Anno   \n",
       "1698                      Corey Yuen   \n",
       "2328                      Sze Yu Lau   \n",
       "2993                     Kevin Hooks   \n",
       "3297                    Stanley Tong   \n",
       "3806                      Johnnie To   \n",
       "3943  Hideaki Anno, Kazuya Tsurumaki   \n",
       "\n",
       "                                                   cast        country  \\\n",
       "1288  Megumi Ogata, Kotono Mitsuishi, Megumi Hayashi...          Japan   \n",
       "1698  Takeshi Kaneshiro, Yuen Biao, Valerie Chow, Je...      Hong Kong   \n",
       "2328  Stephen Chow, Bill Tung, Stanley Sui-Fan Fung,...      Hong Kong   \n",
       "2993  Wesley Snipes, Bruce Payne, Tom Sizemore, Alex...  United States   \n",
       "3297  Jackie Chan, Anita Mui, Françoise Yip, Bill Tu...      Hong Kong   \n",
       "3806  Aaron Kwok, Lung Ti, Maggie Cheung, Chien-lien...      Hong Kong   \n",
       "3943  Megumi Ogata, Kotono Mitsuishi, Megumi Hayashi...          Japan   \n",
       "\n",
       "            date_added  release_year  duration  \\\n",
       "1288     June 21, 2019          1998        69   \n",
       "1698    August 1, 2018          1997        89   \n",
       "2328   August 16, 2018          1990        88   \n",
       "2993   January 1, 2021          1992        84   \n",
       "3297  November 1, 2019          1995        89   \n",
       "3806   August 16, 2018          1993        83   \n",
       "3943     June 21, 2019          1997        87   \n",
       "\n",
       "                                            description   genre  \n",
       "1288  Fifteen years after the Second Impact, apathet...  Action  \n",
       "1698  A pugilist from Shantung struggles to rise to ...  Action  \n",
       "2328  An officer killed on the job returns to Earth ...  Action  \n",
       "2993  Air marshal John Cutter must stop notorious te...  Action  \n",
       "3297  During a visit to the Bronx to help out at his...  Action  \n",
       "3806  While working at a family friend's business, a...  Action  \n",
       "3943  Seele orders an all-out attack on NERV, aiming...  Action  "
      ]
     },
     "execution_count": 25,
     "metadata": {},
     "output_type": "execute_result"
    }
   ],
   "source": [
    "short_movie_action"
   ]
  },
  {
   "cell_type": "code",
   "execution_count": 31,
   "id": "55c71d46-64d2-44b0-afb4-205ee7e00c89",
   "metadata": {},
   "outputs": [
    {
     "name": "stdout",
     "output_type": "stream",
     "text": [
      "There are 7 action movies in the dataset\n"
     ]
    }
   ],
   "source": [
    "print(f'There are {short_movie_action.shape[0]} action movies in the dataset')"
   ]
  }
 ],
 "metadata": {
  "kernelspec": {
   "display_name": "Python 3 (ipykernel)",
   "language": "python",
   "name": "python3"
  },
  "language_info": {
   "codemirror_mode": {
    "name": "ipython",
    "version": 3
   },
   "file_extension": ".py",
   "mimetype": "text/x-python",
   "name": "python",
   "nbconvert_exporter": "python",
   "pygments_lexer": "ipython3",
   "version": "3.12.3"
  }
 },
 "nbformat": 4,
 "nbformat_minor": 5
}
