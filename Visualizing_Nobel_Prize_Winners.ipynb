{
 "cells": [
  {
   "cell_type": "markdown",
   "id": "7d166648-8570-4e7c-be40-e91610bd11c0",
   "metadata": {},
   "source": [
    "# Analysis of Nobel Prize Laureates (1901-2023)\n",
    "\n",
    "## Introduction\n",
    "\n",
    "The Nobel Prize, awarded since 1901, is one of the most prestigious international accolades. Each year, prizes are bestowed in six categories: Chemistry, Literature, Physics, Physiology or Medicine, Economics, and Peace.\n",
    "\n",
    "In this project, we will explore and analyze data on Nobel Prize laureates from 1901 to 2023, provided by the Nobel Foundation through their API.\n",
    "\n",
    "Our analysis aims to answer several key questions, including:\n",
    "\n",
    "1. What is the most commonly awarded gender and birth country among laureates?\n",
    "2. Which decade had the highest ratio of US-born Nobel Prize winners to total winners across all categories?\n",
    "3. Which decade and Nobel Prize category combination had the highest proportion of female laureates?\n",
    "4. Who was the first woman to receive a Nobel Prize, and in what category?\n",
    "5. Which individuals or organizations have won more than one Nobel Prize throughout the years?\n",
    "\n",
    "Through this analysis, we will uncover fascinating trends and valuable insights into the history of Nobel Prizes.\n",
    "\n",
    "Let's begin our exploration!"
   ]
  },
  {
   "cell_type": "code",
   "execution_count": 44,
   "id": "bda0f9aa-62c5-44f6-9e17-1168ef87761c",
   "metadata": {},
   "outputs": [],
   "source": [
    "import pandas as pd\n",
    "import matplotlib.pyplot as plt\n",
    "import seaborn as sns\n",
    "import numpy as np"
   ]
  },
  {
   "cell_type": "code",
   "execution_count": 45,
   "id": "ea4ab5d3-b09a-4da8-9c1e-3daa9765f023",
   "metadata": {},
   "outputs": [],
   "source": [
    "df = pd.read_csv(\"Dataset/nobel.csv\")"
   ]
  },
  {
   "cell_type": "code",
   "execution_count": 46,
   "id": "92c8f48c-b04a-4e6d-8ad0-ff7466aaa229",
   "metadata": {},
   "outputs": [
    {
     "data": {
      "text/html": [
       "<div>\n",
       "<style scoped>\n",
       "    .dataframe tbody tr th:only-of-type {\n",
       "        vertical-align: middle;\n",
       "    }\n",
       "\n",
       "    .dataframe tbody tr th {\n",
       "        vertical-align: top;\n",
       "    }\n",
       "\n",
       "    .dataframe thead th {\n",
       "        text-align: right;\n",
       "    }\n",
       "</style>\n",
       "<table border=\"1\" class=\"dataframe\">\n",
       "  <thead>\n",
       "    <tr style=\"text-align: right;\">\n",
       "      <th></th>\n",
       "      <th>year</th>\n",
       "      <th>category</th>\n",
       "      <th>prize</th>\n",
       "      <th>motivation</th>\n",
       "      <th>prize_share</th>\n",
       "      <th>laureate_id</th>\n",
       "      <th>laureate_type</th>\n",
       "      <th>full_name</th>\n",
       "      <th>birth_date</th>\n",
       "      <th>birth_city</th>\n",
       "      <th>birth_country</th>\n",
       "      <th>sex</th>\n",
       "      <th>organization_name</th>\n",
       "      <th>organization_city</th>\n",
       "      <th>organization_country</th>\n",
       "      <th>death_date</th>\n",
       "      <th>death_city</th>\n",
       "      <th>death_country</th>\n",
       "    </tr>\n",
       "  </thead>\n",
       "  <tbody>\n",
       "    <tr>\n",
       "      <th>0</th>\n",
       "      <td>1901</td>\n",
       "      <td>Chemistry</td>\n",
       "      <td>The Nobel Prize in Chemistry 1901</td>\n",
       "      <td>\"in recognition of the extraordinary services ...</td>\n",
       "      <td>1/1</td>\n",
       "      <td>160</td>\n",
       "      <td>Individual</td>\n",
       "      <td>Jacobus Henricus van 't Hoff</td>\n",
       "      <td>1852-08-30</td>\n",
       "      <td>Rotterdam</td>\n",
       "      <td>Netherlands</td>\n",
       "      <td>Male</td>\n",
       "      <td>Berlin University</td>\n",
       "      <td>Berlin</td>\n",
       "      <td>Germany</td>\n",
       "      <td>1911-03-01</td>\n",
       "      <td>Berlin</td>\n",
       "      <td>Germany</td>\n",
       "    </tr>\n",
       "    <tr>\n",
       "      <th>1</th>\n",
       "      <td>1901</td>\n",
       "      <td>Literature</td>\n",
       "      <td>The Nobel Prize in Literature 1901</td>\n",
       "      <td>\"in special recognition of his poetic composit...</td>\n",
       "      <td>1/1</td>\n",
       "      <td>569</td>\n",
       "      <td>Individual</td>\n",
       "      <td>Sully Prudhomme</td>\n",
       "      <td>1839-03-16</td>\n",
       "      <td>Paris</td>\n",
       "      <td>France</td>\n",
       "      <td>Male</td>\n",
       "      <td>NaN</td>\n",
       "      <td>NaN</td>\n",
       "      <td>NaN</td>\n",
       "      <td>1907-09-07</td>\n",
       "      <td>Châtenay</td>\n",
       "      <td>France</td>\n",
       "    </tr>\n",
       "    <tr>\n",
       "      <th>2</th>\n",
       "      <td>1901</td>\n",
       "      <td>Medicine</td>\n",
       "      <td>The Nobel Prize in Physiology or Medicine 1901</td>\n",
       "      <td>\"for his work on serum therapy, especially its...</td>\n",
       "      <td>1/1</td>\n",
       "      <td>293</td>\n",
       "      <td>Individual</td>\n",
       "      <td>Emil Adolf von Behring</td>\n",
       "      <td>1854-03-15</td>\n",
       "      <td>Hansdorf (Lawice)</td>\n",
       "      <td>Prussia (Poland)</td>\n",
       "      <td>Male</td>\n",
       "      <td>Marburg University</td>\n",
       "      <td>Marburg</td>\n",
       "      <td>Germany</td>\n",
       "      <td>1917-03-31</td>\n",
       "      <td>Marburg</td>\n",
       "      <td>Germany</td>\n",
       "    </tr>\n",
       "    <tr>\n",
       "      <th>3</th>\n",
       "      <td>1901</td>\n",
       "      <td>Peace</td>\n",
       "      <td>The Nobel Peace Prize 1901</td>\n",
       "      <td>NaN</td>\n",
       "      <td>1/2</td>\n",
       "      <td>462</td>\n",
       "      <td>Individual</td>\n",
       "      <td>Jean Henry Dunant</td>\n",
       "      <td>1828-05-08</td>\n",
       "      <td>Geneva</td>\n",
       "      <td>Switzerland</td>\n",
       "      <td>Male</td>\n",
       "      <td>NaN</td>\n",
       "      <td>NaN</td>\n",
       "      <td>NaN</td>\n",
       "      <td>1910-10-30</td>\n",
       "      <td>Heiden</td>\n",
       "      <td>Switzerland</td>\n",
       "    </tr>\n",
       "    <tr>\n",
       "      <th>4</th>\n",
       "      <td>1901</td>\n",
       "      <td>Peace</td>\n",
       "      <td>The Nobel Peace Prize 1901</td>\n",
       "      <td>NaN</td>\n",
       "      <td>1/2</td>\n",
       "      <td>463</td>\n",
       "      <td>Individual</td>\n",
       "      <td>Frédéric Passy</td>\n",
       "      <td>1822-05-20</td>\n",
       "      <td>Paris</td>\n",
       "      <td>France</td>\n",
       "      <td>Male</td>\n",
       "      <td>NaN</td>\n",
       "      <td>NaN</td>\n",
       "      <td>NaN</td>\n",
       "      <td>1912-06-12</td>\n",
       "      <td>Paris</td>\n",
       "      <td>France</td>\n",
       "    </tr>\n",
       "  </tbody>\n",
       "</table>\n",
       "</div>"
      ],
      "text/plain": [
       "   year    category                                           prize  \\\n",
       "0  1901   Chemistry               The Nobel Prize in Chemistry 1901   \n",
       "1  1901  Literature              The Nobel Prize in Literature 1901   \n",
       "2  1901    Medicine  The Nobel Prize in Physiology or Medicine 1901   \n",
       "3  1901       Peace                      The Nobel Peace Prize 1901   \n",
       "4  1901       Peace                      The Nobel Peace Prize 1901   \n",
       "\n",
       "                                          motivation prize_share  laureate_id  \\\n",
       "0  \"in recognition of the extraordinary services ...         1/1          160   \n",
       "1  \"in special recognition of his poetic composit...         1/1          569   \n",
       "2  \"for his work on serum therapy, especially its...         1/1          293   \n",
       "3                                                NaN         1/2          462   \n",
       "4                                                NaN         1/2          463   \n",
       "\n",
       "  laureate_type                     full_name  birth_date         birth_city  \\\n",
       "0    Individual  Jacobus Henricus van 't Hoff  1852-08-30          Rotterdam   \n",
       "1    Individual               Sully Prudhomme  1839-03-16              Paris   \n",
       "2    Individual        Emil Adolf von Behring  1854-03-15  Hansdorf (Lawice)   \n",
       "3    Individual             Jean Henry Dunant  1828-05-08             Geneva   \n",
       "4    Individual                Frédéric Passy  1822-05-20              Paris   \n",
       "\n",
       "      birth_country   sex   organization_name organization_city  \\\n",
       "0       Netherlands  Male   Berlin University            Berlin   \n",
       "1            France  Male                 NaN               NaN   \n",
       "2  Prussia (Poland)  Male  Marburg University           Marburg   \n",
       "3       Switzerland  Male                 NaN               NaN   \n",
       "4            France  Male                 NaN               NaN   \n",
       "\n",
       "  organization_country  death_date death_city death_country  \n",
       "0              Germany  1911-03-01     Berlin       Germany  \n",
       "1                  NaN  1907-09-07   Châtenay        France  \n",
       "2              Germany  1917-03-31    Marburg       Germany  \n",
       "3                  NaN  1910-10-30     Heiden   Switzerland  \n",
       "4                  NaN  1912-06-12      Paris        France  "
      ]
     },
     "execution_count": 46,
     "metadata": {},
     "output_type": "execute_result"
    }
   ],
   "source": [
    "df.head()"
   ]
  },
  {
   "cell_type": "code",
   "execution_count": 47,
   "id": "550117c1-bdfe-451c-81e2-a75bf90917cf",
   "metadata": {},
   "outputs": [
    {
     "data": {
      "text/plain": [
       "Index(['year', 'category', 'prize', 'motivation', 'prize_share', 'laureate_id',\n",
       "       'laureate_type', 'full_name', 'birth_date', 'birth_city',\n",
       "       'birth_country', 'sex', 'organization_name', 'organization_city',\n",
       "       'organization_country', 'death_date', 'death_city', 'death_country'],\n",
       "      dtype='object')"
      ]
     },
     "execution_count": 47,
     "metadata": {},
     "output_type": "execute_result"
    }
   ],
   "source": [
    "df.columns"
   ]
  },
  {
   "cell_type": "code",
   "execution_count": 48,
   "id": "87d12461-0fd4-4ead-81e6-97925a6d66e5",
   "metadata": {},
   "outputs": [
    {
     "data": {
      "text/plain": [
       "(1000, 18)"
      ]
     },
     "execution_count": 48,
     "metadata": {},
     "output_type": "execute_result"
    }
   ],
   "source": [
    "df.shape"
   ]
  },
  {
   "cell_type": "markdown",
   "id": "01cfb591-737e-4772-ad1a-13bade52074f",
   "metadata": {},
   "source": [
    "### 1. What is the most commonly awarded gender and birth country among laureates?"
   ]
  },
  {
   "cell_type": "code",
   "execution_count": 49,
   "id": "c5a332cf-5ae5-467f-a28d-4b77c144ea65",
   "metadata": {},
   "outputs": [],
   "source": [
    "top_nobel_coutry_sum = df[\"birth_country\"].groupby(df['prize']).agg('sum').value_counts()"
   ]
  },
  {
   "cell_type": "code",
   "execution_count": 50,
   "id": "e287b865-432c-45ac-a7b4-587abe0aaaaf",
   "metadata": {},
   "outputs": [
    {
     "data": {
      "text/plain": [
       "birth_country\n",
       "United States of America                            64\n",
       "United Kingdom                                      27\n",
       "France                                              27\n",
       "United States of AmericaUnited States of America    26\n",
       "0                                                   21\n",
       "                                                    ..\n",
       "Guadeloupe Island                                    1\n",
       "Bosnia (Bosnia and Herzegovina)                      1\n",
       "Ottoman Empire (Turkey)                              1\n",
       "Austria-Hungary (Ukraine)Germany                     1\n",
       "CanadaUnited States of AmericaNetherlands            1\n",
       "Name: count, Length: 281, dtype: int64"
      ]
     },
     "execution_count": 50,
     "metadata": {},
     "output_type": "execute_result"
    }
   ],
   "source": [
    "top_nobel_coutry_sum"
   ]
  },
  {
   "cell_type": "code",
   "execution_count": 51,
   "id": "95208ba8-008b-49bd-9fd4-28d1ddd0fcbe",
   "metadata": {},
   "outputs": [],
   "source": [
    "top_nobel_gender = df[\"sex\"].groupby(df['prize']).agg('sum').value_counts()"
   ]
  },
  {
   "cell_type": "code",
   "execution_count": 52,
   "id": "3800247d-7235-4b55-9691-2ed95b384a96",
   "metadata": {},
   "outputs": [
    {
     "data": {
      "text/plain": [
       "sex\n",
       "Male                  319\n",
       "MaleMale              125\n",
       "MaleMaleMale           97\n",
       "Female                 28\n",
       "0                      20\n",
       "MaleFemaleMale          8\n",
       "MaleMaleFemale          7\n",
       "FemaleMale              6\n",
       "MaleFemale              6\n",
       "FemaleFemale            2\n",
       "FemaleFemaleFemale      1\n",
       "FemaleMaleMale          1\n",
       "FemaleFemaleMale        1\n",
       "Name: count, dtype: int64"
      ]
     },
     "execution_count": 52,
     "metadata": {},
     "output_type": "execute_result"
    }
   ],
   "source": [
    "top_nobel_gender"
   ]
  },
  {
   "cell_type": "markdown",
   "id": "2c6f2d7f-8283-422a-8a46-bacd16323671",
   "metadata": {},
   "source": [
    "So we can see that the top 3 countries are the USA, United Kingdom, and Germany. As for gender, men have received the most Nobel Prizes."
   ]
  },
  {
   "cell_type": "markdown",
   "id": "a5cc59d8-c849-4df7-9c15-773cb564123e",
   "metadata": {},
   "source": [
    "### 2. Which decade had the highest ratio of US-born Nobel Prize winners to total winners across all categories?"
   ]
  },
  {
   "cell_type": "code",
   "execution_count": 54,
   "id": "7c971624-bb8d-40b2-ba67-96e0d77d7f0f",
   "metadata": {},
   "outputs": [
    {
     "data": {
      "text/plain": [
       "array(['Netherlands', 'France', 'Prussia (Poland)', 'Switzerland',\n",
       "       'Prussia (Germany)', 'Schleswig (Germany)', 'India', 'Sweden',\n",
       "       'Norway', 'Faroe Islands (Denmark)', 'United Kingdom',\n",
       "       'Russian Empire (Poland)', 'Scotland', 'Spain', 'Russia', nan,\n",
       "       'Poland', 'Germany', 'Austrian Empire (Czech Republic)',\n",
       "       'Hungary (Slovakia)', 'Tuscany (Italy)', 'Italy',\n",
       "       'United States of America', 'Bavaria (Germany)',\n",
       "       'British India (India)', 'Austrian Empire (Italy)', 'New Zealand',\n",
       "       'East Friesland (Germany)', 'Russian Empire (Ukraine)', 'Denmark',\n",
       "       'Luxembourg', 'Russian Empire (Latvia)', 'Belgium',\n",
       "       'Hesse-Kassel (Germany)', 'Germany (Russia)',\n",
       "       'Mecklenburg (Germany)', 'Austria', 'Prussia (Russia)',\n",
       "       'Australia', 'Austria-Hungary (Slovenia)', 'Ireland', 'Canada',\n",
       "       'Java, Dutch East Indies (Indonesia)', 'Austrian Empire (Austria)',\n",
       "       'Germany (Poland)', 'W&uuml;rttemberg (Germany)', 'Argentina',\n",
       "       'Austria-Hungary (Hungary)', 'Austria-Hungary (Austria)',\n",
       "       'Austria-Hungary (Croatia)', 'Russian Empire (Finland)',\n",
       "       'Austria-Hungary (Poland)', 'Chile',\n",
       "       'Austria-Hungary (Czech Republic)', 'Portugal', 'Japan',\n",
       "       'South Africa', 'Germany (France)', 'Iceland', 'China',\n",
       "       'French Algeria (Algeria)', 'Guadeloupe Island', 'Brazil',\n",
       "       'Southern Rhodesia (Zimbabwe)', 'Bosnia (Bosnia and Herzegovina)',\n",
       "       'Hungary', 'Russian Empire (Azerbaijan)',\n",
       "       'Ottoman Empire (Turkey)', 'Egypt',\n",
       "       'Union of Soviet Socialist Republics (Russia)',\n",
       "       'Austria-Hungary (Ukraine)', 'Guatemala',\n",
       "       'Russian Empire (Belarus)', 'Vietnam', 'Romania',\n",
       "       'Austria-Hungary (Bosnia and Herzegovina)',\n",
       "       'Russian Empire (Russia)', 'Northern Ireland',\n",
       "       'Poland (Lithuania)', 'British West Indies (Saint Lucia)',\n",
       "       'Crete (Greece)', 'Ottoman Empire (Republic of Macedonia)',\n",
       "       'India (Pakistan)', 'Russian Empire (Lithuania)', 'Venezuela',\n",
       "       'Poland (Ukraine)', 'Bulgaria', 'Lithuania', 'Colombia', 'Mexico',\n",
       "       'Madagascar', 'German-occupied Poland (Poland)', 'Taiwan',\n",
       "       'Nigeria', 'West Germany (Germany)', 'Korea (South Korea)',\n",
       "       'Costa Rica', \"Tibet (People's Republic of China)\",\n",
       "       'Burma (Myanmar)', 'Saint Lucia', 'Poland (Belarus)',\n",
       "       'British Mandate of Palestine (Israel)', 'East Timor',\n",
       "       'Free City of Danzig (Poland)',\n",
       "       'Union of Soviet Socialist Republics (Belarus)', 'Trinidad',\n",
       "       'Gold Coast (Ghana)', 'Iran',\n",
       "       'British Protectorate of Palestine (Israel)', 'Kenya', 'Turkey',\n",
       "       'British India (Bangladesh)', 'Persia (Iran)',\n",
       "       'Czechoslovakia (Czech Republic)', 'Finland', 'Cyprus', 'Peru',\n",
       "       'Liberia', 'Yemen', 'Morocco', 'Pakistan', 'Ukraine', 'USA',\n",
       "       'Belgian Congo (now Democratic Republic of the Congo)', 'Iraq',\n",
       "       'Ethiopia', 'Lebanon', 'Philippines', 'USSR (now Russia)',\n",
       "       'French protectorate of Tunisia (now Tunisia)'], dtype=object)"
      ]
     },
     "execution_count": 54,
     "metadata": {},
     "output_type": "execute_result"
    }
   ],
   "source": [
    "birth_nobel_prize "
   ]
  },
  {
   "cell_type": "code",
   "execution_count": 55,
   "id": "bde2c148-b4fa-4d32-b86b-184550a2e36a",
   "metadata": {},
   "outputs": [],
   "source": [
    "us_birth_nobel = df[df[\"birth_country\"] == \"United States of America\"]\n"
   ]
  },
  {
   "cell_type": "code",
   "execution_count": 56,
   "id": "a6cebc7a-29ca-4724-9bca-bb7daf825b4e",
   "metadata": {},
   "outputs": [
    {
     "data": {
      "text/plain": [
       "(291, 18)"
      ]
     },
     "execution_count": 56,
     "metadata": {},
     "output_type": "execute_result"
    }
   ],
   "source": [
    "us_birth_nobel.shape"
   ]
  },
  {
   "cell_type": "code",
   "execution_count": 57,
   "id": "0b610de9-93a6-4eb2-a02f-7e02e7799cd9",
   "metadata": {},
   "outputs": [
    {
     "data": {
      "text/plain": [
       "dtype('O')"
      ]
     },
     "execution_count": 57,
     "metadata": {},
     "output_type": "execute_result"
    }
   ],
   "source": [
    "us_birth_nobel[\"birth_date\"].dtype"
   ]
  },
  {
   "cell_type": "code",
   "execution_count": 58,
   "id": "e6276ce5-a081-4843-987d-d917e0c81127",
   "metadata": {},
   "outputs": [],
   "source": [
    "def corriger_date(valeur):\n",
    "    if pd.isna(valeur):\n",
    "        return pd.NaT\n",
    "    if isinstance(valeur, (int, float)):\n",
    "        return pd.to_datetime(str(int(valeur)), format='%Y')\n",
    "    if isinstance(valeur, str):\n",
    "        if '-00-00' in valeur:\n",
    "            return pd.to_datetime(valeur[:4], format='%Y')\n",
    "        else:\n",
    "            return pd.to_datetime(valeur, errors='coerce')\n",
    "    return pd.NaT"
   ]
  },
  {
   "cell_type": "code",
   "execution_count": 59,
   "id": "b09d8a46-cec9-4d5f-aca8-69f02bffe66a",
   "metadata": {},
   "outputs": [
    {
     "name": "stderr",
     "output_type": "stream",
     "text": [
      "/var/folders/lz/zsz00k2n3pbflxxlfqttyt500000gn/T/ipykernel_3285/4125265217.py:1: SettingWithCopyWarning: \n",
      "A value is trying to be set on a copy of a slice from a DataFrame.\n",
      "Try using .loc[row_indexer,col_indexer] = value instead\n",
      "\n",
      "See the caveats in the documentation: https://pandas.pydata.org/pandas-docs/stable/user_guide/indexing.html#returning-a-view-versus-a-copy\n",
      "  us_birth_nobel['birth_date'] = us_birth_nobel['birth_date'].apply(corriger_date)\n"
     ]
    }
   ],
   "source": [
    "us_birth_nobel['birth_date'] = us_birth_nobel['birth_date'].apply(corriger_date)"
   ]
  },
  {
   "cell_type": "code",
   "execution_count": 60,
   "id": "1a26cc41-9907-42d7-aa1b-d51c112c27ef",
   "metadata": {},
   "outputs": [
    {
     "name": "stderr",
     "output_type": "stream",
     "text": [
      "/var/folders/lz/zsz00k2n3pbflxxlfqttyt500000gn/T/ipykernel_3285/2201537361.py:1: SettingWithCopyWarning: \n",
      "A value is trying to be set on a copy of a slice from a DataFrame.\n",
      "Try using .loc[row_indexer,col_indexer] = value instead\n",
      "\n",
      "See the caveats in the documentation: https://pandas.pydata.org/pandas-docs/stable/user_guide/indexing.html#returning-a-view-versus-a-copy\n",
      "  us_birth_nobel['birth_date'] = pd.to_datetime(us_birth_nobel['birth_date'])\n"
     ]
    }
   ],
   "source": [
    "us_birth_nobel['birth_date'] = pd.to_datetime(us_birth_nobel['birth_date'])"
   ]
  },
  {
   "cell_type": "code",
   "execution_count": 61,
   "id": "3baedfa8-7838-4933-a862-ea2457ef3e4a",
   "metadata": {},
   "outputs": [
    {
     "name": "stderr",
     "output_type": "stream",
     "text": [
      "/var/folders/lz/zsz00k2n3pbflxxlfqttyt500000gn/T/ipykernel_3285/3822406381.py:1: SettingWithCopyWarning: \n",
      "A value is trying to be set on a copy of a slice from a DataFrame.\n",
      "Try using .loc[row_indexer,col_indexer] = value instead\n",
      "\n",
      "See the caveats in the documentation: https://pandas.pydata.org/pandas-docs/stable/user_guide/indexing.html#returning-a-view-versus-a-copy\n",
      "  us_birth_nobel['birth_year'] = us_birth_nobel['birth_date'].dt.year\n"
     ]
    }
   ],
   "source": [
    "us_birth_nobel['birth_year'] = us_birth_nobel['birth_date'].dt.year"
   ]
  },
  {
   "cell_type": "code",
   "execution_count": 62,
   "id": "95e6bd55-babc-4b2f-81ab-fc72d7df0b6c",
   "metadata": {},
   "outputs": [
    {
     "data": {
      "text/html": [
       "<div>\n",
       "<style scoped>\n",
       "    .dataframe tbody tr th:only-of-type {\n",
       "        vertical-align: middle;\n",
       "    }\n",
       "\n",
       "    .dataframe tbody tr th {\n",
       "        vertical-align: top;\n",
       "    }\n",
       "\n",
       "    .dataframe thead th {\n",
       "        text-align: right;\n",
       "    }\n",
       "</style>\n",
       "<table border=\"1\" class=\"dataframe\">\n",
       "  <thead>\n",
       "    <tr style=\"text-align: right;\">\n",
       "      <th></th>\n",
       "      <th>year</th>\n",
       "      <th>category</th>\n",
       "      <th>prize</th>\n",
       "      <th>motivation</th>\n",
       "      <th>prize_share</th>\n",
       "      <th>laureate_id</th>\n",
       "      <th>laureate_type</th>\n",
       "      <th>full_name</th>\n",
       "      <th>birth_date</th>\n",
       "      <th>birth_city</th>\n",
       "      <th>birth_country</th>\n",
       "      <th>sex</th>\n",
       "      <th>organization_name</th>\n",
       "      <th>organization_city</th>\n",
       "      <th>organization_country</th>\n",
       "      <th>death_date</th>\n",
       "      <th>death_city</th>\n",
       "      <th>death_country</th>\n",
       "      <th>birth_year</th>\n",
       "    </tr>\n",
       "  </thead>\n",
       "  <tbody>\n",
       "    <tr>\n",
       "      <th>850</th>\n",
       "      <td>2011</td>\n",
       "      <td>Physics</td>\n",
       "      <td>The Nobel Prize in Physics 2011</td>\n",
       "      <td>\"for the discovery of the accelerating expansi...</td>\n",
       "      <td>1/2</td>\n",
       "      <td>864</td>\n",
       "      <td>Individual</td>\n",
       "      <td>Saul Perlmutter</td>\n",
       "      <td>NaT</td>\n",
       "      <td>Champaign-Urbana, IL</td>\n",
       "      <td>United States of America</td>\n",
       "      <td>Male</td>\n",
       "      <td>Lawrence Berkeley National Laboratory</td>\n",
       "      <td>Berkeley, CA</td>\n",
       "      <td>United States of America</td>\n",
       "      <td>NaN</td>\n",
       "      <td>NaN</td>\n",
       "      <td>NaN</td>\n",
       "      <td>NaN</td>\n",
       "    </tr>\n",
       "  </tbody>\n",
       "</table>\n",
       "</div>"
      ],
      "text/plain": [
       "     year category                            prize  \\\n",
       "850  2011  Physics  The Nobel Prize in Physics 2011   \n",
       "\n",
       "                                            motivation prize_share  \\\n",
       "850  \"for the discovery of the accelerating expansi...         1/2   \n",
       "\n",
       "     laureate_id laureate_type        full_name birth_date  \\\n",
       "850          864    Individual  Saul Perlmutter        NaT   \n",
       "\n",
       "               birth_city             birth_country   sex  \\\n",
       "850  Champaign-Urbana, IL  United States of America  Male   \n",
       "\n",
       "                         organization_name organization_city  \\\n",
       "850  Lawrence Berkeley National Laboratory      Berkeley, CA   \n",
       "\n",
       "         organization_country death_date death_city death_country  birth_year  \n",
       "850  United States of America        NaN        NaN           NaN         NaN  "
      ]
     },
     "execution_count": 62,
     "metadata": {},
     "output_type": "execute_result"
    }
   ],
   "source": [
    "us_birth_nobel[us_birth_nobel[\"birth_year\"].isna()]"
   ]
  },
  {
   "cell_type": "code",
   "execution_count": 63,
   "id": "0e052734-fb62-4e59-ba13-b8bd8499443f",
   "metadata": {},
   "outputs": [
    {
     "data": {
      "text/plain": [
       "1845.0"
      ]
     },
     "execution_count": 63,
     "metadata": {},
     "output_type": "execute_result"
    }
   ],
   "source": [
    "us_birth_nobel['birth_year'].min()"
   ]
  },
  {
   "cell_type": "code",
   "execution_count": 64,
   "id": "fab9b0e9-9315-4e1c-ba0c-f1d8c75404ef",
   "metadata": {},
   "outputs": [
    {
     "data": {
      "text/plain": [
       "1969.0"
      ]
     },
     "execution_count": 64,
     "metadata": {},
     "output_type": "execute_result"
    }
   ],
   "source": [
    "us_birth_nobel['birth_year'].max()"
   ]
  },
  {
   "cell_type": "code",
   "execution_count": 65,
   "id": "9ee5ae4a-fe40-4c41-9a6c-e272e52482f3",
   "metadata": {},
   "outputs": [
    {
     "data": {
      "text/plain": [
       "<bound method Series.sum of birth_year\n",
       "1918.0    10\n",
       "1941.0    10\n",
       "1915.0     7\n",
       "1943.0     7\n",
       "1931.0     7\n",
       "          ..\n",
       "1909.0     1\n",
       "1845.0     1\n",
       "1879.0     1\n",
       "1906.0     1\n",
       "1966.0     1\n",
       "Name: count, Length: 92, dtype: int64>"
      ]
     },
     "execution_count": 65,
     "metadata": {},
     "output_type": "execute_result"
    }
   ],
   "source": [
    "us_birth_nobel[\"birth_year\"].value_counts().sum"
   ]
  },
  {
   "cell_type": "markdown",
   "id": "14fdb727-5139-47ca-b692-4d70202f969f",
   "metadata": {},
   "source": [
    "Now we index value by decade to analyse the result"
   ]
  },
  {
   "cell_type": "code",
   "execution_count": 66,
   "id": "fd1dcbcd-f19e-4d92-a112-d4e82c9b464b",
   "metadata": {},
   "outputs": [],
   "source": [
    "bins = [1840, 1850, 1860, 1870, 1880, 1890, 1900, 1910, 1920, 1930, 1940, 1950, 1960, 1970]\n",
    "labels = ['1840-1850','1850-1860', '1860-1870', '1870-1880', '1880-1890', '1890-1900',\n",
    "          '1900-1910', '1910-1920', '1920-1930', '1930-1940', '1940-1950', '1950-1960', '1960-1970']"
   ]
  },
  {
   "cell_type": "code",
   "execution_count": 67,
   "id": "2402406c-2d11-4775-847c-e291b73a6d20",
   "metadata": {},
   "outputs": [
    {
     "name": "stderr",
     "output_type": "stream",
     "text": [
      "/var/folders/lz/zsz00k2n3pbflxxlfqttyt500000gn/T/ipykernel_3285/4199984728.py:1: SettingWithCopyWarning: \n",
      "A value is trying to be set on a copy of a slice from a DataFrame.\n",
      "Try using .loc[row_indexer,col_indexer] = value instead\n",
      "\n",
      "See the caveats in the documentation: https://pandas.pydata.org/pandas-docs/stable/user_guide/indexing.html#returning-a-view-versus-a-copy\n",
      "  us_birth_nobel[\"decade\"] = pd.cut(us_birth_nobel[\"birth_year\"], bins=bins, labels=labels, right=False)\n"
     ]
    }
   ],
   "source": [
    "us_birth_nobel[\"decade\"] = pd.cut(us_birth_nobel[\"birth_year\"], bins=bins, labels=labels, right=False)"
   ]
  },
  {
   "cell_type": "code",
   "execution_count": 72,
   "id": "d87e7751-40ee-4d52-a530-44d946792086",
   "metadata": {},
   "outputs": [
    {
     "data": {
      "text/plain": [
       "35     1850-1860\n",
       "72     1840-1850\n",
       "79     1860-1870\n",
       "95     1850-1860\n",
       "117    1860-1870\n",
       "         ...    \n",
       "987    1950-1960\n",
       "988    1950-1960\n",
       "990    1950-1960\n",
       "995    1940-1950\n",
       "999    1940-1950\n",
       "Name: decade, Length: 291, dtype: category\n",
       "Categories (13, object): ['1840-1850' < '1850-1860' < '1860-1870' < '1870-1880' ... '1930-1940' < '1940-1950' < '1950-1960' < '1960-1970']"
      ]
     },
     "execution_count": 72,
     "metadata": {},
     "output_type": "execute_result"
    }
   ],
   "source": [
    "us_birth_nobel[\"decade\"]"
   ]
  },
  {
   "cell_type": "code",
   "execution_count": 73,
   "id": "25557fae-db55-4574-ab90-8ef2ec983afa",
   "metadata": {},
   "outputs": [],
   "source": [
    "seeNan_value = us_birth_nobel[us_birth_nobel[\"decade\"].isna()]"
   ]
  },
  {
   "cell_type": "code",
   "execution_count": 74,
   "id": "132fdf23-e292-4db5-8b1f-b445d2c3e941",
   "metadata": {},
   "outputs": [
    {
     "data": {
      "text/plain": [
       "(1, 20)"
      ]
     },
     "execution_count": 74,
     "metadata": {},
     "output_type": "execute_result"
    }
   ],
   "source": [
    "seeNan_value.shape"
   ]
  },
  {
   "cell_type": "code",
   "execution_count": 71,
   "id": "872eafe6-37df-4db1-9e90-e883e5e7a4d6",
   "metadata": {},
   "outputs": [
    {
     "data": {
      "text/html": [
       "<div>\n",
       "<style scoped>\n",
       "    .dataframe tbody tr th:only-of-type {\n",
       "        vertical-align: middle;\n",
       "    }\n",
       "\n",
       "    .dataframe tbody tr th {\n",
       "        vertical-align: top;\n",
       "    }\n",
       "\n",
       "    .dataframe thead th {\n",
       "        text-align: right;\n",
       "    }\n",
       "</style>\n",
       "<table border=\"1\" class=\"dataframe\">\n",
       "  <thead>\n",
       "    <tr style=\"text-align: right;\">\n",
       "      <th></th>\n",
       "      <th>year</th>\n",
       "      <th>category</th>\n",
       "      <th>prize</th>\n",
       "      <th>motivation</th>\n",
       "      <th>prize_share</th>\n",
       "      <th>laureate_id</th>\n",
       "      <th>laureate_type</th>\n",
       "      <th>full_name</th>\n",
       "      <th>birth_date</th>\n",
       "      <th>birth_city</th>\n",
       "      <th>birth_country</th>\n",
       "      <th>sex</th>\n",
       "      <th>organization_name</th>\n",
       "      <th>organization_city</th>\n",
       "      <th>organization_country</th>\n",
       "      <th>death_date</th>\n",
       "      <th>death_city</th>\n",
       "      <th>death_country</th>\n",
       "      <th>birth_year</th>\n",
       "      <th>decade</th>\n",
       "    </tr>\n",
       "  </thead>\n",
       "  <tbody>\n",
       "    <tr>\n",
       "      <th>850</th>\n",
       "      <td>2011</td>\n",
       "      <td>Physics</td>\n",
       "      <td>The Nobel Prize in Physics 2011</td>\n",
       "      <td>\"for the discovery of the accelerating expansi...</td>\n",
       "      <td>1/2</td>\n",
       "      <td>864</td>\n",
       "      <td>Individual</td>\n",
       "      <td>Saul Perlmutter</td>\n",
       "      <td>NaT</td>\n",
       "      <td>Champaign-Urbana, IL</td>\n",
       "      <td>United States of America</td>\n",
       "      <td>Male</td>\n",
       "      <td>Lawrence Berkeley National Laboratory</td>\n",
       "      <td>Berkeley, CA</td>\n",
       "      <td>United States of America</td>\n",
       "      <td>NaN</td>\n",
       "      <td>NaN</td>\n",
       "      <td>NaN</td>\n",
       "      <td>NaN</td>\n",
       "      <td>NaN</td>\n",
       "    </tr>\n",
       "  </tbody>\n",
       "</table>\n",
       "</div>"
      ],
      "text/plain": [
       "     year category                            prize  \\\n",
       "850  2011  Physics  The Nobel Prize in Physics 2011   \n",
       "\n",
       "                                            motivation prize_share  \\\n",
       "850  \"for the discovery of the accelerating expansi...         1/2   \n",
       "\n",
       "     laureate_id laureate_type        full_name birth_date  \\\n",
       "850          864    Individual  Saul Perlmutter        NaT   \n",
       "\n",
       "               birth_city             birth_country   sex  \\\n",
       "850  Champaign-Urbana, IL  United States of America  Male   \n",
       "\n",
       "                         organization_name organization_city  \\\n",
       "850  Lawrence Berkeley National Laboratory      Berkeley, CA   \n",
       "\n",
       "         organization_country death_date death_city death_country  birth_year  \\\n",
       "850  United States of America        NaN        NaN           NaN         NaN   \n",
       "\n",
       "    decade  \n",
       "850    NaN  "
      ]
     },
     "execution_count": 71,
     "metadata": {},
     "output_type": "execute_result"
    }
   ],
   "source": [
    "seeNan_value"
   ]
  },
  {
   "cell_type": "markdown",
   "id": "c595e3ca-7504-461e-84d7-e104f61d8c05",
   "metadata": {},
   "source": [
    "We can find is birth date to update the dataset so it was born on 22/09/1959 so we add that on the dataset "
   ]
  },
  {
   "cell_type": "code",
   "execution_count": 77,
   "id": "2ecc482f-1e65-4b86-87ed-f21f76de5c8e",
   "metadata": {},
   "outputs": [],
   "source": [
    "us_birth_nobel.loc[850, 'decade'] = '1950-1960'"
   ]
  },
  {
   "cell_type": "code",
   "execution_count": 78,
   "id": "47a2c9d7-5502-49ab-9eef-3060c8fb3349",
   "metadata": {},
   "outputs": [
    {
     "data": {
      "text/html": [
       "<div>\n",
       "<style scoped>\n",
       "    .dataframe tbody tr th:only-of-type {\n",
       "        vertical-align: middle;\n",
       "    }\n",
       "\n",
       "    .dataframe tbody tr th {\n",
       "        vertical-align: top;\n",
       "    }\n",
       "\n",
       "    .dataframe thead th {\n",
       "        text-align: right;\n",
       "    }\n",
       "</style>\n",
       "<table border=\"1\" class=\"dataframe\">\n",
       "  <thead>\n",
       "    <tr style=\"text-align: right;\">\n",
       "      <th></th>\n",
       "      <th>year</th>\n",
       "      <th>category</th>\n",
       "      <th>prize</th>\n",
       "      <th>motivation</th>\n",
       "      <th>prize_share</th>\n",
       "      <th>laureate_id</th>\n",
       "      <th>laureate_type</th>\n",
       "      <th>full_name</th>\n",
       "      <th>birth_date</th>\n",
       "      <th>birth_city</th>\n",
       "      <th>birth_country</th>\n",
       "      <th>sex</th>\n",
       "      <th>organization_name</th>\n",
       "      <th>organization_city</th>\n",
       "      <th>organization_country</th>\n",
       "      <th>death_date</th>\n",
       "      <th>death_city</th>\n",
       "      <th>death_country</th>\n",
       "      <th>birth_year</th>\n",
       "      <th>decade</th>\n",
       "    </tr>\n",
       "  </thead>\n",
       "  <tbody>\n",
       "    <tr>\n",
       "      <th>850</th>\n",
       "      <td>2011</td>\n",
       "      <td>Physics</td>\n",
       "      <td>The Nobel Prize in Physics 2011</td>\n",
       "      <td>\"for the discovery of the accelerating expansi...</td>\n",
       "      <td>1/2</td>\n",
       "      <td>864</td>\n",
       "      <td>Individual</td>\n",
       "      <td>Saul Perlmutter</td>\n",
       "      <td>NaT</td>\n",
       "      <td>Champaign-Urbana, IL</td>\n",
       "      <td>United States of America</td>\n",
       "      <td>Male</td>\n",
       "      <td>Lawrence Berkeley National Laboratory</td>\n",
       "      <td>Berkeley, CA</td>\n",
       "      <td>United States of America</td>\n",
       "      <td>NaN</td>\n",
       "      <td>NaN</td>\n",
       "      <td>NaN</td>\n",
       "      <td>NaN</td>\n",
       "      <td>NaN</td>\n",
       "    </tr>\n",
       "  </tbody>\n",
       "</table>\n",
       "</div>"
      ],
      "text/plain": [
       "     year category                            prize  \\\n",
       "850  2011  Physics  The Nobel Prize in Physics 2011   \n",
       "\n",
       "                                            motivation prize_share  \\\n",
       "850  \"for the discovery of the accelerating expansi...         1/2   \n",
       "\n",
       "     laureate_id laureate_type        full_name birth_date  \\\n",
       "850          864    Individual  Saul Perlmutter        NaT   \n",
       "\n",
       "               birth_city             birth_country   sex  \\\n",
       "850  Champaign-Urbana, IL  United States of America  Male   \n",
       "\n",
       "                         organization_name organization_city  \\\n",
       "850  Lawrence Berkeley National Laboratory      Berkeley, CA   \n",
       "\n",
       "         organization_country death_date death_city death_country  birth_year  \\\n",
       "850  United States of America        NaN        NaN           NaN         NaN   \n",
       "\n",
       "    decade  \n",
       "850    NaN  "
      ]
     },
     "execution_count": 78,
     "metadata": {},
     "output_type": "execute_result"
    }
   ],
   "source": [
    "seeNan_value"
   ]
  },
  {
   "cell_type": "code",
   "execution_count": 79,
   "id": "21332918-6885-43b0-800d-b0612332e370",
   "metadata": {},
   "outputs": [],
   "source": [
    "seeNan_value = us_birth_nobel[us_birth_nobel[\"decade\"].isna()]"
   ]
  },
  {
   "cell_type": "code",
   "execution_count": 80,
   "id": "25bd18b8-af5b-466a-aa94-3c2c5000f8d6",
   "metadata": {},
   "outputs": [
    {
     "data": {
      "text/html": [
       "<div>\n",
       "<style scoped>\n",
       "    .dataframe tbody tr th:only-of-type {\n",
       "        vertical-align: middle;\n",
       "    }\n",
       "\n",
       "    .dataframe tbody tr th {\n",
       "        vertical-align: top;\n",
       "    }\n",
       "\n",
       "    .dataframe thead th {\n",
       "        text-align: right;\n",
       "    }\n",
       "</style>\n",
       "<table border=\"1\" class=\"dataframe\">\n",
       "  <thead>\n",
       "    <tr style=\"text-align: right;\">\n",
       "      <th></th>\n",
       "      <th>year</th>\n",
       "      <th>category</th>\n",
       "      <th>prize</th>\n",
       "      <th>motivation</th>\n",
       "      <th>prize_share</th>\n",
       "      <th>laureate_id</th>\n",
       "      <th>laureate_type</th>\n",
       "      <th>full_name</th>\n",
       "      <th>birth_date</th>\n",
       "      <th>birth_city</th>\n",
       "      <th>birth_country</th>\n",
       "      <th>sex</th>\n",
       "      <th>organization_name</th>\n",
       "      <th>organization_city</th>\n",
       "      <th>organization_country</th>\n",
       "      <th>death_date</th>\n",
       "      <th>death_city</th>\n",
       "      <th>death_country</th>\n",
       "      <th>birth_year</th>\n",
       "      <th>decade</th>\n",
       "    </tr>\n",
       "  </thead>\n",
       "  <tbody>\n",
       "  </tbody>\n",
       "</table>\n",
       "</div>"
      ],
      "text/plain": [
       "Empty DataFrame\n",
       "Columns: [year, category, prize, motivation, prize_share, laureate_id, laureate_type, full_name, birth_date, birth_city, birth_country, sex, organization_name, organization_city, organization_country, death_date, death_city, death_country, birth_year, decade]\n",
       "Index: []"
      ]
     },
     "execution_count": 80,
     "metadata": {},
     "output_type": "execute_result"
    }
   ],
   "source": [
    "seeNan_value"
   ]
  },
  {
   "cell_type": "code",
   "execution_count": 83,
   "id": "8f6a3414-5083-494d-a675-084d3f2f7a28",
   "metadata": {},
   "outputs": [],
   "source": [
    "top_decade = us_birth_nobel['decade'].value_counts()"
   ]
  },
  {
   "cell_type": "code",
   "execution_count": 84,
   "id": "75567f9b-229f-4cac-87dd-9dbd40437acf",
   "metadata": {},
   "outputs": [
    {
     "data": {
      "text/plain": [
       "decade\n",
       "1940-1950    59\n",
       "1910-1920    45\n",
       "1920-1930    44\n",
       "1930-1940    41\n",
       "1950-1960    28\n",
       "1900-1910    21\n",
       "1890-1900    14\n",
       "1960-1970    12\n",
       "1880-1890    11\n",
       "1860-1870     8\n",
       "1870-1880     4\n",
       "1850-1860     3\n",
       "1840-1850     1\n",
       "Name: count, dtype: int64"
      ]
     },
     "execution_count": 84,
     "metadata": {},
     "output_type": "execute_result"
    }
   ],
   "source": [
    "top_decade"
   ]
  },
  {
   "cell_type": "code",
   "execution_count": 88,
   "id": "72dcc991-b5f3-4539-9599-2e6517306bbd",
   "metadata": {},
   "outputs": [],
   "source": [
    "df = top_decade.reset_index()\n",
    "df.columns = ['decade', 'counts']  "
   ]
  },
  {
   "cell_type": "code",
   "execution_count": 89,
   "id": "3ac794be-a8ab-4627-8645-024e85e4608e",
   "metadata": {},
   "outputs": [
    {
     "data": {
      "text/html": [
       "<div>\n",
       "<style scoped>\n",
       "    .dataframe tbody tr th:only-of-type {\n",
       "        vertical-align: middle;\n",
       "    }\n",
       "\n",
       "    .dataframe tbody tr th {\n",
       "        vertical-align: top;\n",
       "    }\n",
       "\n",
       "    .dataframe thead th {\n",
       "        text-align: right;\n",
       "    }\n",
       "</style>\n",
       "<table border=\"1\" class=\"dataframe\">\n",
       "  <thead>\n",
       "    <tr style=\"text-align: right;\">\n",
       "      <th></th>\n",
       "      <th>decade</th>\n",
       "      <th>counts</th>\n",
       "    </tr>\n",
       "  </thead>\n",
       "  <tbody>\n",
       "    <tr>\n",
       "      <th>0</th>\n",
       "      <td>1940-1950</td>\n",
       "      <td>59</td>\n",
       "    </tr>\n",
       "    <tr>\n",
       "      <th>1</th>\n",
       "      <td>1910-1920</td>\n",
       "      <td>45</td>\n",
       "    </tr>\n",
       "    <tr>\n",
       "      <th>2</th>\n",
       "      <td>1920-1930</td>\n",
       "      <td>44</td>\n",
       "    </tr>\n",
       "    <tr>\n",
       "      <th>3</th>\n",
       "      <td>1930-1940</td>\n",
       "      <td>41</td>\n",
       "    </tr>\n",
       "    <tr>\n",
       "      <th>4</th>\n",
       "      <td>1950-1960</td>\n",
       "      <td>28</td>\n",
       "    </tr>\n",
       "    <tr>\n",
       "      <th>5</th>\n",
       "      <td>1900-1910</td>\n",
       "      <td>21</td>\n",
       "    </tr>\n",
       "    <tr>\n",
       "      <th>6</th>\n",
       "      <td>1890-1900</td>\n",
       "      <td>14</td>\n",
       "    </tr>\n",
       "    <tr>\n",
       "      <th>7</th>\n",
       "      <td>1960-1970</td>\n",
       "      <td>12</td>\n",
       "    </tr>\n",
       "    <tr>\n",
       "      <th>8</th>\n",
       "      <td>1880-1890</td>\n",
       "      <td>11</td>\n",
       "    </tr>\n",
       "    <tr>\n",
       "      <th>9</th>\n",
       "      <td>1860-1870</td>\n",
       "      <td>8</td>\n",
       "    </tr>\n",
       "    <tr>\n",
       "      <th>10</th>\n",
       "      <td>1870-1880</td>\n",
       "      <td>4</td>\n",
       "    </tr>\n",
       "    <tr>\n",
       "      <th>11</th>\n",
       "      <td>1850-1860</td>\n",
       "      <td>3</td>\n",
       "    </tr>\n",
       "    <tr>\n",
       "      <th>12</th>\n",
       "      <td>1840-1850</td>\n",
       "      <td>1</td>\n",
       "    </tr>\n",
       "  </tbody>\n",
       "</table>\n",
       "</div>"
      ],
      "text/plain": [
       "       decade  counts\n",
       "0   1940-1950      59\n",
       "1   1910-1920      45\n",
       "2   1920-1930      44\n",
       "3   1930-1940      41\n",
       "4   1950-1960      28\n",
       "5   1900-1910      21\n",
       "6   1890-1900      14\n",
       "7   1960-1970      12\n",
       "8   1880-1890      11\n",
       "9   1860-1870       8\n",
       "10  1870-1880       4\n",
       "11  1850-1860       3\n",
       "12  1840-1850       1"
      ]
     },
     "execution_count": 89,
     "metadata": {},
     "output_type": "execute_result"
    }
   ],
   "source": [
    "df"
   ]
  },
  {
   "cell_type": "code",
   "execution_count": 105,
   "id": "559ba1c0-e6de-4959-afa6-7363e364e511",
   "metadata": {},
   "outputs": [
    {
     "data": {
      "text/plain": [
       "Text(0.5, 1.0, 'Decadal Comparison of US-Born Nobel Prize Winners')"
      ]
     },
     "execution_count": 105,
     "metadata": {},
     "output_type": "execute_result"
    },
    {
     "data": {
      "image/png": "[encoded data removed]",
      "text/plain": [
       "<Figure size 640x480 with 1 Axes>"
      ]
     },
     "metadata": {},
     "output_type": "display_data"
    }
   ],
   "source": [
    "plt.style.use('grayscale')\n",
    "sns.barplot(data=df, x=\"decade\", y=\"counts\")\n",
    "plt.xticks(rotation = 45)\n",
    "plt.xlabel(\"\")\n",
    "plt.title('Decadal Comparison of US-Born Nobel Prize Winners')\n",
    "\n"
   ]
  },
  {
   "cell_type": "markdown",
   "id": "ee04f84d-1c5f-445c-9ebd-295f010b293a",
   "metadata": {},
   "source": [
    "We can see that the 1940-1950 decade had the highest number of US-born Nobel Prize winners, with a total of 60 laureates."
   ]
  },
  {
   "cell_type": "markdown",
   "id": "09fb2dfc-23b0-4899-bce2-9c2b97e2fa76",
   "metadata": {},
   "source": [
    "### 3. Which decade and Nobel Prize category combination had the highest proportion of female laureates?"
   ]
  },
  {
   "cell_type": "code",
   "execution_count": null,
   "id": "321b67e8-b384-429e-b109-e36e7c51a13f",
   "metadata": {},
   "outputs": [],
   "source": []
  },
  {
   "cell_type": "code",
   "execution_count": null,
   "id": "25e4f6b6-ec66-430b-84f6-a7b7bf55010e",
   "metadata": {},
   "outputs": [],
   "source": []
  },
  {
   "cell_type": "code",
   "execution_count": null,
   "id": "53c2198a-6f49-4fc8-b667-235b5fab63fc",
   "metadata": {},
   "outputs": [],
   "source": []
  }
 ],
 "metadata": {
  "kernelspec": {
   "display_name": "Python 3 (ipykernel)",
   "language": "python",
   "name": "python3"
  },
  "language_info": {
   "codemirror_mode": {
    "name": "ipython",
    "version": 3
   },
   "file_extension": ".py",
   "mimetype": "text/x-python",
   "name": "python",
   "nbconvert_exporter": "python",
   "pygments_lexer": "ipython3",
   "version": "3.12.3"
  }
 },
 "nbformat": 4,
 "nbformat_minor": 5
}
