{
 "cells": [
  {
   "cell_type": "markdown",
   "id": "7d166648-8570-4e7c-be40-e91610bd11c0",
   "metadata": {},
   "source": [
    "# Analysis of Nobel Prize Laureates (1901-2023)\n",
    "\n",
    "## Introduction\n",
    "\n",
    "The Nobel Prize, awarded since 1901, is one of the most prestigious international accolades. Each year, prizes are bestowed in six categories: Chemistry, Literature, Physics, Physiology or Medicine, Economics, and Peace.\n",
    "\n",
    "In this project, we will explore and analyze data on Nobel Prize laureates from 1901 to 2023, provided by the Nobel Foundation through their API.\n",
    "\n",
    "Our analysis aims to answer several key questions, including:\n",
    "\n",
    "1. What is the most commonly awarded gender and birth country among laureates?\n",
    "2. Which decade had the highest ratio of US-born Nobel Prize winners to total winners across all categories?\n",
    "3. Which decade and Nobel Prize category combination had the highest proportion of female laureates?\n",
    "4. Who was the first woman to receive a Nobel Prize, and in what category?\n",
    "5. Which individuals or organizations have won more than one Nobel Prize throughout the years?\n",
    "\n",
    "Through this analysis, we will uncover fascinating trends and valuable insights into the history of Nobel Prizes.\n",
    "\n",
    "Let's begin our exploration!"
   ]
  },
  {
   "cell_type": "code",
   "execution_count": 1,
   "id": "bda0f9aa-62c5-44f6-9e17-1168ef87761c",
   "metadata": {},
   "outputs": [],
   "source": [
    "import pandas as pd\n",
    "import matplotlib.pyplot as plt\n",
    "import seaborn as sns\n",
    "import numpy as np"
   ]
  },
  {
   "cell_type": "code",
   "execution_count": 2,
   "id": "ea4ab5d3-b09a-4da8-9c1e-3daa9765f023",
   "metadata": {},
   "outputs": [],
   "source": [
    "df = pd.read_csv(\"Dataset/nobel.csv\")"
   ]
  },
  {
   "cell_type": "code",
   "execution_count": 3,
   "id": "92c8f48c-b04a-4e6d-8ad0-ff7466aaa229",
   "metadata": {},
   "outputs": [
    {
     "data": {
      "text/html": [
       "<div>\n",
       "<style scoped>\n",
       "    .dataframe tbody tr th:only-of-type {\n",
       "        vertical-align: middle;\n",
       "    }\n",
       "\n",
       "    .dataframe tbody tr th {\n",
       "        vertical-align: top;\n",
       "    }\n",
       "\n",
       "    .dataframe thead th {\n",
       "        text-align: right;\n",
       "    }\n",
       "</style>\n",
       "<table border=\"1\" class=\"dataframe\">\n",
       "  <thead>\n",
       "    <tr style=\"text-align: right;\">\n",
       "      <th></th>\n",
       "      <th>year</th>\n",
       "      <th>category</th>\n",
       "      <th>prize</th>\n",
       "      <th>motivation</th>\n",
       "      <th>prize_share</th>\n",
       "      <th>laureate_id</th>\n",
       "      <th>laureate_type</th>\n",
       "      <th>full_name</th>\n",
       "      <th>birth_date</th>\n",
       "      <th>birth_city</th>\n",
       "      <th>birth_country</th>\n",
       "      <th>sex</th>\n",
       "      <th>organization_name</th>\n",
       "      <th>organization_city</th>\n",
       "      <th>organization_country</th>\n",
       "      <th>death_date</th>\n",
       "      <th>death_city</th>\n",
       "      <th>death_country</th>\n",
       "    </tr>\n",
       "  </thead>\n",
       "  <tbody>\n",
       "    <tr>\n",
       "      <th>0</th>\n",
       "      <td>1901</td>\n",
       "      <td>Chemistry</td>\n",
       "      <td>The Nobel Prize in Chemistry 1901</td>\n",
       "      <td>\"in recognition of the extraordinary services ...</td>\n",
       "      <td>1/1</td>\n",
       "      <td>160</td>\n",
       "      <td>Individual</td>\n",
       "      <td>Jacobus Henricus van 't Hoff</td>\n",
       "      <td>1852-08-30</td>\n",
       "      <td>Rotterdam</td>\n",
       "      <td>Netherlands</td>\n",
       "      <td>Male</td>\n",
       "      <td>Berlin University</td>\n",
       "      <td>Berlin</td>\n",
       "      <td>Germany</td>\n",
       "      <td>1911-03-01</td>\n",
       "      <td>Berlin</td>\n",
       "      <td>Germany</td>\n",
       "    </tr>\n",
       "    <tr>\n",
       "      <th>1</th>\n",
       "      <td>1901</td>\n",
       "      <td>Literature</td>\n",
       "      <td>The Nobel Prize in Literature 1901</td>\n",
       "      <td>\"in special recognition of his poetic composit...</td>\n",
       "      <td>1/1</td>\n",
       "      <td>569</td>\n",
       "      <td>Individual</td>\n",
       "      <td>Sully Prudhomme</td>\n",
       "      <td>1839-03-16</td>\n",
       "      <td>Paris</td>\n",
       "      <td>France</td>\n",
       "      <td>Male</td>\n",
       "      <td>NaN</td>\n",
       "      <td>NaN</td>\n",
       "      <td>NaN</td>\n",
       "      <td>1907-09-07</td>\n",
       "      <td>Châtenay</td>\n",
       "      <td>France</td>\n",
       "    </tr>\n",
       "    <tr>\n",
       "      <th>2</th>\n",
       "      <td>1901</td>\n",
       "      <td>Medicine</td>\n",
       "      <td>The Nobel Prize in Physiology or Medicine 1901</td>\n",
       "      <td>\"for his work on serum therapy, especially its...</td>\n",
       "      <td>1/1</td>\n",
       "      <td>293</td>\n",
       "      <td>Individual</td>\n",
       "      <td>Emil Adolf von Behring</td>\n",
       "      <td>1854-03-15</td>\n",
       "      <td>Hansdorf (Lawice)</td>\n",
       "      <td>Prussia (Poland)</td>\n",
       "      <td>Male</td>\n",
       "      <td>Marburg University</td>\n",
       "      <td>Marburg</td>\n",
       "      <td>Germany</td>\n",
       "      <td>1917-03-31</td>\n",
       "      <td>Marburg</td>\n",
       "      <td>Germany</td>\n",
       "    </tr>\n",
       "    <tr>\n",
       "      <th>3</th>\n",
       "      <td>1901</td>\n",
       "      <td>Peace</td>\n",
       "      <td>The Nobel Peace Prize 1901</td>\n",
       "      <td>NaN</td>\n",
       "      <td>1/2</td>\n",
       "      <td>462</td>\n",
       "      <td>Individual</td>\n",
       "      <td>Jean Henry Dunant</td>\n",
       "      <td>1828-05-08</td>\n",
       "      <td>Geneva</td>\n",
       "      <td>Switzerland</td>\n",
       "      <td>Male</td>\n",
       "      <td>NaN</td>\n",
       "      <td>NaN</td>\n",
       "      <td>NaN</td>\n",
       "      <td>1910-10-30</td>\n",
       "      <td>Heiden</td>\n",
       "      <td>Switzerland</td>\n",
       "    </tr>\n",
       "    <tr>\n",
       "      <th>4</th>\n",
       "      <td>1901</td>\n",
       "      <td>Peace</td>\n",
       "      <td>The Nobel Peace Prize 1901</td>\n",
       "      <td>NaN</td>\n",
       "      <td>1/2</td>\n",
       "      <td>463</td>\n",
       "      <td>Individual</td>\n",
       "      <td>Frédéric Passy</td>\n",
       "      <td>1822-05-20</td>\n",
       "      <td>Paris</td>\n",
       "      <td>France</td>\n",
       "      <td>Male</td>\n",
       "      <td>NaN</td>\n",
       "      <td>NaN</td>\n",
       "      <td>NaN</td>\n",
       "      <td>1912-06-12</td>\n",
       "      <td>Paris</td>\n",
       "      <td>France</td>\n",
       "    </tr>\n",
       "  </tbody>\n",
       "</table>\n",
       "</div>"
      ],
      "text/plain": [
       "   year    category                                           prize  \\\n",
       "0  1901   Chemistry               The Nobel Prize in Chemistry 1901   \n",
       "1  1901  Literature              The Nobel Prize in Literature 1901   \n",
       "2  1901    Medicine  The Nobel Prize in Physiology or Medicine 1901   \n",
       "3  1901       Peace                      The Nobel Peace Prize 1901   \n",
       "4  1901       Peace                      The Nobel Peace Prize 1901   \n",
       "\n",
       "                                          motivation prize_share  laureate_id  \\\n",
       "0  \"in recognition of the extraordinary services ...         1/1          160   \n",
       "1  \"in special recognition of his poetic composit...         1/1          569   \n",
       "2  \"for his work on serum therapy, especially its...         1/1          293   \n",
       "3                                                NaN         1/2          462   \n",
       "4                                                NaN         1/2          463   \n",
       "\n",
       "  laureate_type                     full_name  birth_date         birth_city  \\\n",
       "0    Individual  Jacobus Henricus van 't Hoff  1852-08-30          Rotterdam   \n",
       "1    Individual               Sully Prudhomme  1839-03-16              Paris   \n",
       "2    Individual        Emil Adolf von Behring  1854-03-15  Hansdorf (Lawice)   \n",
       "3    Individual             Jean Henry Dunant  1828-05-08             Geneva   \n",
       "4    Individual                Frédéric Passy  1822-05-20              Paris   \n",
       "\n",
       "      birth_country   sex   organization_name organization_city  \\\n",
       "0       Netherlands  Male   Berlin University            Berlin   \n",
       "1            France  Male                 NaN               NaN   \n",
       "2  Prussia (Poland)  Male  Marburg University           Marburg   \n",
       "3       Switzerland  Male                 NaN               NaN   \n",
       "4            France  Male                 NaN               NaN   \n",
       "\n",
       "  organization_country  death_date death_city death_country  \n",
       "0              Germany  1911-03-01     Berlin       Germany  \n",
       "1                  NaN  1907-09-07   Châtenay        France  \n",
       "2              Germany  1917-03-31    Marburg       Germany  \n",
       "3                  NaN  1910-10-30     Heiden   Switzerland  \n",
       "4                  NaN  1912-06-12      Paris        France  "
      ]
     },
     "execution_count": 3,
     "metadata": {},
     "output_type": "execute_result"
    }
   ],
   "source": [
    "df.head()"
   ]
  },
  {
   "cell_type": "code",
   "execution_count": 4,
   "id": "550117c1-bdfe-451c-81e2-a75bf90917cf",
   "metadata": {},
   "outputs": [
    {
     "data": {
      "text/plain": [
       "Index(['year', 'category', 'prize', 'motivation', 'prize_share', 'laureate_id',\n",
       "       'laureate_type', 'full_name', 'birth_date', 'birth_city',\n",
       "       'birth_country', 'sex', 'organization_name', 'organization_city',\n",
       "       'organization_country', 'death_date', 'death_city', 'death_country'],\n",
       "      dtype='object')"
      ]
     },
     "execution_count": 4,
     "metadata": {},
     "output_type": "execute_result"
    }
   ],
   "source": [
    "df.columns"
   ]
  },
  {
   "cell_type": "code",
   "execution_count": 5,
   "id": "87d12461-0fd4-4ead-81e6-97925a6d66e5",
   "metadata": {},
   "outputs": [
    {
     "data": {
      "text/plain": [
       "(1000, 18)"
      ]
     },
     "execution_count": 5,
     "metadata": {},
     "output_type": "execute_result"
    }
   ],
   "source": [
    "df.shape"
   ]
  },
  {
   "cell_type": "markdown",
   "id": "01cfb591-737e-4772-ad1a-13bade52074f",
   "metadata": {},
   "source": [
    "### 1. What is the most commonly awarded gender and birth country among laureates?"
   ]
  },
  {
   "cell_type": "code",
   "execution_count": 6,
   "id": "c5a332cf-5ae5-467f-a28d-4b77c144ea65",
   "metadata": {},
   "outputs": [],
   "source": [
    "top_nobel_coutry_sum = df[\"birth_country\"].groupby(df['prize']).agg('sum').value_counts()"
   ]
  },
  {
   "cell_type": "code",
   "execution_count": 7,
   "id": "e287b865-432c-45ac-a7b4-587abe0aaaaf",
   "metadata": {},
   "outputs": [
    {
     "data": {
      "text/plain": [
       "birth_country\n",
       "United States of America                            64\n",
       "United Kingdom                                      27\n",
       "France                                              27\n",
       "United States of AmericaUnited States of America    26\n",
       "0                                                   21\n",
       "                                                    ..\n",
       "Guadeloupe Island                                    1\n",
       "Bosnia (Bosnia and Herzegovina)                      1\n",
       "Ottoman Empire (Turkey)                              1\n",
       "Austria-Hungary (Ukraine)Germany                     1\n",
       "CanadaUnited States of AmericaNetherlands            1\n",
       "Name: count, Length: 281, dtype: int64"
      ]
     },
     "execution_count": 7,
     "metadata": {},
     "output_type": "execute_result"
    }
   ],
   "source": [
    "top_nobel_coutry_sum"
   ]
  },
  {
   "cell_type": "code",
   "execution_count": 8,
   "id": "95208ba8-008b-49bd-9fd4-28d1ddd0fcbe",
   "metadata": {},
   "outputs": [],
   "source": [
    "top_nobel_gender = df[\"sex\"].groupby(df['prize']).agg('sum').value_counts()"
   ]
  },
  {
   "cell_type": "code",
   "execution_count": 9,
   "id": "3800247d-7235-4b55-9691-2ed95b384a96",
   "metadata": {},
   "outputs": [
    {
     "data": {
      "text/plain": [
       "sex\n",
       "Male                  319\n",
       "MaleMale              125\n",
       "MaleMaleMale           97\n",
       "Female                 28\n",
       "0                      20\n",
       "MaleFemaleMale          8\n",
       "MaleMaleFemale          7\n",
       "FemaleMale              6\n",
       "MaleFemale              6\n",
       "FemaleFemale            2\n",
       "FemaleFemaleFemale      1\n",
       "FemaleMaleMale          1\n",
       "FemaleFemaleMale        1\n",
       "Name: count, dtype: int64"
      ]
     },
     "execution_count": 9,
     "metadata": {},
     "output_type": "execute_result"
    }
   ],
   "source": [
    "top_nobel_gender"
   ]
  },
  {
   "cell_type": "markdown",
   "id": "2c6f2d7f-8283-422a-8a46-bacd16323671",
   "metadata": {},
   "source": [
    "So we can see that the top 3 countries are the USA, United Kingdom, and Germany. As for gender, men have received the most Nobel Prizes."
   ]
  },
  {
   "cell_type": "markdown",
   "id": "a5cc59d8-c849-4df7-9c15-773cb564123e",
   "metadata": {},
   "source": [
    "### 2. Which decade had the highest ratio of US-born Nobel Prize winners to total winners across all categories?"
   ]
  },
  {
   "cell_type": "code",
   "execution_count": 10,
   "id": "7c971624-bb8d-40b2-ba67-96e0d77d7f0f",
   "metadata": {},
   "outputs": [
    {
     "ename": "NameError",
     "evalue": "name 'birth_nobel_prize' is not defined",
     "output_type": "error",
     "traceback": [
      "\u001b[0;31m---------------------------------------------------------------------------\u001b[0m",
      "\u001b[0;31mNameError\u001b[0m                                 Traceback (most recent call last)",
      "Cell \u001b[0;32mIn[10], line 1\u001b[0m\n\u001b[0;32m----> 1\u001b[0m \u001b[43mbirth_nobel_prize\u001b[49m \n",
      "\u001b[0;31mNameError\u001b[0m: name 'birth_nobel_prize' is not defined"
     ]
    }
   ],
   "source": [
    "birth_nobel_prize "
   ]
  },
  {
   "cell_type": "code",
   "execution_count": null,
   "id": "bde2c148-b4fa-4d32-b86b-184550a2e36a",
   "metadata": {},
   "outputs": [],
   "source": [
    "us_birth_nobel = df[df[\"birth_country\"] == \"United States of America\"]\n"
   ]
  },
  {
   "cell_type": "code",
   "execution_count": null,
   "id": "a6cebc7a-29ca-4724-9bca-bb7daf825b4e",
   "metadata": {},
   "outputs": [],
   "source": [
    "us_birth_nobel.shape"
   ]
  },
  {
   "cell_type": "code",
   "execution_count": null,
   "id": "0b610de9-93a6-4eb2-a02f-7e02e7799cd9",
   "metadata": {},
   "outputs": [],
   "source": [
    "us_birth_nobel[\"birth_date\"].dtype"
   ]
  },
  {
   "cell_type": "code",
   "execution_count": 20,
   "id": "e6276ce5-a081-4843-987d-d917e0c81127",
   "metadata": {},
   "outputs": [],
   "source": [
    "def corriger_date(valeur):\n",
    "    if pd.isna(valeur):\n",
    "        return pd.NaT\n",
    "    if isinstance(valeur, (int, float)):\n",
    "        return pd.to_datetime(str(int(valeur)), format='%Y')\n",
    "    if isinstance(valeur, str):\n",
    "        if '-00-00' in valeur:\n",
    "            return pd.to_datetime(valeur[:4], format='%Y')\n",
    "        else:\n",
    "            return pd.to_datetime(valeur, errors='coerce')\n",
    "    return pd.NaT"
   ]
  },
  {
   "cell_type": "code",
   "execution_count": null,
   "id": "321dc043-1506-436a-8027-990b6250db1a",
   "metadata": {},
   "outputs": [],
   "source": []
  },
  {
   "cell_type": "code",
   "execution_count": null,
   "id": "b09d8a46-cec9-4d5f-aca8-69f02bffe66a",
   "metadata": {},
   "outputs": [],
   "source": [
    "us_birth_nobel['birth_date'] = us_birth_nobel['birth_date'].apply(corriger_date)"
   ]
  },
  {
   "cell_type": "code",
   "execution_count": null,
   "id": "1a26cc41-9907-42d7-aa1b-d51c112c27ef",
   "metadata": {},
   "outputs": [],
   "source": [
    "us_birth_nobel['birth_date'] = pd.to_datetime(us_birth_nobel['birth_date'])"
   ]
  },
  {
   "cell_type": "code",
   "execution_count": null,
   "id": "3baedfa8-7838-4933-a862-ea2457ef3e4a",
   "metadata": {},
   "outputs": [],
   "source": [
    "us_birth_nobel['birth_year'] = us_birth_nobel['birth_date'].dt.year"
   ]
  },
  {
   "cell_type": "code",
   "execution_count": null,
   "id": "95e6bd55-babc-4b2f-81ab-fc72d7df0b6c",
   "metadata": {},
   "outputs": [],
   "source": [
    "us_birth_nobel[us_birth_nobel[\"birth_year\"].isna()]"
   ]
  },
  {
   "cell_type": "code",
   "execution_count": null,
   "id": "0e052734-fb62-4e59-ba13-b8bd8499443f",
   "metadata": {},
   "outputs": [],
   "source": [
    "us_birth_nobel['birth_year'].min()"
   ]
  },
  {
   "cell_type": "code",
   "execution_count": null,
   "id": "fab9b0e9-9315-4e1c-ba0c-f1d8c75404ef",
   "metadata": {},
   "outputs": [],
   "source": [
    "us_birth_nobel['birth_year'].max()"
   ]
  },
  {
   "cell_type": "code",
   "execution_count": null,
   "id": "9ee5ae4a-fe40-4c41-9a6c-e272e52482f3",
   "metadata": {},
   "outputs": [],
   "source": [
    "us_birth_nobel[\"birth_year\"].value_counts().sum"
   ]
  },
  {
   "cell_type": "markdown",
   "id": "14fdb727-5139-47ca-b692-4d70202f969f",
   "metadata": {},
   "source": [
    "Now we index value by decade to analyse the result"
   ]
  },
  {
   "cell_type": "code",
   "execution_count": null,
   "id": "fd1dcbcd-f19e-4d92-a112-d4e82c9b464b",
   "metadata": {},
   "outputs": [],
   "source": [
    "bins = [1840, 1850, 1860, 1870, 1880, 1890, 1900, 1910, 1920, 1930, 1940, 1950, 1960, 1970]\n",
    "labels = ['1840-1850','1850-1860', '1860-1870', '1870-1880', '1880-1890', '1890-1900',\n",
    "          '1900-1910', '1910-1920', '1920-1930', '1930-1940', '1940-1950', '1950-1960', '1960-1970']"
   ]
  },
  {
   "cell_type": "code",
   "execution_count": null,
   "id": "2402406c-2d11-4775-847c-e291b73a6d20",
   "metadata": {},
   "outputs": [],
   "source": [
    "us_birth_nobel[\"decade\"] = pd.cut(us_birth_nobel[\"birth_year\"], bins=bins, labels=labels, right=False)"
   ]
  },
  {
   "cell_type": "code",
   "execution_count": null,
   "id": "d87e7751-40ee-4d52-a530-44d946792086",
   "metadata": {},
   "outputs": [],
   "source": [
    "us_birth_nobel[\"decade\"]"
   ]
  },
  {
   "cell_type": "code",
   "execution_count": null,
   "id": "25557fae-db55-4574-ab90-8ef2ec983afa",
   "metadata": {},
   "outputs": [],
   "source": [
    "seeNan_value = us_birth_nobel[us_birth_nobel[\"decade\"].isna()]"
   ]
  },
  {
   "cell_type": "code",
   "execution_count": null,
   "id": "132fdf23-e292-4db5-8b1f-b445d2c3e941",
   "metadata": {},
   "outputs": [],
   "source": [
    "seeNan_value.shape"
   ]
  },
  {
   "cell_type": "code",
   "execution_count": null,
   "id": "872eafe6-37df-4db1-9e90-e883e5e7a4d6",
   "metadata": {},
   "outputs": [],
   "source": [
    "seeNan_value"
   ]
  },
  {
   "cell_type": "markdown",
   "id": "c595e3ca-7504-461e-84d7-e104f61d8c05",
   "metadata": {},
   "source": [
    "We can find is birth date to update the dataset so it was born on 22/09/1959 so we add that on the dataset "
   ]
  },
  {
   "cell_type": "code",
   "execution_count": null,
   "id": "2ecc482f-1e65-4b86-87ed-f21f76de5c8e",
   "metadata": {},
   "outputs": [],
   "source": [
    "us_birth_nobel.loc[850, 'decade'] = '1950-1960'"
   ]
  },
  {
   "cell_type": "code",
   "execution_count": null,
   "id": "47a2c9d7-5502-49ab-9eef-3060c8fb3349",
   "metadata": {},
   "outputs": [],
   "source": [
    "seeNan_value"
   ]
  },
  {
   "cell_type": "code",
   "execution_count": null,
   "id": "21332918-6885-43b0-800d-b0612332e370",
   "metadata": {},
   "outputs": [],
   "source": [
    "seeNan_value = us_birth_nobel[us_birth_nobel[\"decade\"].isna()]"
   ]
  },
  {
   "cell_type": "code",
   "execution_count": null,
   "id": "25bd18b8-af5b-466a-aa94-3c2c5000f8d6",
   "metadata": {},
   "outputs": [],
   "source": [
    "seeNan_value"
   ]
  },
  {
   "cell_type": "code",
   "execution_count": null,
   "id": "8f6a3414-5083-494d-a675-084d3f2f7a28",
   "metadata": {},
   "outputs": [],
   "source": [
    "top_decade = us_birth_nobel['decade'].value_counts()"
   ]
  },
  {
   "cell_type": "code",
   "execution_count": null,
   "id": "75567f9b-229f-4cac-87dd-9dbd40437acf",
   "metadata": {},
   "outputs": [],
   "source": [
    "top_decade"
   ]
  },
  {
   "cell_type": "code",
   "execution_count": null,
   "id": "72dcc991-b5f3-4539-9599-2e6517306bbd",
   "metadata": {},
   "outputs": [],
   "source": [
    "df = top_decade.reset_index()\n",
    "df.columns = ['decade', 'counts']  "
   ]
  },
  {
   "cell_type": "code",
   "execution_count": null,
   "id": "3ac794be-a8ab-4627-8645-024e85e4608e",
   "metadata": {},
   "outputs": [],
   "source": [
    "df"
   ]
  },
  {
   "cell_type": "code",
   "execution_count": null,
   "id": "559ba1c0-e6de-4959-afa6-7363e364e511",
   "metadata": {},
   "outputs": [],
   "source": [
    "plt.style.use('grayscale')\n",
    "sns.barplot(data=df, x=\"decade\", y=\"counts\")\n",
    "plt.xticks(rotation = 45)\n",
    "plt.xlabel(\"\")\n",
    "plt.title('Decadal Comparison of US-Born Nobel Prize Winners')\n",
    "\n"
   ]
  },
  {
   "cell_type": "markdown",
   "id": "ee04f84d-1c5f-445c-9ebd-295f010b293a",
   "metadata": {},
   "source": [
    "We can see that the 1940-1950 decade had the highest number of US-born Nobel Prize winners, with a total of 60 laureates."
   ]
  },
  {
   "cell_type": "markdown",
   "id": "09fb2dfc-23b0-4899-bce2-9c2b97e2fa76",
   "metadata": {},
   "source": [
    "### 3. Which decade and Nobel Prize category combination had the highest proportion of female laureates?"
   ]
  },
  {
   "cell_type": "code",
   "execution_count": null,
   "id": "2c3438ba-d2a6-44b3-982c-c9ee22e10b77",
   "metadata": {},
   "outputs": [],
   "source": []
  },
  {
   "cell_type": "markdown",
   "id": "acf5aba7-db42-46c2-aae6-2dc491152463",
   "metadata": {},
   "source": [
    "First, we will **isolate** the female laureates and **create** a new DataFrame to **analyze** their contributions more effectively."
   ]
  },
  {
   "cell_type": "code",
   "execution_count": 14,
   "id": "b24bfad0-0d8d-41e1-9247-0e5ca422743b",
   "metadata": {},
   "outputs": [
    {
     "data": {
      "text/plain": [
       "array(['Male', 'Female', nan], dtype=object)"
      ]
     },
     "execution_count": 14,
     "metadata": {},
     "output_type": "execute_result"
    }
   ],
   "source": [
    "df[\"sex\"].unique()"
   ]
  },
  {
   "cell_type": "code",
   "execution_count": 17,
   "id": "8be1e6ab-de45-4d2a-9ff6-4331af780ad3",
   "metadata": {
    "scrolled": true
   },
   "outputs": [
    {
     "data": {
      "text/html": [
       "<div>\n",
       "<style scoped>\n",
       "    .dataframe tbody tr th:only-of-type {\n",
       "        vertical-align: middle;\n",
       "    }\n",
       "\n",
       "    .dataframe tbody tr th {\n",
       "        vertical-align: top;\n",
       "    }\n",
       "\n",
       "    .dataframe thead th {\n",
       "        text-align: right;\n",
       "    }\n",
       "</style>\n",
       "<table border=\"1\" class=\"dataframe\">\n",
       "  <thead>\n",
       "    <tr style=\"text-align: right;\">\n",
       "      <th></th>\n",
       "      <th>year</th>\n",
       "      <th>category</th>\n",
       "      <th>prize</th>\n",
       "      <th>motivation</th>\n",
       "      <th>prize_share</th>\n",
       "      <th>laureate_id</th>\n",
       "      <th>laureate_type</th>\n",
       "      <th>full_name</th>\n",
       "      <th>birth_date</th>\n",
       "      <th>birth_city</th>\n",
       "      <th>birth_country</th>\n",
       "      <th>sex</th>\n",
       "      <th>organization_name</th>\n",
       "      <th>organization_city</th>\n",
       "      <th>organization_country</th>\n",
       "      <th>death_date</th>\n",
       "      <th>death_city</th>\n",
       "      <th>death_country</th>\n",
       "    </tr>\n",
       "  </thead>\n",
       "  <tbody>\n",
       "    <tr>\n",
       "      <th>24</th>\n",
       "      <td>1904</td>\n",
       "      <td>Peace</td>\n",
       "      <td>The Nobel Peace Prize 1904</td>\n",
       "      <td>NaN</td>\n",
       "      <td>1/1</td>\n",
       "      <td>467</td>\n",
       "      <td>Organization</td>\n",
       "      <td>Institut de droit international (Institute of ...</td>\n",
       "      <td>NaN</td>\n",
       "      <td>NaN</td>\n",
       "      <td>NaN</td>\n",
       "      <td>NaN</td>\n",
       "      <td>NaN</td>\n",
       "      <td>NaN</td>\n",
       "      <td>NaN</td>\n",
       "      <td>NaN</td>\n",
       "      <td>NaN</td>\n",
       "      <td>NaN</td>\n",
       "    </tr>\n",
       "    <tr>\n",
       "      <th>60</th>\n",
       "      <td>1910</td>\n",
       "      <td>Peace</td>\n",
       "      <td>The Nobel Peace Prize 1910</td>\n",
       "      <td>NaN</td>\n",
       "      <td>1/1</td>\n",
       "      <td>477</td>\n",
       "      <td>Organization</td>\n",
       "      <td>Bureau international permanent de la Paix (Per...</td>\n",
       "      <td>NaN</td>\n",
       "      <td>NaN</td>\n",
       "      <td>NaN</td>\n",
       "      <td>NaN</td>\n",
       "      <td>NaN</td>\n",
       "      <td>NaN</td>\n",
       "      <td>NaN</td>\n",
       "      <td>NaN</td>\n",
       "      <td>NaN</td>\n",
       "      <td>NaN</td>\n",
       "    </tr>\n",
       "    <tr>\n",
       "      <th>89</th>\n",
       "      <td>1917</td>\n",
       "      <td>Peace</td>\n",
       "      <td>The Nobel Peace Prize 1917</td>\n",
       "      <td>NaN</td>\n",
       "      <td>1/1</td>\n",
       "      <td>482</td>\n",
       "      <td>Organization</td>\n",
       "      <td>Comité international de la Croix Rouge (Intern...</td>\n",
       "      <td>NaN</td>\n",
       "      <td>NaN</td>\n",
       "      <td>NaN</td>\n",
       "      <td>NaN</td>\n",
       "      <td>NaN</td>\n",
       "      <td>NaN</td>\n",
       "      <td>NaN</td>\n",
       "      <td>NaN</td>\n",
       "      <td>NaN</td>\n",
       "      <td>NaN</td>\n",
       "    </tr>\n",
       "    <tr>\n",
       "      <th>200</th>\n",
       "      <td>1938</td>\n",
       "      <td>Peace</td>\n",
       "      <td>The Nobel Peace Prize 1938</td>\n",
       "      <td>NaN</td>\n",
       "      <td>1/1</td>\n",
       "      <td>503</td>\n",
       "      <td>Organization</td>\n",
       "      <td>Office international Nansen pour les Réfugiés ...</td>\n",
       "      <td>NaN</td>\n",
       "      <td>NaN</td>\n",
       "      <td>NaN</td>\n",
       "      <td>NaN</td>\n",
       "      <td>NaN</td>\n",
       "      <td>NaN</td>\n",
       "      <td>NaN</td>\n",
       "      <td>NaN</td>\n",
       "      <td>NaN</td>\n",
       "      <td>NaN</td>\n",
       "    </tr>\n",
       "    <tr>\n",
       "      <th>215</th>\n",
       "      <td>1944</td>\n",
       "      <td>Peace</td>\n",
       "      <td>The Nobel Peace Prize 1944</td>\n",
       "      <td>NaN</td>\n",
       "      <td>1/1</td>\n",
       "      <td>482</td>\n",
       "      <td>Organization</td>\n",
       "      <td>Comité international de la Croix Rouge (Intern...</td>\n",
       "      <td>NaN</td>\n",
       "      <td>NaN</td>\n",
       "      <td>NaN</td>\n",
       "      <td>NaN</td>\n",
       "      <td>NaN</td>\n",
       "      <td>NaN</td>\n",
       "      <td>NaN</td>\n",
       "      <td>NaN</td>\n",
       "      <td>NaN</td>\n",
       "      <td>NaN</td>\n",
       "    </tr>\n",
       "    <tr>\n",
       "      <th>237</th>\n",
       "      <td>1947</td>\n",
       "      <td>Peace</td>\n",
       "      <td>The Nobel Peace Prize 1947</td>\n",
       "      <td>NaN</td>\n",
       "      <td>1/2</td>\n",
       "      <td>508</td>\n",
       "      <td>Organization</td>\n",
       "      <td>Friends Service Council (The Quakers)</td>\n",
       "      <td>NaN</td>\n",
       "      <td>NaN</td>\n",
       "      <td>NaN</td>\n",
       "      <td>NaN</td>\n",
       "      <td>NaN</td>\n",
       "      <td>NaN</td>\n",
       "      <td>NaN</td>\n",
       "      <td>NaN</td>\n",
       "      <td>NaN</td>\n",
       "      <td>NaN</td>\n",
       "    </tr>\n",
       "    <tr>\n",
       "      <th>238</th>\n",
       "      <td>1947</td>\n",
       "      <td>Peace</td>\n",
       "      <td>The Nobel Peace Prize 1947</td>\n",
       "      <td>NaN</td>\n",
       "      <td>1/2</td>\n",
       "      <td>509</td>\n",
       "      <td>Organization</td>\n",
       "      <td>American Friends Service Committee (The Quakers)</td>\n",
       "      <td>NaN</td>\n",
       "      <td>NaN</td>\n",
       "      <td>NaN</td>\n",
       "      <td>NaN</td>\n",
       "      <td>NaN</td>\n",
       "      <td>NaN</td>\n",
       "      <td>NaN</td>\n",
       "      <td>NaN</td>\n",
       "      <td>NaN</td>\n",
       "      <td>NaN</td>\n",
       "    </tr>\n",
       "    <tr>\n",
       "      <th>283</th>\n",
       "      <td>1954</td>\n",
       "      <td>Peace</td>\n",
       "      <td>The Nobel Peace Prize 1954</td>\n",
       "      <td>NaN</td>\n",
       "      <td>1/1</td>\n",
       "      <td>515</td>\n",
       "      <td>Organization</td>\n",
       "      <td>Office of the United Nations High Commissioner...</td>\n",
       "      <td>NaN</td>\n",
       "      <td>NaN</td>\n",
       "      <td>NaN</td>\n",
       "      <td>NaN</td>\n",
       "      <td>NaN</td>\n",
       "      <td>NaN</td>\n",
       "      <td>NaN</td>\n",
       "      <td>NaN</td>\n",
       "      <td>NaN</td>\n",
       "      <td>NaN</td>\n",
       "    </tr>\n",
       "    <tr>\n",
       "      <th>348</th>\n",
       "      <td>1963</td>\n",
       "      <td>Peace</td>\n",
       "      <td>The Nobel Peace Prize 1963</td>\n",
       "      <td>NaN</td>\n",
       "      <td>1/2</td>\n",
       "      <td>482</td>\n",
       "      <td>Organization</td>\n",
       "      <td>Comité international de la Croix Rouge (Intern...</td>\n",
       "      <td>NaN</td>\n",
       "      <td>NaN</td>\n",
       "      <td>NaN</td>\n",
       "      <td>NaN</td>\n",
       "      <td>NaN</td>\n",
       "      <td>NaN</td>\n",
       "      <td>NaN</td>\n",
       "      <td>NaN</td>\n",
       "      <td>NaN</td>\n",
       "      <td>NaN</td>\n",
       "    </tr>\n",
       "    <tr>\n",
       "      <th>349</th>\n",
       "      <td>1963</td>\n",
       "      <td>Peace</td>\n",
       "      <td>The Nobel Peace Prize 1963</td>\n",
       "      <td>NaN</td>\n",
       "      <td>1/2</td>\n",
       "      <td>523</td>\n",
       "      <td>Organization</td>\n",
       "      <td>Ligue des Sociétés de la Croix-Rouge (League o...</td>\n",
       "      <td>NaN</td>\n",
       "      <td>NaN</td>\n",
       "      <td>NaN</td>\n",
       "      <td>NaN</td>\n",
       "      <td>NaN</td>\n",
       "      <td>NaN</td>\n",
       "      <td>NaN</td>\n",
       "      <td>NaN</td>\n",
       "      <td>NaN</td>\n",
       "      <td>NaN</td>\n",
       "    </tr>\n",
       "    <tr>\n",
       "      <th>366</th>\n",
       "      <td>1965</td>\n",
       "      <td>Peace</td>\n",
       "      <td>The Nobel Peace Prize 1965</td>\n",
       "      <td>NaN</td>\n",
       "      <td>1/1</td>\n",
       "      <td>525</td>\n",
       "      <td>Organization</td>\n",
       "      <td>United Nations Children's Fund (UNICEF)</td>\n",
       "      <td>NaN</td>\n",
       "      <td>NaN</td>\n",
       "      <td>NaN</td>\n",
       "      <td>NaN</td>\n",
       "      <td>NaN</td>\n",
       "      <td>NaN</td>\n",
       "      <td>NaN</td>\n",
       "      <td>NaN</td>\n",
       "      <td>NaN</td>\n",
       "      <td>NaN</td>\n",
       "    </tr>\n",
       "    <tr>\n",
       "      <th>399</th>\n",
       "      <td>1969</td>\n",
       "      <td>Peace</td>\n",
       "      <td>The Nobel Peace Prize 1969</td>\n",
       "      <td>NaN</td>\n",
       "      <td>1/1</td>\n",
       "      <td>527</td>\n",
       "      <td>Organization</td>\n",
       "      <td>International Labour Organization (I.L.O.)</td>\n",
       "      <td>NaN</td>\n",
       "      <td>NaN</td>\n",
       "      <td>NaN</td>\n",
       "      <td>NaN</td>\n",
       "      <td>NaN</td>\n",
       "      <td>NaN</td>\n",
       "      <td>NaN</td>\n",
       "      <td>NaN</td>\n",
       "      <td>NaN</td>\n",
       "      <td>NaN</td>\n",
       "    </tr>\n",
       "    <tr>\n",
       "      <th>479</th>\n",
       "      <td>1977</td>\n",
       "      <td>Peace</td>\n",
       "      <td>The Nobel Peace Prize 1977</td>\n",
       "      <td>NaN</td>\n",
       "      <td>1/1</td>\n",
       "      <td>537</td>\n",
       "      <td>Organization</td>\n",
       "      <td>Amnesty International</td>\n",
       "      <td>NaN</td>\n",
       "      <td>NaN</td>\n",
       "      <td>NaN</td>\n",
       "      <td>NaN</td>\n",
       "      <td>NaN</td>\n",
       "      <td>NaN</td>\n",
       "      <td>NaN</td>\n",
       "      <td>NaN</td>\n",
       "      <td>NaN</td>\n",
       "      <td>NaN</td>\n",
       "    </tr>\n",
       "    <tr>\n",
       "      <th>523</th>\n",
       "      <td>1981</td>\n",
       "      <td>Peace</td>\n",
       "      <td>The Nobel Peace Prize 1981</td>\n",
       "      <td>NaN</td>\n",
       "      <td>1/1</td>\n",
       "      <td>515</td>\n",
       "      <td>Organization</td>\n",
       "      <td>Office of the United Nations High Commissioner...</td>\n",
       "      <td>NaN</td>\n",
       "      <td>NaN</td>\n",
       "      <td>NaN</td>\n",
       "      <td>NaN</td>\n",
       "      <td>NaN</td>\n",
       "      <td>NaN</td>\n",
       "      <td>NaN</td>\n",
       "      <td>NaN</td>\n",
       "      <td>NaN</td>\n",
       "      <td>NaN</td>\n",
       "    </tr>\n",
       "    <tr>\n",
       "      <th>558</th>\n",
       "      <td>1985</td>\n",
       "      <td>Peace</td>\n",
       "      <td>The Nobel Peace Prize 1985</td>\n",
       "      <td>NaN</td>\n",
       "      <td>1/1</td>\n",
       "      <td>547</td>\n",
       "      <td>Organization</td>\n",
       "      <td>International Physicians for the Prevention of...</td>\n",
       "      <td>NaN</td>\n",
       "      <td>NaN</td>\n",
       "      <td>NaN</td>\n",
       "      <td>NaN</td>\n",
       "      <td>NaN</td>\n",
       "      <td>NaN</td>\n",
       "      <td>NaN</td>\n",
       "      <td>NaN</td>\n",
       "      <td>NaN</td>\n",
       "      <td>NaN</td>\n",
       "    </tr>\n",
       "    <tr>\n",
       "      <th>588</th>\n",
       "      <td>1988</td>\n",
       "      <td>Peace</td>\n",
       "      <td>The Nobel Peace Prize 1988</td>\n",
       "      <td>NaN</td>\n",
       "      <td>1/1</td>\n",
       "      <td>550</td>\n",
       "      <td>Organization</td>\n",
       "      <td>United Nations Peacekeeping Forces</td>\n",
       "      <td>NaN</td>\n",
       "      <td>NaN</td>\n",
       "      <td>NaN</td>\n",
       "      <td>NaN</td>\n",
       "      <td>NaN</td>\n",
       "      <td>NaN</td>\n",
       "      <td>NaN</td>\n",
       "      <td>NaN</td>\n",
       "      <td>NaN</td>\n",
       "      <td>NaN</td>\n",
       "    </tr>\n",
       "    <tr>\n",
       "      <th>659</th>\n",
       "      <td>1995</td>\n",
       "      <td>Peace</td>\n",
       "      <td>The Nobel Peace Prize 1995</td>\n",
       "      <td>\"for their efforts to diminish the part played...</td>\n",
       "      <td>1/2</td>\n",
       "      <td>561</td>\n",
       "      <td>Organization</td>\n",
       "      <td>Pugwash Conferences on Science and World Affairs</td>\n",
       "      <td>NaN</td>\n",
       "      <td>NaN</td>\n",
       "      <td>NaN</td>\n",
       "      <td>NaN</td>\n",
       "      <td>NaN</td>\n",
       "      <td>NaN</td>\n",
       "      <td>NaN</td>\n",
       "      <td>NaN</td>\n",
       "      <td>NaN</td>\n",
       "      <td>NaN</td>\n",
       "    </tr>\n",
       "    <tr>\n",
       "      <th>682</th>\n",
       "      <td>1997</td>\n",
       "      <td>Peace</td>\n",
       "      <td>The Nobel Peace Prize 1997</td>\n",
       "      <td>\"for their work for the banning and clearing o...</td>\n",
       "      <td>1/2</td>\n",
       "      <td>564</td>\n",
       "      <td>Organization</td>\n",
       "      <td>International Campaign to Ban Landmines (ICBL)</td>\n",
       "      <td>NaN</td>\n",
       "      <td>NaN</td>\n",
       "      <td>NaN</td>\n",
       "      <td>NaN</td>\n",
       "      <td>NaN</td>\n",
       "      <td>NaN</td>\n",
       "      <td>NaN</td>\n",
       "      <td>NaN</td>\n",
       "      <td>NaN</td>\n",
       "      <td>NaN</td>\n",
       "    </tr>\n",
       "    <tr>\n",
       "      <th>703</th>\n",
       "      <td>1999</td>\n",
       "      <td>Peace</td>\n",
       "      <td>The Nobel Peace Prize 1999</td>\n",
       "      <td>\"in recognition of the organization's pioneeri...</td>\n",
       "      <td>1/1</td>\n",
       "      <td>568</td>\n",
       "      <td>Organization</td>\n",
       "      <td>Médecins Sans Frontières</td>\n",
       "      <td>NaN</td>\n",
       "      <td>NaN</td>\n",
       "      <td>NaN</td>\n",
       "      <td>NaN</td>\n",
       "      <td>NaN</td>\n",
       "      <td>NaN</td>\n",
       "      <td>NaN</td>\n",
       "      <td>NaN</td>\n",
       "      <td>NaN</td>\n",
       "      <td>NaN</td>\n",
       "    </tr>\n",
       "    <tr>\n",
       "      <th>729</th>\n",
       "      <td>2001</td>\n",
       "      <td>Peace</td>\n",
       "      <td>The Nobel Peace Prize 2001</td>\n",
       "      <td>\"for their work for a better organized and mor...</td>\n",
       "      <td>1/2</td>\n",
       "      <td>748</td>\n",
       "      <td>Organization</td>\n",
       "      <td>United Nations (U.N.)</td>\n",
       "      <td>NaN</td>\n",
       "      <td>NaN</td>\n",
       "      <td>NaN</td>\n",
       "      <td>NaN</td>\n",
       "      <td>NaN</td>\n",
       "      <td>NaN</td>\n",
       "      <td>NaN</td>\n",
       "      <td>NaN</td>\n",
       "      <td>NaN</td>\n",
       "      <td>NaN</td>\n",
       "    </tr>\n",
       "    <tr>\n",
       "      <th>778</th>\n",
       "      <td>2005</td>\n",
       "      <td>Peace</td>\n",
       "      <td>The Nobel Peace Prize 2005</td>\n",
       "      <td>\"for their efforts to prevent nuclear energy f...</td>\n",
       "      <td>1/2</td>\n",
       "      <td>797</td>\n",
       "      <td>Organization</td>\n",
       "      <td>International Atomic Energy Agency (IAEA)</td>\n",
       "      <td>NaN</td>\n",
       "      <td>NaN</td>\n",
       "      <td>NaN</td>\n",
       "      <td>NaN</td>\n",
       "      <td>NaN</td>\n",
       "      <td>NaN</td>\n",
       "      <td>NaN</td>\n",
       "      <td>NaN</td>\n",
       "      <td>NaN</td>\n",
       "      <td>NaN</td>\n",
       "    </tr>\n",
       "    <tr>\n",
       "      <th>789</th>\n",
       "      <td>2006</td>\n",
       "      <td>Peace</td>\n",
       "      <td>The Nobel Peace Prize 2006</td>\n",
       "      <td>\"for their efforts to create economic and soci...</td>\n",
       "      <td>1/2</td>\n",
       "      <td>810</td>\n",
       "      <td>Organization</td>\n",
       "      <td>Grameen Bank</td>\n",
       "      <td>NaN</td>\n",
       "      <td>NaN</td>\n",
       "      <td>NaN</td>\n",
       "      <td>NaN</td>\n",
       "      <td>NaN</td>\n",
       "      <td>NaN</td>\n",
       "      <td>NaN</td>\n",
       "      <td>NaN</td>\n",
       "      <td>NaN</td>\n",
       "      <td>NaN</td>\n",
       "    </tr>\n",
       "    <tr>\n",
       "      <th>800</th>\n",
       "      <td>2007</td>\n",
       "      <td>Peace</td>\n",
       "      <td>The Nobel Peace Prize 2007</td>\n",
       "      <td>\"for their efforts to build up and disseminate...</td>\n",
       "      <td>1/2</td>\n",
       "      <td>818</td>\n",
       "      <td>Organization</td>\n",
       "      <td>Intergovernmental Panel on Climate Change (IPCC)</td>\n",
       "      <td>NaN</td>\n",
       "      <td>NaN</td>\n",
       "      <td>NaN</td>\n",
       "      <td>NaN</td>\n",
       "      <td>NaN</td>\n",
       "      <td>NaN</td>\n",
       "      <td>NaN</td>\n",
       "      <td>NaN</td>\n",
       "      <td>NaN</td>\n",
       "      <td>NaN</td>\n",
       "    </tr>\n",
       "    <tr>\n",
       "      <th>860</th>\n",
       "      <td>2012</td>\n",
       "      <td>Peace</td>\n",
       "      <td>The Nobel Peace Prize 2012</td>\n",
       "      <td>\"for over six decades contributed to the advan...</td>\n",
       "      <td>1/1</td>\n",
       "      <td>881</td>\n",
       "      <td>Organization</td>\n",
       "      <td>European Union (EU)</td>\n",
       "      <td>NaN</td>\n",
       "      <td>NaN</td>\n",
       "      <td>NaN</td>\n",
       "      <td>NaN</td>\n",
       "      <td>NaN</td>\n",
       "      <td>NaN</td>\n",
       "      <td>NaN</td>\n",
       "      <td>NaN</td>\n",
       "      <td>NaN</td>\n",
       "      <td>NaN</td>\n",
       "    </tr>\n",
       "    <tr>\n",
       "      <th>873</th>\n",
       "      <td>2013</td>\n",
       "      <td>Peace</td>\n",
       "      <td>The Nobel Peace Prize 2013</td>\n",
       "      <td>\"for its extensive efforts to eliminate chemic...</td>\n",
       "      <td>1/1</td>\n",
       "      <td>893</td>\n",
       "      <td>Organization</td>\n",
       "      <td>Organisation for the Prohibition of Chemical W...</td>\n",
       "      <td>NaN</td>\n",
       "      <td>NaN</td>\n",
       "      <td>NaN</td>\n",
       "      <td>NaN</td>\n",
       "      <td>NaN</td>\n",
       "      <td>NaN</td>\n",
       "      <td>NaN</td>\n",
       "      <td>NaN</td>\n",
       "      <td>NaN</td>\n",
       "      <td>NaN</td>\n",
       "    </tr>\n",
       "    <tr>\n",
       "      <th>897</th>\n",
       "      <td>2015</td>\n",
       "      <td>Peace</td>\n",
       "      <td>The Nobel Peace Prize 2015</td>\n",
       "      <td>\"for its decisive contribution to the building...</td>\n",
       "      <td>1/1</td>\n",
       "      <td>925</td>\n",
       "      <td>Organization</td>\n",
       "      <td>National Dialogue Quartet</td>\n",
       "      <td>NaN</td>\n",
       "      <td>NaN</td>\n",
       "      <td>NaN</td>\n",
       "      <td>NaN</td>\n",
       "      <td>NaN</td>\n",
       "      <td>NaN</td>\n",
       "      <td>NaN</td>\n",
       "      <td>NaN</td>\n",
       "      <td>NaN</td>\n",
       "      <td>NaN</td>\n",
       "    </tr>\n",
       "    <tr>\n",
       "      <th>921</th>\n",
       "      <td>2017</td>\n",
       "      <td>Peace</td>\n",
       "      <td>The Nobel Peace Prize 2017</td>\n",
       "      <td>\"for its work to draw attention to the catastr...</td>\n",
       "      <td>1/1</td>\n",
       "      <td>948</td>\n",
       "      <td>Organization</td>\n",
       "      <td>International Campaign to Abolish Nuclear Weapons</td>\n",
       "      <td>NaN</td>\n",
       "      <td>NaN</td>\n",
       "      <td>NaN</td>\n",
       "      <td>NaN</td>\n",
       "      <td>NaN</td>\n",
       "      <td>NaN</td>\n",
       "      <td>NaN</td>\n",
       "      <td>NaN</td>\n",
       "      <td>NaN</td>\n",
       "      <td>NaN</td>\n",
       "    </tr>\n",
       "    <tr>\n",
       "      <th>959</th>\n",
       "      <td>2020</td>\n",
       "      <td>Peace</td>\n",
       "      <td>The Nobel Peace Prize 2020</td>\n",
       "      <td>\"for its efforts to combat hunger for its cont...</td>\n",
       "      <td>1/1</td>\n",
       "      <td>994</td>\n",
       "      <td>Organization</td>\n",
       "      <td>World Food Programme</td>\n",
       "      <td>NaN</td>\n",
       "      <td>NaN</td>\n",
       "      <td>NaN</td>\n",
       "      <td>NaN</td>\n",
       "      <td>NaN</td>\n",
       "      <td>NaN</td>\n",
       "      <td>NaN</td>\n",
       "      <td>NaN</td>\n",
       "      <td>NaN</td>\n",
       "      <td>NaN</td>\n",
       "    </tr>\n",
       "    <tr>\n",
       "      <th>984</th>\n",
       "      <td>2022</td>\n",
       "      <td>Peace</td>\n",
       "      <td>The Nobel Peace Prize 2022</td>\n",
       "      <td>\"The Peace Prize laureates represent civil soc...</td>\n",
       "      <td>1/3</td>\n",
       "      <td>1019</td>\n",
       "      <td>Organization</td>\n",
       "      <td>Memorial</td>\n",
       "      <td>NaN</td>\n",
       "      <td>NaN</td>\n",
       "      <td>NaN</td>\n",
       "      <td>NaN</td>\n",
       "      <td>NaN</td>\n",
       "      <td>NaN</td>\n",
       "      <td>NaN</td>\n",
       "      <td>NaN</td>\n",
       "      <td>NaN</td>\n",
       "      <td>NaN</td>\n",
       "    </tr>\n",
       "    <tr>\n",
       "      <th>985</th>\n",
       "      <td>2022</td>\n",
       "      <td>Peace</td>\n",
       "      <td>The Nobel Peace Prize 2022</td>\n",
       "      <td>\"The Peace Prize laureates represent civil soc...</td>\n",
       "      <td>1/3</td>\n",
       "      <td>1020</td>\n",
       "      <td>Organization</td>\n",
       "      <td>Center for Civil Liberties</td>\n",
       "      <td>NaN</td>\n",
       "      <td>NaN</td>\n",
       "      <td>NaN</td>\n",
       "      <td>NaN</td>\n",
       "      <td>NaN</td>\n",
       "      <td>NaN</td>\n",
       "      <td>NaN</td>\n",
       "      <td>NaN</td>\n",
       "      <td>NaN</td>\n",
       "      <td>NaN</td>\n",
       "    </tr>\n",
       "  </tbody>\n",
       "</table>\n",
       "</div>"
      ],
      "text/plain": [
       "     year category                       prize  \\\n",
       "24   1904    Peace  The Nobel Peace Prize 1904   \n",
       "60   1910    Peace  The Nobel Peace Prize 1910   \n",
       "89   1917    Peace  The Nobel Peace Prize 1917   \n",
       "200  1938    Peace  The Nobel Peace Prize 1938   \n",
       "215  1944    Peace  The Nobel Peace Prize 1944   \n",
       "237  1947    Peace  The Nobel Peace Prize 1947   \n",
       "238  1947    Peace  The Nobel Peace Prize 1947   \n",
       "283  1954    Peace  The Nobel Peace Prize 1954   \n",
       "348  1963    Peace  The Nobel Peace Prize 1963   \n",
       "349  1963    Peace  The Nobel Peace Prize 1963   \n",
       "366  1965    Peace  The Nobel Peace Prize 1965   \n",
       "399  1969    Peace  The Nobel Peace Prize 1969   \n",
       "479  1977    Peace  The Nobel Peace Prize 1977   \n",
       "523  1981    Peace  The Nobel Peace Prize 1981   \n",
       "558  1985    Peace  The Nobel Peace Prize 1985   \n",
       "588  1988    Peace  The Nobel Peace Prize 1988   \n",
       "659  1995    Peace  The Nobel Peace Prize 1995   \n",
       "682  1997    Peace  The Nobel Peace Prize 1997   \n",
       "703  1999    Peace  The Nobel Peace Prize 1999   \n",
       "729  2001    Peace  The Nobel Peace Prize 2001   \n",
       "778  2005    Peace  The Nobel Peace Prize 2005   \n",
       "789  2006    Peace  The Nobel Peace Prize 2006   \n",
       "800  2007    Peace  The Nobel Peace Prize 2007   \n",
       "860  2012    Peace  The Nobel Peace Prize 2012   \n",
       "873  2013    Peace  The Nobel Peace Prize 2013   \n",
       "897  2015    Peace  The Nobel Peace Prize 2015   \n",
       "921  2017    Peace  The Nobel Peace Prize 2017   \n",
       "959  2020    Peace  The Nobel Peace Prize 2020   \n",
       "984  2022    Peace  The Nobel Peace Prize 2022   \n",
       "985  2022    Peace  The Nobel Peace Prize 2022   \n",
       "\n",
       "                                            motivation prize_share  \\\n",
       "24                                                 NaN         1/1   \n",
       "60                                                 NaN         1/1   \n",
       "89                                                 NaN         1/1   \n",
       "200                                                NaN         1/1   \n",
       "215                                                NaN         1/1   \n",
       "237                                                NaN         1/2   \n",
       "238                                                NaN         1/2   \n",
       "283                                                NaN         1/1   \n",
       "348                                                NaN         1/2   \n",
       "349                                                NaN         1/2   \n",
       "366                                                NaN         1/1   \n",
       "399                                                NaN         1/1   \n",
       "479                                                NaN         1/1   \n",
       "523                                                NaN         1/1   \n",
       "558                                                NaN         1/1   \n",
       "588                                                NaN         1/1   \n",
       "659  \"for their efforts to diminish the part played...         1/2   \n",
       "682  \"for their work for the banning and clearing o...         1/2   \n",
       "703  \"in recognition of the organization's pioneeri...         1/1   \n",
       "729  \"for their work for a better organized and mor...         1/2   \n",
       "778  \"for their efforts to prevent nuclear energy f...         1/2   \n",
       "789  \"for their efforts to create economic and soci...         1/2   \n",
       "800  \"for their efforts to build up and disseminate...         1/2   \n",
       "860  \"for over six decades contributed to the advan...         1/1   \n",
       "873  \"for its extensive efforts to eliminate chemic...         1/1   \n",
       "897  \"for its decisive contribution to the building...         1/1   \n",
       "921  \"for its work to draw attention to the catastr...         1/1   \n",
       "959  \"for its efforts to combat hunger for its cont...         1/1   \n",
       "984  \"The Peace Prize laureates represent civil soc...         1/3   \n",
       "985  \"The Peace Prize laureates represent civil soc...         1/3   \n",
       "\n",
       "     laureate_id laureate_type  \\\n",
       "24           467  Organization   \n",
       "60           477  Organization   \n",
       "89           482  Organization   \n",
       "200          503  Organization   \n",
       "215          482  Organization   \n",
       "237          508  Organization   \n",
       "238          509  Organization   \n",
       "283          515  Organization   \n",
       "348          482  Organization   \n",
       "349          523  Organization   \n",
       "366          525  Organization   \n",
       "399          527  Organization   \n",
       "479          537  Organization   \n",
       "523          515  Organization   \n",
       "558          547  Organization   \n",
       "588          550  Organization   \n",
       "659          561  Organization   \n",
       "682          564  Organization   \n",
       "703          568  Organization   \n",
       "729          748  Organization   \n",
       "778          797  Organization   \n",
       "789          810  Organization   \n",
       "800          818  Organization   \n",
       "860          881  Organization   \n",
       "873          893  Organization   \n",
       "897          925  Organization   \n",
       "921          948  Organization   \n",
       "959          994  Organization   \n",
       "984         1019  Organization   \n",
       "985         1020  Organization   \n",
       "\n",
       "                                             full_name birth_date birth_city  \\\n",
       "24   Institut de droit international (Institute of ...        NaN        NaN   \n",
       "60   Bureau international permanent de la Paix (Per...        NaN        NaN   \n",
       "89   Comité international de la Croix Rouge (Intern...        NaN        NaN   \n",
       "200  Office international Nansen pour les Réfugiés ...        NaN        NaN   \n",
       "215  Comité international de la Croix Rouge (Intern...        NaN        NaN   \n",
       "237              Friends Service Council (The Quakers)        NaN        NaN   \n",
       "238   American Friends Service Committee (The Quakers)        NaN        NaN   \n",
       "283  Office of the United Nations High Commissioner...        NaN        NaN   \n",
       "348  Comité international de la Croix Rouge (Intern...        NaN        NaN   \n",
       "349  Ligue des Sociétés de la Croix-Rouge (League o...        NaN        NaN   \n",
       "366            United Nations Children's Fund (UNICEF)        NaN        NaN   \n",
       "399         International Labour Organization (I.L.O.)        NaN        NaN   \n",
       "479                              Amnesty International        NaN        NaN   \n",
       "523  Office of the United Nations High Commissioner...        NaN        NaN   \n",
       "558  International Physicians for the Prevention of...        NaN        NaN   \n",
       "588                 United Nations Peacekeeping Forces        NaN        NaN   \n",
       "659   Pugwash Conferences on Science and World Affairs        NaN        NaN   \n",
       "682     International Campaign to Ban Landmines (ICBL)        NaN        NaN   \n",
       "703                           Médecins Sans Frontières        NaN        NaN   \n",
       "729                              United Nations (U.N.)        NaN        NaN   \n",
       "778          International Atomic Energy Agency (IAEA)        NaN        NaN   \n",
       "789                                       Grameen Bank        NaN        NaN   \n",
       "800   Intergovernmental Panel on Climate Change (IPCC)        NaN        NaN   \n",
       "860                                European Union (EU)        NaN        NaN   \n",
       "873  Organisation for the Prohibition of Chemical W...        NaN        NaN   \n",
       "897                          National Dialogue Quartet        NaN        NaN   \n",
       "921  International Campaign to Abolish Nuclear Weapons        NaN        NaN   \n",
       "959                               World Food Programme        NaN        NaN   \n",
       "984                                           Memorial        NaN        NaN   \n",
       "985                         Center for Civil Liberties        NaN        NaN   \n",
       "\n",
       "    birth_country  sex organization_name organization_city  \\\n",
       "24            NaN  NaN               NaN               NaN   \n",
       "60            NaN  NaN               NaN               NaN   \n",
       "89            NaN  NaN               NaN               NaN   \n",
       "200           NaN  NaN               NaN               NaN   \n",
       "215           NaN  NaN               NaN               NaN   \n",
       "237           NaN  NaN               NaN               NaN   \n",
       "238           NaN  NaN               NaN               NaN   \n",
       "283           NaN  NaN               NaN               NaN   \n",
       "348           NaN  NaN               NaN               NaN   \n",
       "349           NaN  NaN               NaN               NaN   \n",
       "366           NaN  NaN               NaN               NaN   \n",
       "399           NaN  NaN               NaN               NaN   \n",
       "479           NaN  NaN               NaN               NaN   \n",
       "523           NaN  NaN               NaN               NaN   \n",
       "558           NaN  NaN               NaN               NaN   \n",
       "588           NaN  NaN               NaN               NaN   \n",
       "659           NaN  NaN               NaN               NaN   \n",
       "682           NaN  NaN               NaN               NaN   \n",
       "703           NaN  NaN               NaN               NaN   \n",
       "729           NaN  NaN               NaN               NaN   \n",
       "778           NaN  NaN               NaN               NaN   \n",
       "789           NaN  NaN               NaN               NaN   \n",
       "800           NaN  NaN               NaN               NaN   \n",
       "860           NaN  NaN               NaN               NaN   \n",
       "873           NaN  NaN               NaN               NaN   \n",
       "897           NaN  NaN               NaN               NaN   \n",
       "921           NaN  NaN               NaN               NaN   \n",
       "959           NaN  NaN               NaN               NaN   \n",
       "984           NaN  NaN               NaN               NaN   \n",
       "985           NaN  NaN               NaN               NaN   \n",
       "\n",
       "    organization_country death_date death_city death_country  \n",
       "24                   NaN        NaN        NaN           NaN  \n",
       "60                   NaN        NaN        NaN           NaN  \n",
       "89                   NaN        NaN        NaN           NaN  \n",
       "200                  NaN        NaN        NaN           NaN  \n",
       "215                  NaN        NaN        NaN           NaN  \n",
       "237                  NaN        NaN        NaN           NaN  \n",
       "238                  NaN        NaN        NaN           NaN  \n",
       "283                  NaN        NaN        NaN           NaN  \n",
       "348                  NaN        NaN        NaN           NaN  \n",
       "349                  NaN        NaN        NaN           NaN  \n",
       "366                  NaN        NaN        NaN           NaN  \n",
       "399                  NaN        NaN        NaN           NaN  \n",
       "479                  NaN        NaN        NaN           NaN  \n",
       "523                  NaN        NaN        NaN           NaN  \n",
       "558                  NaN        NaN        NaN           NaN  \n",
       "588                  NaN        NaN        NaN           NaN  \n",
       "659                  NaN        NaN        NaN           NaN  \n",
       "682                  NaN        NaN        NaN           NaN  \n",
       "703                  NaN        NaN        NaN           NaN  \n",
       "729                  NaN        NaN        NaN           NaN  \n",
       "778                  NaN        NaN        NaN           NaN  \n",
       "789                  NaN        NaN        NaN           NaN  \n",
       "800                  NaN        NaN        NaN           NaN  \n",
       "860                  NaN        NaN        NaN           NaN  \n",
       "873                  NaN        NaN        NaN           NaN  \n",
       "897                  NaN        NaN        NaN           NaN  \n",
       "921                  NaN        NaN        NaN           NaN  \n",
       "959                  NaN        NaN        NaN           NaN  \n",
       "984                  NaN        NaN        NaN           NaN  \n",
       "985                  NaN        NaN        NaN           NaN  "
      ]
     },
     "execution_count": 17,
     "metadata": {},
     "output_type": "execute_result"
    }
   ],
   "source": [
    "df[pd.isna(df['sex'])]"
   ]
  },
  {
   "cell_type": "markdown",
   "id": "dfa766cf-c045-4fc0-91c4-1a3a6cfe5dd3",
   "metadata": {},
   "source": [
    "We observe that the NaN values for the 'sex' column correspond to organizations or associations, indicating that these entries are not errors in the data."
   ]
  },
  {
   "cell_type": "code",
   "execution_count": 11,
   "id": "cb105806-8173-4f18-8477-a3bcee3583e8",
   "metadata": {},
   "outputs": [],
   "source": [
    "female_laureates = df[df[\"sex\"] == \"Female\" ]"
   ]
  },
  {
   "cell_type": "code",
   "execution_count": 12,
   "id": "555d3b86-1a7b-4663-963e-9c265007a555",
   "metadata": {},
   "outputs": [
    {
     "data": {
      "text/plain": [
       "(65, 18)"
      ]
     },
     "execution_count": 12,
     "metadata": {},
     "output_type": "execute_result"
    }
   ],
   "source": [
    "female_laureates.shape"
   ]
  },
  {
   "cell_type": "markdown",
   "id": "c617f874-4cfd-448a-8421-15bd4f96bcfc",
   "metadata": {},
   "source": [
    "We can observe that there are 65 female laureates in the dataset"
   ]
  },
  {
   "cell_type": "code",
   "execution_count": 18,
   "id": "9a33f0d4-1b01-4905-b754-7c608f318d18",
   "metadata": {},
   "outputs": [
    {
     "data": {
      "text/plain": [
       "dtype('O')"
      ]
     },
     "execution_count": 18,
     "metadata": {},
     "output_type": "execute_result"
    }
   ],
   "source": [
    "female_laureates[\"birth_date\"].dtype"
   ]
  },
  {
   "cell_type": "markdown",
   "id": "7a32db40-d401-438c-ab3b-800b0f082698",
   "metadata": {},
   "source": [
    "We need to convert the data type of the relevant columns to a date format. To achieve this, we will utilize the functions we created for Question 2.\n",
    "\n",
    "After the conversion, we will conduct a similar analysis to determine the minimum and maximum values, and subsequently create decade columns for further categorization."
   ]
  },
  {
   "cell_type": "code",
   "execution_count": 21,
   "id": "02807190-d595-4bff-adf0-fc5f750eeb09",
   "metadata": {},
   "outputs": [
    {
     "name": "stderr",
     "output_type": "stream",
     "text": [
      "/var/folders/lz/zsz00k2n3pbflxxlfqttyt500000gn/T/ipykernel_4910/3504778239.py:1: SettingWithCopyWarning: \n",
      "A value is trying to be set on a copy of a slice from a DataFrame.\n",
      "Try using .loc[row_indexer,col_indexer] = value instead\n",
      "\n",
      "See the caveats in the documentation: https://pandas.pydata.org/pandas-docs/stable/user_guide/indexing.html#returning-a-view-versus-a-copy\n",
      "  female_laureates['birth_date'] = female_laureates['birth_date'].apply(corriger_date)\n"
     ]
    }
   ],
   "source": [
    "female_laureates['birth_date'] = female_laureates['birth_date'].apply(corriger_date)"
   ]
  },
  {
   "cell_type": "code",
   "execution_count": 22,
   "id": "53c2198a-6f49-4fc8-b667-235b5fab63fc",
   "metadata": {},
   "outputs": [
    {
     "name": "stderr",
     "output_type": "stream",
     "text": [
      "/var/folders/lz/zsz00k2n3pbflxxlfqttyt500000gn/T/ipykernel_4910/2935000101.py:1: SettingWithCopyWarning: \n",
      "A value is trying to be set on a copy of a slice from a DataFrame.\n",
      "Try using .loc[row_indexer,col_indexer] = value instead\n",
      "\n",
      "See the caveats in the documentation: https://pandas.pydata.org/pandas-docs/stable/user_guide/indexing.html#returning-a-view-versus-a-copy\n",
      "  female_laureates['birth_date'] = pd.to_datetime(female_laureates['birth_date'])\n"
     ]
    }
   ],
   "source": [
    "female_laureates['birth_date'] = pd.to_datetime(female_laureates['birth_date'])"
   ]
  },
  {
   "cell_type": "code",
   "execution_count": 24,
   "id": "4a561839-ac23-480a-bcd3-fb0f2ba3303e",
   "metadata": {},
   "outputs": [
    {
     "name": "stderr",
     "output_type": "stream",
     "text": [
      "/var/folders/lz/zsz00k2n3pbflxxlfqttyt500000gn/T/ipykernel_4910/2232238568.py:1: SettingWithCopyWarning: \n",
      "A value is trying to be set on a copy of a slice from a DataFrame.\n",
      "Try using .loc[row_indexer,col_indexer] = value instead\n",
      "\n",
      "See the caveats in the documentation: https://pandas.pydata.org/pandas-docs/stable/user_guide/indexing.html#returning-a-view-versus-a-copy\n",
      "  female_laureates['birth_year'] = female_laureates['birth_date'].dt.year\n"
     ]
    }
   ],
   "source": [
    "female_laureates['birth_year'] = female_laureates['birth_date'].dt.year"
   ]
  },
  {
   "cell_type": "code",
   "execution_count": 25,
   "id": "f39f1fb5-ea72-41c9-aaf8-3401d8d8caea",
   "metadata": {},
   "outputs": [
    {
     "data": {
      "text/html": [
       "<div>\n",
       "<style scoped>\n",
       "    .dataframe tbody tr th:only-of-type {\n",
       "        vertical-align: middle;\n",
       "    }\n",
       "\n",
       "    .dataframe tbody tr th {\n",
       "        vertical-align: top;\n",
       "    }\n",
       "\n",
       "    .dataframe thead th {\n",
       "        text-align: right;\n",
       "    }\n",
       "</style>\n",
       "<table border=\"1\" class=\"dataframe\">\n",
       "  <thead>\n",
       "    <tr style=\"text-align: right;\">\n",
       "      <th></th>\n",
       "      <th>year</th>\n",
       "      <th>category</th>\n",
       "      <th>prize</th>\n",
       "      <th>motivation</th>\n",
       "      <th>prize_share</th>\n",
       "      <th>laureate_id</th>\n",
       "      <th>laureate_type</th>\n",
       "      <th>full_name</th>\n",
       "      <th>birth_date</th>\n",
       "      <th>birth_city</th>\n",
       "      <th>birth_country</th>\n",
       "      <th>sex</th>\n",
       "      <th>organization_name</th>\n",
       "      <th>organization_city</th>\n",
       "      <th>organization_country</th>\n",
       "      <th>death_date</th>\n",
       "      <th>death_city</th>\n",
       "      <th>death_country</th>\n",
       "      <th>birth_year</th>\n",
       "    </tr>\n",
       "  </thead>\n",
       "  <tbody>\n",
       "  </tbody>\n",
       "</table>\n",
       "</div>"
      ],
      "text/plain": [
       "Empty DataFrame\n",
       "Columns: [year, category, prize, motivation, prize_share, laureate_id, laureate_type, full_name, birth_date, birth_city, birth_country, sex, organization_name, organization_city, organization_country, death_date, death_city, death_country, birth_year]\n",
       "Index: []"
      ]
     },
     "execution_count": 25,
     "metadata": {},
     "output_type": "execute_result"
    }
   ],
   "source": [
    "female_laureates[female_laureates[\"birth_year\"].isna()]"
   ]
  },
  {
   "cell_type": "code",
   "execution_count": 27,
   "id": "be07df51-4cba-4317-9f41-9d9119ca1e0b",
   "metadata": {},
   "outputs": [
    {
     "data": {
      "text/plain": [
       "1843"
      ]
     },
     "execution_count": 27,
     "metadata": {},
     "output_type": "execute_result"
    }
   ],
   "source": [
    "female_laureates['birth_year'].min()"
   ]
  },
  {
   "cell_type": "code",
   "execution_count": 28,
   "id": "b4433285-0494-4bbf-ba89-ee81887ee3fd",
   "metadata": {},
   "outputs": [
    {
     "data": {
      "text/plain": [
       "1997"
      ]
     },
     "execution_count": 28,
     "metadata": {},
     "output_type": "execute_result"
    }
   ],
   "source": [
    "female_laureates['birth_year'].max()"
   ]
  },
  {
   "cell_type": "code",
   "execution_count": 51,
   "id": "b4017c90-5218-4911-930a-7efaf2fe7345",
   "metadata": {},
   "outputs": [],
   "source": [
    "bins = [1840, 1850, 1860, 1870, 1880, 1890, 1900, 1910, 1920, 1930, 1940, 1950, 1960, 1970, 1980, 1990, 2000, 2010]\n",
    "labels = ['1840-1850','1850-1860', '1860-1870', '1870-1880', '1880-1890', '1890-1900',\n",
    "          '1900-1910', '1910-1920', '1920-1930', '1930-1940', '1940-1950', '1950-1960', '1960-1970', '1970-1980', '1980-1990', '1990-2000', '2000-2010']"
   ]
  },
  {
   "cell_type": "code",
   "execution_count": 52,
   "id": "b0691a48-1559-477f-9044-dba1f83f5824",
   "metadata": {
    "scrolled": true
   },
   "outputs": [
    {
     "name": "stderr",
     "output_type": "stream",
     "text": [
      "/var/folders/lz/zsz00k2n3pbflxxlfqttyt500000gn/T/ipykernel_4910/2990091882.py:1: SettingWithCopyWarning: \n",
      "A value is trying to be set on a copy of a slice from a DataFrame.\n",
      "Try using .loc[row_indexer,col_indexer] = value instead\n",
      "\n",
      "See the caveats in the documentation: https://pandas.pydata.org/pandas-docs/stable/user_guide/indexing.html#returning-a-view-versus-a-copy\n",
      "  female_laureates[\"decade\"] = pd.cut(female_laureates[\"birth_year\"], bins=bins, labels=labels, right=False)\n"
     ]
    }
   ],
   "source": [
    "female_laureates[\"decade\"] = pd.cut(female_laureates[\"birth_year\"], bins=bins, labels=labels, right=False)"
   ]
  },
  {
   "cell_type": "code",
   "execution_count": 55,
   "id": "24d516ef-3bf3-48d0-8904-ab66492f08a7",
   "metadata": {},
   "outputs": [],
   "source": [
    "top_female_decade = female_laureates[\"decade\"].value_counts()"
   ]
  },
  {
   "cell_type": "code",
   "execution_count": 56,
   "id": "e17457f7-07ce-4b20-80ad-59d44377ecdd",
   "metadata": {},
   "outputs": [
    {
     "data": {
      "text/plain": [
       "decade\n",
       "1940-1950    14\n",
       "1960-1970     8\n",
       "1950-1960     7\n",
       "1930-1940     6\n",
       "1860-1870     4\n",
       "1890-1900     4\n",
       "1900-1910     4\n",
       "1910-1920     4\n",
       "1970-1980     4\n",
       "1920-1930     3\n",
       "1990-2000     2\n",
       "1880-1890     2\n",
       "1840-1850     1\n",
       "1850-1860     1\n",
       "1870-1880     1\n",
       "1980-1990     0\n",
       "2000-2010     0\n",
       "Name: count, dtype: int64"
      ]
     },
     "execution_count": 56,
     "metadata": {},
     "output_type": "execute_result"
    }
   ],
   "source": [
    "top_female_decade"
   ]
  },
  {
   "cell_type": "markdown",
   "id": "897dd7ce-b34c-47ef-a5c6-a52b04477dbd",
   "metadata": {},
   "source": [
    "Without plotting the results, we can observe that the decade from 1940 to 1950 has the highest number of Nobel laureates, with a total of 14 awarded during this period.\n",
    "\n",
    "For better visibility of the results, we will nonetheless create a graph to illustrate these findings. "
   ]
  },
  {
   "cell_type": "code",
   "execution_count": 58,
   "id": "9ad89a65-e59f-49b6-857d-01cff550f8c8",
   "metadata": {},
   "outputs": [],
   "source": [
    "top_female_decade = top_female_decade.reset_index()\n",
    "top_female_decade.columns = ['decade', 'counts']  "
   ]
  },
  {
   "cell_type": "code",
   "execution_count": 59,
   "id": "c3df22cc-3277-4ddf-bdc1-8c4d3ce904d5",
   "metadata": {},
   "outputs": [
    {
     "data": {
      "text/plain": [
       "Text(0.5, 1.0, 'Decadal Comparison of Female Nobel Prize Winners')"
      ]
     },
     "execution_count": 59,
     "metadata": {},
     "output_type": "execute_result"
    },
    {
     "data": {
      "image/png": "[encoded data removed]",
      "text/plain": [
       "<Figure size 640x480 with 1 Axes>"
      ]
     },
     "metadata": {},
     "output_type": "display_data"
    }
   ],
   "source": [
    "plt.style.use('grayscale')\n",
    "sns.barplot(data=top_female_decade, x=\"decade\", y=\"counts\")\n",
    "plt.xticks(rotation = 45)\n",
    "plt.xlabel(\"\")\n",
    "plt.title('Decadal Comparison of Female Nobel Prize Winners')\n",
    "\n"
   ]
  },
  {
   "cell_type": "markdown",
   "id": "6fd43805-34ca-4904-a417-60c797c1cf5b",
   "metadata": {},
   "source": [
    "For this question, we aim to identify which combination of Nobel Prize categories has the highest proportion of female laureates, rather than focusing solely on the decade."
   ]
  },
  {
   "cell_type": "code",
   "execution_count": 93,
   "id": "768609f0-a7f0-4398-b974-49d141c2ec06",
   "metadata": {},
   "outputs": [],
   "source": [
    "top_female_combinaison = female_laureates.groupby('category')['decade'].value_counts()"
   ]
  },
  {
   "cell_type": "code",
   "execution_count": 94,
   "id": "a6ecc046-a983-4c65-b66f-748a28e82284",
   "metadata": {},
   "outputs": [],
   "source": [
    "top_female_combinaison_df = top_female_combinaison.reset_index(name='count')"
   ]
  },
  {
   "cell_type": "code",
   "execution_count": 95,
   "id": "33116d43-fa5e-46f2-90e1-50f7c4e3b1bd",
   "metadata": {},
   "outputs": [],
   "source": [
    "top_values = top_female_combinaison_df.loc[top_female_combinaison_df.groupby('category')['count'].idxmax()]"
   ]
  },
  {
   "cell_type": "code",
   "execution_count": 96,
   "id": "422d0229-4fb1-4f7d-9851-17d23ea3b659",
   "metadata": {},
   "outputs": [
    {
     "data": {
      "text/html": [
       "<div>\n",
       "<style scoped>\n",
       "    .dataframe tbody tr th:only-of-type {\n",
       "        vertical-align: middle;\n",
       "    }\n",
       "\n",
       "    .dataframe tbody tr th {\n",
       "        vertical-align: top;\n",
       "    }\n",
       "\n",
       "    .dataframe thead th {\n",
       "        text-align: right;\n",
       "    }\n",
       "</style>\n",
       "<table border=\"1\" class=\"dataframe\">\n",
       "  <thead>\n",
       "    <tr style=\"text-align: right;\">\n",
       "      <th></th>\n",
       "      <th>category</th>\n",
       "      <th>decade</th>\n",
       "      <th>count</th>\n",
       "    </tr>\n",
       "  </thead>\n",
       "  <tbody>\n",
       "    <tr>\n",
       "      <th>0</th>\n",
       "      <td>Chemistry</td>\n",
       "      <td>1960-1970</td>\n",
       "      <td>3</td>\n",
       "    </tr>\n",
       "    <tr>\n",
       "      <th>17</th>\n",
       "      <td>Economics</td>\n",
       "      <td>1930-1940</td>\n",
       "      <td>1</td>\n",
       "    </tr>\n",
       "    <tr>\n",
       "      <th>34</th>\n",
       "      <td>Literature</td>\n",
       "      <td>1940-1950</td>\n",
       "      <td>4</td>\n",
       "    </tr>\n",
       "    <tr>\n",
       "      <th>51</th>\n",
       "      <td>Medicine</td>\n",
       "      <td>1940-1950</td>\n",
       "      <td>4</td>\n",
       "    </tr>\n",
       "    <tr>\n",
       "      <th>68</th>\n",
       "      <td>Peace</td>\n",
       "      <td>1940-1950</td>\n",
       "      <td>5</td>\n",
       "    </tr>\n",
       "    <tr>\n",
       "      <th>85</th>\n",
       "      <td>Physics</td>\n",
       "      <td>1950-1960</td>\n",
       "      <td>2</td>\n",
       "    </tr>\n",
       "  </tbody>\n",
       "</table>\n",
       "</div>"
      ],
      "text/plain": [
       "      category     decade  count\n",
       "0    Chemistry  1960-1970      3\n",
       "17   Economics  1930-1940      1\n",
       "34  Literature  1940-1950      4\n",
       "51    Medicine  1940-1950      4\n",
       "68       Peace  1940-1950      5\n",
       "85     Physics  1950-1960      2"
      ]
     },
     "execution_count": 96,
     "metadata": {},
     "output_type": "execute_result"
    }
   ],
   "source": [
    "top_values"
   ]
  },
  {
   "cell_type": "markdown",
   "id": "c2078c54-b198-40f8-b757-afc44ce439a1",
   "metadata": {},
   "source": [
    "The combination of the decade 1940-1950 and the Peace category had the highest proportion of female Nobel laureates."
   ]
  },
  {
   "cell_type": "markdown",
   "id": "75fb8b46-90dd-48d7-a694-d559742ec3cc",
   "metadata": {},
   "source": [
    "### 4. Who was the first woman to receive a Nobel Prize, and in what category?"
   ]
  },
  {
   "cell_type": "code",
   "execution_count": 98,
   "id": "8a524b38-7209-4a08-9043-26ec45f11db4",
   "metadata": {},
   "outputs": [
    {
     "data": {
      "text/plain": [
       "Index(['year', 'category', 'prize', 'motivation', 'prize_share', 'laureate_id',\n",
       "       'laureate_type', 'full_name', 'birth_date', 'birth_city',\n",
       "       'birth_country', 'sex', 'organization_name', 'organization_city',\n",
       "       'organization_country', 'death_date', 'death_city', 'death_country',\n",
       "       'birth_year', 'decade'],\n",
       "      dtype='object')"
      ]
     },
     "execution_count": 98,
     "metadata": {},
     "output_type": "execute_result"
    }
   ],
   "source": [
    "female_laureates.columns"
   ]
  },
  {
   "cell_type": "code",
   "execution_count": 100,
   "id": "2e1a1d49-9e68-49ec-aa86-8b0a945a6018",
   "metadata": {},
   "outputs": [
    {
     "data": {
      "text/plain": [
       "1903"
      ]
     },
     "execution_count": 100,
     "metadata": {},
     "output_type": "execute_result"
    }
   ],
   "source": [
    "female_laureates['year'].min()"
   ]
  },
  {
   "cell_type": "code",
   "execution_count": 103,
   "id": "1d61acc6-db04-42ba-ac0b-1322a41f6149",
   "metadata": {},
   "outputs": [
    {
     "data": {
      "text/plain": [
       "19    Physics\n",
       "Name: category, dtype: object"
      ]
     },
     "execution_count": 103,
     "metadata": {},
     "output_type": "execute_result"
    }
   ],
   "source": [
    "female_laureates[\"category\"][female_laureates['year'] == 1903]"
   ]
  },
  {
   "cell_type": "code",
   "execution_count": null,
   "id": "32e993a5-1d08-4991-b7e6-cc35d271976d",
   "metadata": {},
   "outputs": [],
   "source": [
    "The first "
   ]
  },
  {
   "cell_type": "code",
   "execution_count": 104,
   "id": "496f823f-ae8f-4c4a-acc6-2f0d84de0b71",
   "metadata": {},
   "outputs": [
    {
     "data": {
      "text/html": [
       "<div>\n",
       "<style scoped>\n",
       "    .dataframe tbody tr th:only-of-type {\n",
       "        vertical-align: middle;\n",
       "    }\n",
       "\n",
       "    .dataframe tbody tr th {\n",
       "        vertical-align: top;\n",
       "    }\n",
       "\n",
       "    .dataframe thead th {\n",
       "        text-align: right;\n",
       "    }\n",
       "</style>\n",
       "<table border=\"1\" class=\"dataframe\">\n",
       "  <thead>\n",
       "    <tr style=\"text-align: right;\">\n",
       "      <th></th>\n",
       "      <th>year</th>\n",
       "      <th>category</th>\n",
       "      <th>prize</th>\n",
       "      <th>motivation</th>\n",
       "      <th>prize_share</th>\n",
       "      <th>laureate_id</th>\n",
       "      <th>laureate_type</th>\n",
       "      <th>full_name</th>\n",
       "      <th>birth_date</th>\n",
       "      <th>birth_city</th>\n",
       "      <th>birth_country</th>\n",
       "      <th>sex</th>\n",
       "      <th>organization_name</th>\n",
       "      <th>organization_city</th>\n",
       "      <th>organization_country</th>\n",
       "      <th>death_date</th>\n",
       "      <th>death_city</th>\n",
       "      <th>death_country</th>\n",
       "      <th>birth_year</th>\n",
       "      <th>decade</th>\n",
       "    </tr>\n",
       "  </thead>\n",
       "  <tbody>\n",
       "    <tr>\n",
       "      <th>19</th>\n",
       "      <td>1903</td>\n",
       "      <td>Physics</td>\n",
       "      <td>The Nobel Prize in Physics 1903</td>\n",
       "      <td>\"in recognition of the extraordinary services ...</td>\n",
       "      <td>1/4</td>\n",
       "      <td>6</td>\n",
       "      <td>Individual</td>\n",
       "      <td>Marie Curie, née Sklodowska</td>\n",
       "      <td>1867-11-07</td>\n",
       "      <td>Warsaw</td>\n",
       "      <td>Russian Empire (Poland)</td>\n",
       "      <td>Female</td>\n",
       "      <td>NaN</td>\n",
       "      <td>NaN</td>\n",
       "      <td>NaN</td>\n",
       "      <td>1934-07-04</td>\n",
       "      <td>Sallanches</td>\n",
       "      <td>France</td>\n",
       "      <td>1867</td>\n",
       "      <td>1860-1870</td>\n",
       "    </tr>\n",
       "  </tbody>\n",
       "</table>\n",
       "</div>"
      ],
      "text/plain": [
       "    year category                            prize  \\\n",
       "19  1903  Physics  The Nobel Prize in Physics 1903   \n",
       "\n",
       "                                           motivation prize_share  \\\n",
       "19  \"in recognition of the extraordinary services ...         1/4   \n",
       "\n",
       "    laureate_id laureate_type                    full_name birth_date  \\\n",
       "19            6    Individual  Marie Curie, née Sklodowska 1867-11-07   \n",
       "\n",
       "   birth_city            birth_country     sex organization_name  \\\n",
       "19     Warsaw  Russian Empire (Poland)  Female               NaN   \n",
       "\n",
       "   organization_city organization_country  death_date  death_city  \\\n",
       "19               NaN                  NaN  1934-07-04  Sallanches   \n",
       "\n",
       "   death_country  birth_year     decade  \n",
       "19        France        1867  1860-1870  "
      ]
     },
     "execution_count": 104,
     "metadata": {},
     "output_type": "execute_result"
    }
   ],
   "source": [
    "female_laureates[female_laureates['year'] == 1903]"
   ]
  },
  {
   "cell_type": "markdown",
   "id": "8bec2c94-27e1-4c46-978a-998e0e1401a0",
   "metadata": {},
   "source": [
    "**Marie Curie** made history in **1903** as the first woman to be awarded a Nobel Prize, receiving the prestigious honor in the field of **Physics**."
   ]
  },
  {
   "cell_type": "markdown",
   "id": "b61c86c4-a6e5-4d07-8e8c-201b51f1ef88",
   "metadata": {},
   "source": [
    "### 5. Which individuals or organizations have won more than one Nobel Prize throughout the years?"
   ]
  },
  {
   "cell_type": "code",
   "execution_count": null,
   "id": "762cea80-e315-46af-a128-37950150e69f",
   "metadata": {},
   "outputs": [],
   "source": []
  },
  {
   "cell_type": "code",
   "execution_count": null,
   "id": "9fddaade-6e85-4430-9544-1485e286d167",
   "metadata": {},
   "outputs": [],
   "source": []
  },
  {
   "cell_type": "code",
   "execution_count": null,
   "id": "127ed7ac-559c-46f1-9f2e-6071aa320f18",
   "metadata": {},
   "outputs": [],
   "source": []
  },
  {
   "cell_type": "code",
   "execution_count": null,
   "id": "b0800c27-b309-44bb-9799-545a0248fa17",
   "metadata": {},
   "outputs": [],
   "source": []
  },
  {
   "cell_type": "code",
   "execution_count": null,
   "id": "f3a7e63e-3733-487d-aa52-ff2b89d94ae7",
   "metadata": {},
   "outputs": [],
   "source": []
  }
 ],
 "metadata": {
  "kernelspec": {
   "display_name": "Python 3 (ipykernel)",
   "language": "python",
   "name": "python3"
  },
  "language_info": {
   "codemirror_mode": {
    "name": "ipython",
    "version": 3
   },
   "file_extension": ".py",
   "mimetype": "text/x-python",
   "name": "python",
   "nbconvert_exporter": "python",
   "pygments_lexer": "ipython3",
   "version": "3.12.3"
  }
 },
 "nbformat": 4,
 "nbformat_minor": 5
}
